{
  "cells": [
    {
      "cell_type": "code",
      "execution_count": 2,
      "metadata": {
        "id": "JmZj7X6fW8u9"
      },
      "outputs": [],
      "source": [
        "import os\n",
        "from glob import glob\n",
        "\n",
        "import numpy as np\n",
        "import pandas as pd\n",
        "import matplotlib.pyplot as plt\n",
        "import seaborn as sns\n",
        "import warnings\n",
        "\n",
        "warnings.filterwarnings(action='ignore')\n",
        "plt.rcParams['axes.unicode_minus'] = False"
      ]
    },
    {
      "cell_type": "code",
      "execution_count": 2,
      "metadata": {
        "id": "eFtIHyLQXJZD"
      },
      "outputs": [],
      "source": [
        "base_path = os.getcwd()\n",
        "\n",
        "train = pd.read_csv(os.path.join(base_path, 'train.csv'))\n",
        "test = pd.read_csv(os.path.join(base_path, 'test.csv'))\n",
        "submission =  pd.read_csv(os.path.join(base_path, 'gender_submission.csv'))"
      ]
    },
    {
      "cell_type": "code",
      "execution_count": 99,
      "metadata": {
        "id": "-GkEkrLXjXOA"
      },
      "outputs": [],
      "source": [
        "test = pd.read_csv(os.path.join(base_path, 'test.csv'))"
      ]
    },
    {
      "cell_type": "markdown",
      "metadata": {
        "id": "5K4WCoLuj5Kt"
      },
      "source": [
        "# EDA\n",
        "\n"
      ]
    },
    {
      "cell_type": "code",
      "execution_count": 53,
      "metadata": {
        "colab": {
          "base_uri": "https://localhost:8080/"
        },
        "id": "eVbhEbzfXzO4",
        "outputId": "c00711f0-6bd1-4d16-9c64-1b110cbb4853"
      },
      "outputs": [
        {
          "name": "stdout",
          "output_type": "stream",
          "text": [
            "<class 'pandas.core.frame.DataFrame'>\n",
            "RangeIndex: 891 entries, 0 to 890\n",
            "Data columns (total 12 columns):\n",
            " #   Column       Non-Null Count  Dtype  \n",
            "---  ------       --------------  -----  \n",
            " 0   PassengerId  891 non-null    int64  \n",
            " 1   Survived     891 non-null    int64  \n",
            " 2   Pclass       891 non-null    int64  \n",
            " 3   Name         891 non-null    object \n",
            " 4   Sex          891 non-null    object \n",
            " 5   Age          714 non-null    float64\n",
            " 6   SibSp        891 non-null    int64  \n",
            " 7   Parch        891 non-null    int64  \n",
            " 8   Ticket       891 non-null    object \n",
            " 9   Fare         891 non-null    float64\n",
            " 10  Cabin        204 non-null    object \n",
            " 11  Embarked     889 non-null    object \n",
            "dtypes: float64(2), int64(5), object(5)\n",
            "memory usage: 83.7+ KB\n"
          ]
        }
      ],
      "source": [
        "train.info()"
      ]
    },
    {
      "cell_type": "code",
      "execution_count": 52,
      "metadata": {
        "colab": {
          "base_uri": "https://localhost:8080/",
          "height": 947
        },
        "id": "Zthgv0a6kuoj",
        "outputId": "0f50b7c6-b69a-4c93-9422-8e2343f93dc8"
      },
      "outputs": [
        {
          "data": {
            "text/html": [
              "\n",
              "  <div id=\"df-27c6999b-f001-4036-906d-ba0d0da63259\" class=\"colab-df-container\">\n",
              "    <div>\n",
              "<style scoped>\n",
              "    .dataframe tbody tr th:only-of-type {\n",
              "        vertical-align: middle;\n",
              "    }\n",
              "\n",
              "    .dataframe tbody tr th {\n",
              "        vertical-align: top;\n",
              "    }\n",
              "\n",
              "    .dataframe thead th {\n",
              "        text-align: right;\n",
              "    }\n",
              "</style>\n",
              "<table border=\"1\" class=\"dataframe\">\n",
              "  <thead>\n",
              "    <tr style=\"text-align: right;\">\n",
              "      <th></th>\n",
              "      <th>PassengerId</th>\n",
              "      <th>Survived</th>\n",
              "      <th>Pclass</th>\n",
              "      <th>Name</th>\n",
              "      <th>Sex</th>\n",
              "      <th>Age</th>\n",
              "      <th>SibSp</th>\n",
              "      <th>Parch</th>\n",
              "      <th>Ticket</th>\n",
              "      <th>Fare</th>\n",
              "      <th>Cabin</th>\n",
              "      <th>Embarked</th>\n",
              "    </tr>\n",
              "  </thead>\n",
              "  <tbody>\n",
              "    <tr>\n",
              "      <th>0</th>\n",
              "      <td>1</td>\n",
              "      <td>0</td>\n",
              "      <td>3</td>\n",
              "      <td>Braund, Mr. Owen Harris</td>\n",
              "      <td>male</td>\n",
              "      <td>22.0</td>\n",
              "      <td>1</td>\n",
              "      <td>0</td>\n",
              "      <td>A/5 21171</td>\n",
              "      <td>7.2500</td>\n",
              "      <td>NaN</td>\n",
              "      <td>S</td>\n",
              "    </tr>\n",
              "    <tr>\n",
              "      <th>1</th>\n",
              "      <td>2</td>\n",
              "      <td>1</td>\n",
              "      <td>1</td>\n",
              "      <td>Cumings, Mrs. John Bradley (Florence Briggs Th...</td>\n",
              "      <td>female</td>\n",
              "      <td>38.0</td>\n",
              "      <td>1</td>\n",
              "      <td>0</td>\n",
              "      <td>PC 17599</td>\n",
              "      <td>71.2833</td>\n",
              "      <td>C85</td>\n",
              "      <td>C</td>\n",
              "    </tr>\n",
              "    <tr>\n",
              "      <th>2</th>\n",
              "      <td>3</td>\n",
              "      <td>1</td>\n",
              "      <td>3</td>\n",
              "      <td>Heikkinen, Miss. Laina</td>\n",
              "      <td>female</td>\n",
              "      <td>26.0</td>\n",
              "      <td>0</td>\n",
              "      <td>0</td>\n",
              "      <td>STON/O2. 3101282</td>\n",
              "      <td>7.9250</td>\n",
              "      <td>NaN</td>\n",
              "      <td>S</td>\n",
              "    </tr>\n",
              "    <tr>\n",
              "      <th>3</th>\n",
              "      <td>4</td>\n",
              "      <td>1</td>\n",
              "      <td>1</td>\n",
              "      <td>Futrelle, Mrs. Jacques Heath (Lily May Peel)</td>\n",
              "      <td>female</td>\n",
              "      <td>35.0</td>\n",
              "      <td>1</td>\n",
              "      <td>0</td>\n",
              "      <td>113803</td>\n",
              "      <td>53.1000</td>\n",
              "      <td>C123</td>\n",
              "      <td>S</td>\n",
              "    </tr>\n",
              "    <tr>\n",
              "      <th>4</th>\n",
              "      <td>5</td>\n",
              "      <td>0</td>\n",
              "      <td>3</td>\n",
              "      <td>Allen, Mr. William Henry</td>\n",
              "      <td>male</td>\n",
              "      <td>35.0</td>\n",
              "      <td>0</td>\n",
              "      <td>0</td>\n",
              "      <td>373450</td>\n",
              "      <td>8.0500</td>\n",
              "      <td>NaN</td>\n",
              "      <td>S</td>\n",
              "    </tr>\n",
              "    <tr>\n",
              "      <th>...</th>\n",
              "      <td>...</td>\n",
              "      <td>...</td>\n",
              "      <td>...</td>\n",
              "      <td>...</td>\n",
              "      <td>...</td>\n",
              "      <td>...</td>\n",
              "      <td>...</td>\n",
              "      <td>...</td>\n",
              "      <td>...</td>\n",
              "      <td>...</td>\n",
              "      <td>...</td>\n",
              "      <td>...</td>\n",
              "    </tr>\n",
              "    <tr>\n",
              "      <th>886</th>\n",
              "      <td>887</td>\n",
              "      <td>0</td>\n",
              "      <td>2</td>\n",
              "      <td>Montvila, Rev. Juozas</td>\n",
              "      <td>male</td>\n",
              "      <td>27.0</td>\n",
              "      <td>0</td>\n",
              "      <td>0</td>\n",
              "      <td>211536</td>\n",
              "      <td>13.0000</td>\n",
              "      <td>NaN</td>\n",
              "      <td>S</td>\n",
              "    </tr>\n",
              "    <tr>\n",
              "      <th>887</th>\n",
              "      <td>888</td>\n",
              "      <td>1</td>\n",
              "      <td>1</td>\n",
              "      <td>Graham, Miss. Margaret Edith</td>\n",
              "      <td>female</td>\n",
              "      <td>19.0</td>\n",
              "      <td>0</td>\n",
              "      <td>0</td>\n",
              "      <td>112053</td>\n",
              "      <td>30.0000</td>\n",
              "      <td>B42</td>\n",
              "      <td>S</td>\n",
              "    </tr>\n",
              "    <tr>\n",
              "      <th>888</th>\n",
              "      <td>889</td>\n",
              "      <td>0</td>\n",
              "      <td>3</td>\n",
              "      <td>Johnston, Miss. Catherine Helen \"Carrie\"</td>\n",
              "      <td>female</td>\n",
              "      <td>NaN</td>\n",
              "      <td>1</td>\n",
              "      <td>2</td>\n",
              "      <td>W./C. 6607</td>\n",
              "      <td>23.4500</td>\n",
              "      <td>NaN</td>\n",
              "      <td>S</td>\n",
              "    </tr>\n",
              "    <tr>\n",
              "      <th>889</th>\n",
              "      <td>890</td>\n",
              "      <td>1</td>\n",
              "      <td>1</td>\n",
              "      <td>Behr, Mr. Karl Howell</td>\n",
              "      <td>male</td>\n",
              "      <td>26.0</td>\n",
              "      <td>0</td>\n",
              "      <td>0</td>\n",
              "      <td>111369</td>\n",
              "      <td>30.0000</td>\n",
              "      <td>C148</td>\n",
              "      <td>C</td>\n",
              "    </tr>\n",
              "    <tr>\n",
              "      <th>890</th>\n",
              "      <td>891</td>\n",
              "      <td>0</td>\n",
              "      <td>3</td>\n",
              "      <td>Dooley, Mr. Patrick</td>\n",
              "      <td>male</td>\n",
              "      <td>32.0</td>\n",
              "      <td>0</td>\n",
              "      <td>0</td>\n",
              "      <td>370376</td>\n",
              "      <td>7.7500</td>\n",
              "      <td>NaN</td>\n",
              "      <td>Q</td>\n",
              "    </tr>\n",
              "  </tbody>\n",
              "</table>\n",
              "<p>891 rows × 12 columns</p>\n",
              "</div>\n",
              "    <div class=\"colab-df-buttons\">\n",
              "\n",
              "  <div class=\"colab-df-container\">\n",
              "    <button class=\"colab-df-convert\" onclick=\"convertToInteractive('df-27c6999b-f001-4036-906d-ba0d0da63259')\"\n",
              "            title=\"Convert this dataframe to an interactive table.\"\n",
              "            style=\"display:none;\">\n",
              "\n",
              "  <svg xmlns=\"http://www.w3.org/2000/svg\" height=\"24px\" viewBox=\"0 -960 960 960\">\n",
              "    <path d=\"M120-120v-720h720v720H120Zm60-500h600v-160H180v160Zm220 220h160v-160H400v160Zm0 220h160v-160H400v160ZM180-400h160v-160H180v160Zm440 0h160v-160H620v160ZM180-180h160v-160H180v160Zm440 0h160v-160H620v160Z\"/>\n",
              "  </svg>\n",
              "    </button>\n",
              "\n",
              "  <style>\n",
              "    .colab-df-container {\n",
              "      display:flex;\n",
              "      gap: 12px;\n",
              "    }\n",
              "\n",
              "    .colab-df-convert {\n",
              "      background-color: #E8F0FE;\n",
              "      border: none;\n",
              "      border-radius: 50%;\n",
              "      cursor: pointer;\n",
              "      display: none;\n",
              "      fill: #1967D2;\n",
              "      height: 32px;\n",
              "      padding: 0 0 0 0;\n",
              "      width: 32px;\n",
              "    }\n",
              "\n",
              "    .colab-df-convert:hover {\n",
              "      background-color: #E2EBFA;\n",
              "      box-shadow: 0px 1px 2px rgba(60, 64, 67, 0.3), 0px 1px 3px 1px rgba(60, 64, 67, 0.15);\n",
              "      fill: #174EA6;\n",
              "    }\n",
              "\n",
              "    .colab-df-buttons div {\n",
              "      margin-bottom: 4px;\n",
              "    }\n",
              "\n",
              "    [theme=dark] .colab-df-convert {\n",
              "      background-color: #3B4455;\n",
              "      fill: #D2E3FC;\n",
              "    }\n",
              "\n",
              "    [theme=dark] .colab-df-convert:hover {\n",
              "      background-color: #434B5C;\n",
              "      box-shadow: 0px 1px 3px 1px rgba(0, 0, 0, 0.15);\n",
              "      filter: drop-shadow(0px 1px 2px rgba(0, 0, 0, 0.3));\n",
              "      fill: #FFFFFF;\n",
              "    }\n",
              "  </style>\n",
              "\n",
              "    <script>\n",
              "      const buttonEl =\n",
              "        document.querySelector('#df-27c6999b-f001-4036-906d-ba0d0da63259 button.colab-df-convert');\n",
              "      buttonEl.style.display =\n",
              "        google.colab.kernel.accessAllowed ? 'block' : 'none';\n",
              "\n",
              "      async function convertToInteractive(key) {\n",
              "        const element = document.querySelector('#df-27c6999b-f001-4036-906d-ba0d0da63259');\n",
              "        const dataTable =\n",
              "          await google.colab.kernel.invokeFunction('convertToInteractive',\n",
              "                                                    [key], {});\n",
              "        if (!dataTable) return;\n",
              "\n",
              "        const docLinkHtml = 'Like what you see? Visit the ' +\n",
              "          '<a target=\"_blank\" href=https://colab.research.google.com/notebooks/data_table.ipynb>data table notebook</a>'\n",
              "          + ' to learn more about interactive tables.';\n",
              "        element.innerHTML = '';\n",
              "        dataTable['output_type'] = 'display_data';\n",
              "        await google.colab.output.renderOutput(dataTable, element);\n",
              "        const docLink = document.createElement('div');\n",
              "        docLink.innerHTML = docLinkHtml;\n",
              "        element.appendChild(docLink);\n",
              "      }\n",
              "    </script>\n",
              "  </div>\n",
              "\n",
              "\n",
              "<div id=\"df-455d0983-0c64-4430-a400-3e37756ae5b8\">\n",
              "  <button class=\"colab-df-quickchart\" onclick=\"quickchart('df-455d0983-0c64-4430-a400-3e37756ae5b8')\"\n",
              "            title=\"Suggest charts\"\n",
              "            style=\"display:none;\">\n",
              "\n",
              "<svg xmlns=\"http://www.w3.org/2000/svg\" height=\"24px\"viewBox=\"0 0 24 24\"\n",
              "     width=\"24px\">\n",
              "    <g>\n",
              "        <path d=\"M19 3H5c-1.1 0-2 .9-2 2v14c0 1.1.9 2 2 2h14c1.1 0 2-.9 2-2V5c0-1.1-.9-2-2-2zM9 17H7v-7h2v7zm4 0h-2V7h2v10zm4 0h-2v-4h2v4z\"/>\n",
              "    </g>\n",
              "</svg>\n",
              "  </button>\n",
              "\n",
              "<style>\n",
              "  .colab-df-quickchart {\n",
              "      --bg-color: #E8F0FE;\n",
              "      --fill-color: #1967D2;\n",
              "      --hover-bg-color: #E2EBFA;\n",
              "      --hover-fill-color: #174EA6;\n",
              "      --disabled-fill-color: #AAA;\n",
              "      --disabled-bg-color: #DDD;\n",
              "  }\n",
              "\n",
              "  [theme=dark] .colab-df-quickchart {\n",
              "      --bg-color: #3B4455;\n",
              "      --fill-color: #D2E3FC;\n",
              "      --hover-bg-color: #434B5C;\n",
              "      --hover-fill-color: #FFFFFF;\n",
              "      --disabled-bg-color: #3B4455;\n",
              "      --disabled-fill-color: #666;\n",
              "  }\n",
              "\n",
              "  .colab-df-quickchart {\n",
              "    background-color: var(--bg-color);\n",
              "    border: none;\n",
              "    border-radius: 50%;\n",
              "    cursor: pointer;\n",
              "    display: none;\n",
              "    fill: var(--fill-color);\n",
              "    height: 32px;\n",
              "    padding: 0;\n",
              "    width: 32px;\n",
              "  }\n",
              "\n",
              "  .colab-df-quickchart:hover {\n",
              "    background-color: var(--hover-bg-color);\n",
              "    box-shadow: 0 1px 2px rgba(60, 64, 67, 0.3), 0 1px 3px 1px rgba(60, 64, 67, 0.15);\n",
              "    fill: var(--button-hover-fill-color);\n",
              "  }\n",
              "\n",
              "  .colab-df-quickchart-complete:disabled,\n",
              "  .colab-df-quickchart-complete:disabled:hover {\n",
              "    background-color: var(--disabled-bg-color);\n",
              "    fill: var(--disabled-fill-color);\n",
              "    box-shadow: none;\n",
              "  }\n",
              "\n",
              "  .colab-df-spinner {\n",
              "    border: 2px solid var(--fill-color);\n",
              "    border-color: transparent;\n",
              "    border-bottom-color: var(--fill-color);\n",
              "    animation:\n",
              "      spin 1s steps(1) infinite;\n",
              "  }\n",
              "\n",
              "  @keyframes spin {\n",
              "    0% {\n",
              "      border-color: transparent;\n",
              "      border-bottom-color: var(--fill-color);\n",
              "      border-left-color: var(--fill-color);\n",
              "    }\n",
              "    20% {\n",
              "      border-color: transparent;\n",
              "      border-left-color: var(--fill-color);\n",
              "      border-top-color: var(--fill-color);\n",
              "    }\n",
              "    30% {\n",
              "      border-color: transparent;\n",
              "      border-left-color: var(--fill-color);\n",
              "      border-top-color: var(--fill-color);\n",
              "      border-right-color: var(--fill-color);\n",
              "    }\n",
              "    40% {\n",
              "      border-color: transparent;\n",
              "      border-right-color: var(--fill-color);\n",
              "      border-top-color: var(--fill-color);\n",
              "    }\n",
              "    60% {\n",
              "      border-color: transparent;\n",
              "      border-right-color: var(--fill-color);\n",
              "    }\n",
              "    80% {\n",
              "      border-color: transparent;\n",
              "      border-right-color: var(--fill-color);\n",
              "      border-bottom-color: var(--fill-color);\n",
              "    }\n",
              "    90% {\n",
              "      border-color: transparent;\n",
              "      border-bottom-color: var(--fill-color);\n",
              "    }\n",
              "  }\n",
              "</style>\n",
              "\n",
              "  <script>\n",
              "    async function quickchart(key) {\n",
              "      const quickchartButtonEl =\n",
              "        document.querySelector('#' + key + ' button');\n",
              "      quickchartButtonEl.disabled = true;  // To prevent multiple clicks.\n",
              "      quickchartButtonEl.classList.add('colab-df-spinner');\n",
              "      try {\n",
              "        const charts = await google.colab.kernel.invokeFunction(\n",
              "            'suggestCharts', [key], {});\n",
              "      } catch (error) {\n",
              "        console.error('Error during call to suggestCharts:', error);\n",
              "      }\n",
              "      quickchartButtonEl.classList.remove('colab-df-spinner');\n",
              "      quickchartButtonEl.classList.add('colab-df-quickchart-complete');\n",
              "    }\n",
              "    (() => {\n",
              "      let quickchartButtonEl =\n",
              "        document.querySelector('#df-455d0983-0c64-4430-a400-3e37756ae5b8 button');\n",
              "      quickchartButtonEl.style.display =\n",
              "        google.colab.kernel.accessAllowed ? 'block' : 'none';\n",
              "    })();\n",
              "  </script>\n",
              "</div>\n",
              "    </div>\n",
              "  </div>\n"
            ],
            "text/plain": [
              "     PassengerId  Survived  Pclass  \\\n",
              "0              1         0       3   \n",
              "1              2         1       1   \n",
              "2              3         1       3   \n",
              "3              4         1       1   \n",
              "4              5         0       3   \n",
              "..           ...       ...     ...   \n",
              "886          887         0       2   \n",
              "887          888         1       1   \n",
              "888          889         0       3   \n",
              "889          890         1       1   \n",
              "890          891         0       3   \n",
              "\n",
              "                                                  Name     Sex   Age  SibSp  \\\n",
              "0                              Braund, Mr. Owen Harris    male  22.0      1   \n",
              "1    Cumings, Mrs. John Bradley (Florence Briggs Th...  female  38.0      1   \n",
              "2                               Heikkinen, Miss. Laina  female  26.0      0   \n",
              "3         Futrelle, Mrs. Jacques Heath (Lily May Peel)  female  35.0      1   \n",
              "4                             Allen, Mr. William Henry    male  35.0      0   \n",
              "..                                                 ...     ...   ...    ...   \n",
              "886                              Montvila, Rev. Juozas    male  27.0      0   \n",
              "887                       Graham, Miss. Margaret Edith  female  19.0      0   \n",
              "888           Johnston, Miss. Catherine Helen \"Carrie\"  female   NaN      1   \n",
              "889                              Behr, Mr. Karl Howell    male  26.0      0   \n",
              "890                                Dooley, Mr. Patrick    male  32.0      0   \n",
              "\n",
              "     Parch            Ticket     Fare Cabin Embarked  \n",
              "0        0         A/5 21171   7.2500   NaN        S  \n",
              "1        0          PC 17599  71.2833   C85        C  \n",
              "2        0  STON/O2. 3101282   7.9250   NaN        S  \n",
              "3        0            113803  53.1000  C123        S  \n",
              "4        0            373450   8.0500   NaN        S  \n",
              "..     ...               ...      ...   ...      ...  \n",
              "886      0            211536  13.0000   NaN        S  \n",
              "887      0            112053  30.0000   B42        S  \n",
              "888      2        W./C. 6607  23.4500   NaN        S  \n",
              "889      0            111369  30.0000  C148        C  \n",
              "890      0            370376   7.7500   NaN        Q  \n",
              "\n",
              "[891 rows x 12 columns]"
            ]
          },
          "execution_count": 52,
          "metadata": {},
          "output_type": "execute_result"
        }
      ],
      "source": [
        "train"
      ]
    },
    {
      "cell_type": "code",
      "execution_count": 58,
      "metadata": {
        "colab": {
          "base_uri": "https://localhost:8080/",
          "height": 504
        },
        "id": "W8MimtDJk8mS",
        "outputId": "fccb5212-1dac-43ee-c3c7-f985c1a6a6ec"
      },
      "outputs": [
        {
          "data": {
            "text/plain": [
              "0    549\n",
              "1    342\n",
              "Name: Survived, dtype: int64"
            ]
          },
          "execution_count": 58,
          "metadata": {},
          "output_type": "execute_result"
        },
        {
          "data": {
            "image/png": "[encoded data removed]",
            "text/plain": [
              "<Figure size 640x480 with 1 Axes>"
            ]
          },
          "metadata": {},
          "output_type": "display_data"
        }
      ],
      "source": [
        "sns.countplot(x='Survived', data=train)\n",
        "train['Survived'].value_counts()"
      ]
    },
    {
      "cell_type": "code",
      "execution_count": 59,
      "metadata": {
        "colab": {
          "base_uri": "https://localhost:8080/",
          "height": 467
        },
        "id": "ttjqgudmleUP",
        "outputId": "4fcdbaf4-76ed-48b4-9264-a9662e915ec9"
      },
      "outputs": [
        {
          "data": {
            "text/plain": [
              "<Axes: xlabel='Sex', ylabel='count'>"
            ]
          },
          "execution_count": 59,
          "metadata": {},
          "output_type": "execute_result"
        },
        {
          "data": {
            "image/png": "[encoded data removed]",
            "text/plain": [
              "<Figure size 640x480 with 1 Axes>"
            ]
          },
          "metadata": {},
          "output_type": "display_data"
        }
      ],
      "source": [
        "sns.countplot(data=train, x='Sex', hue='Survived')"
      ]
    },
    {
      "cell_type": "code",
      "execution_count": 60,
      "metadata": {
        "colab": {
          "base_uri": "https://localhost:8080/",
          "height": 467
        },
        "id": "-7gTVYrSluv5",
        "outputId": "6511a38c-d02f-4254-dfa9-37bf8354fea9"
      },
      "outputs": [
        {
          "data": {
            "text/plain": [
              "<Axes: xlabel='Pclass', ylabel='count'>"
            ]
          },
          "execution_count": 60,
          "metadata": {},
          "output_type": "execute_result"
        },
        {
          "data": {
            "image/png": "[encoded data removed]",
            "text/plain": [
              "<Figure size 640x480 with 1 Axes>"
            ]
          },
          "metadata": {},
          "output_type": "display_data"
        }
      ],
      "source": [
        "sns.countplot(data=train, x='Pclass', hue='Survived')"
      ]
    },
    {
      "cell_type": "code",
      "execution_count": 63,
      "metadata": {
        "colab": {
          "base_uri": "https://localhost:8080/",
          "height": 269
        },
        "id": "Th681-hWmH5c",
        "outputId": "3fc0ddc4-d1ab-4b75-8248-20597dde781a"
      },
      "outputs": [
        {
          "data": {
            "text/html": [
              "\n",
              "  <div id=\"df-a7637753-d791-4657-93c2-441edca5a7be\" class=\"colab-df-container\">\n",
              "    <div>\n",
              "<style scoped>\n",
              "    .dataframe tbody tr th:only-of-type {\n",
              "        vertical-align: middle;\n",
              "    }\n",
              "\n",
              "    .dataframe tbody tr th {\n",
              "        vertical-align: top;\n",
              "    }\n",
              "\n",
              "    .dataframe thead th {\n",
              "        text-align: right;\n",
              "    }\n",
              "</style>\n",
              "<table border=\"1\" class=\"dataframe\">\n",
              "  <thead>\n",
              "    <tr style=\"text-align: right;\">\n",
              "      <th></th>\n",
              "      <th>PassengerId</th>\n",
              "      <th>Survived</th>\n",
              "      <th>Pclass</th>\n",
              "      <th>Age</th>\n",
              "      <th>SibSp</th>\n",
              "      <th>Parch</th>\n",
              "      <th>Fare</th>\n",
              "    </tr>\n",
              "  </thead>\n",
              "  <tbody>\n",
              "    <tr>\n",
              "      <th>PassengerId</th>\n",
              "      <td>1.000000</td>\n",
              "      <td>-0.005007</td>\n",
              "      <td>-0.035144</td>\n",
              "      <td>0.036847</td>\n",
              "      <td>-0.057527</td>\n",
              "      <td>-0.001652</td>\n",
              "      <td>0.012658</td>\n",
              "    </tr>\n",
              "    <tr>\n",
              "      <th>Survived</th>\n",
              "      <td>-0.005007</td>\n",
              "      <td>1.000000</td>\n",
              "      <td>-0.338481</td>\n",
              "      <td>-0.077221</td>\n",
              "      <td>-0.035322</td>\n",
              "      <td>0.081629</td>\n",
              "      <td>0.257307</td>\n",
              "    </tr>\n",
              "    <tr>\n",
              "      <th>Pclass</th>\n",
              "      <td>-0.035144</td>\n",
              "      <td>-0.338481</td>\n",
              "      <td>1.000000</td>\n",
              "      <td>-0.369226</td>\n",
              "      <td>0.083081</td>\n",
              "      <td>0.018443</td>\n",
              "      <td>-0.549500</td>\n",
              "    </tr>\n",
              "    <tr>\n",
              "      <th>Age</th>\n",
              "      <td>0.036847</td>\n",
              "      <td>-0.077221</td>\n",
              "      <td>-0.369226</td>\n",
              "      <td>1.000000</td>\n",
              "      <td>-0.308247</td>\n",
              "      <td>-0.189119</td>\n",
              "      <td>0.096067</td>\n",
              "    </tr>\n",
              "    <tr>\n",
              "      <th>SibSp</th>\n",
              "      <td>-0.057527</td>\n",
              "      <td>-0.035322</td>\n",
              "      <td>0.083081</td>\n",
              "      <td>-0.308247</td>\n",
              "      <td>1.000000</td>\n",
              "      <td>0.414838</td>\n",
              "      <td>0.159651</td>\n",
              "    </tr>\n",
              "    <tr>\n",
              "      <th>Parch</th>\n",
              "      <td>-0.001652</td>\n",
              "      <td>0.081629</td>\n",
              "      <td>0.018443</td>\n",
              "      <td>-0.189119</td>\n",
              "      <td>0.414838</td>\n",
              "      <td>1.000000</td>\n",
              "      <td>0.216225</td>\n",
              "    </tr>\n",
              "    <tr>\n",
              "      <th>Fare</th>\n",
              "      <td>0.012658</td>\n",
              "      <td>0.257307</td>\n",
              "      <td>-0.549500</td>\n",
              "      <td>0.096067</td>\n",
              "      <td>0.159651</td>\n",
              "      <td>0.216225</td>\n",
              "      <td>1.000000</td>\n",
              "    </tr>\n",
              "  </tbody>\n",
              "</table>\n",
              "</div>\n",
              "    <div class=\"colab-df-buttons\">\n",
              "\n",
              "  <div class=\"colab-df-container\">\n",
              "    <button class=\"colab-df-convert\" onclick=\"convertToInteractive('df-a7637753-d791-4657-93c2-441edca5a7be')\"\n",
              "            title=\"Convert this dataframe to an interactive table.\"\n",
              "            style=\"display:none;\">\n",
              "\n",
              "  <svg xmlns=\"http://www.w3.org/2000/svg\" height=\"24px\" viewBox=\"0 -960 960 960\">\n",
              "    <path d=\"M120-120v-720h720v720H120Zm60-500h600v-160H180v160Zm220 220h160v-160H400v160Zm0 220h160v-160H400v160ZM180-400h160v-160H180v160Zm440 0h160v-160H620v160ZM180-180h160v-160H180v160Zm440 0h160v-160H620v160Z\"/>\n",
              "  </svg>\n",
              "    </button>\n",
              "\n",
              "  <style>\n",
              "    .colab-df-container {\n",
              "      display:flex;\n",
              "      gap: 12px;\n",
              "    }\n",
              "\n",
              "    .colab-df-convert {\n",
              "      background-color: #E8F0FE;\n",
              "      border: none;\n",
              "      border-radius: 50%;\n",
              "      cursor: pointer;\n",
              "      display: none;\n",
              "      fill: #1967D2;\n",
              "      height: 32px;\n",
              "      padding: 0 0 0 0;\n",
              "      width: 32px;\n",
              "    }\n",
              "\n",
              "    .colab-df-convert:hover {\n",
              "      background-color: #E2EBFA;\n",
              "      box-shadow: 0px 1px 2px rgba(60, 64, 67, 0.3), 0px 1px 3px 1px rgba(60, 64, 67, 0.15);\n",
              "      fill: #174EA6;\n",
              "    }\n",
              "\n",
              "    .colab-df-buttons div {\n",
              "      margin-bottom: 4px;\n",
              "    }\n",
              "\n",
              "    [theme=dark] .colab-df-convert {\n",
              "      background-color: #3B4455;\n",
              "      fill: #D2E3FC;\n",
              "    }\n",
              "\n",
              "    [theme=dark] .colab-df-convert:hover {\n",
              "      background-color: #434B5C;\n",
              "      box-shadow: 0px 1px 3px 1px rgba(0, 0, 0, 0.15);\n",
              "      filter: drop-shadow(0px 1px 2px rgba(0, 0, 0, 0.3));\n",
              "      fill: #FFFFFF;\n",
              "    }\n",
              "  </style>\n",
              "\n",
              "    <script>\n",
              "      const buttonEl =\n",
              "        document.querySelector('#df-a7637753-d791-4657-93c2-441edca5a7be button.colab-df-convert');\n",
              "      buttonEl.style.display =\n",
              "        google.colab.kernel.accessAllowed ? 'block' : 'none';\n",
              "\n",
              "      async function convertToInteractive(key) {\n",
              "        const element = document.querySelector('#df-a7637753-d791-4657-93c2-441edca5a7be');\n",
              "        const dataTable =\n",
              "          await google.colab.kernel.invokeFunction('convertToInteractive',\n",
              "                                                    [key], {});\n",
              "        if (!dataTable) return;\n",
              "\n",
              "        const docLinkHtml = 'Like what you see? Visit the ' +\n",
              "          '<a target=\"_blank\" href=https://colab.research.google.com/notebooks/data_table.ipynb>data table notebook</a>'\n",
              "          + ' to learn more about interactive tables.';\n",
              "        element.innerHTML = '';\n",
              "        dataTable['output_type'] = 'display_data';\n",
              "        await google.colab.output.renderOutput(dataTable, element);\n",
              "        const docLink = document.createElement('div');\n",
              "        docLink.innerHTML = docLinkHtml;\n",
              "        element.appendChild(docLink);\n",
              "      }\n",
              "    </script>\n",
              "  </div>\n",
              "\n",
              "\n",
              "<div id=\"df-ac3dafb9-266a-4b6b-9a21-2ad7e4807672\">\n",
              "  <button class=\"colab-df-quickchart\" onclick=\"quickchart('df-ac3dafb9-266a-4b6b-9a21-2ad7e4807672')\"\n",
              "            title=\"Suggest charts\"\n",
              "            style=\"display:none;\">\n",
              "\n",
              "<svg xmlns=\"http://www.w3.org/2000/svg\" height=\"24px\"viewBox=\"0 0 24 24\"\n",
              "     width=\"24px\">\n",
              "    <g>\n",
              "        <path d=\"M19 3H5c-1.1 0-2 .9-2 2v14c0 1.1.9 2 2 2h14c1.1 0 2-.9 2-2V5c0-1.1-.9-2-2-2zM9 17H7v-7h2v7zm4 0h-2V7h2v10zm4 0h-2v-4h2v4z\"/>\n",
              "    </g>\n",
              "</svg>\n",
              "  </button>\n",
              "\n",
              "<style>\n",
              "  .colab-df-quickchart {\n",
              "      --bg-color: #E8F0FE;\n",
              "      --fill-color: #1967D2;\n",
              "      --hover-bg-color: #E2EBFA;\n",
              "      --hover-fill-color: #174EA6;\n",
              "      --disabled-fill-color: #AAA;\n",
              "      --disabled-bg-color: #DDD;\n",
              "  }\n",
              "\n",
              "  [theme=dark] .colab-df-quickchart {\n",
              "      --bg-color: #3B4455;\n",
              "      --fill-color: #D2E3FC;\n",
              "      --hover-bg-color: #434B5C;\n",
              "      --hover-fill-color: #FFFFFF;\n",
              "      --disabled-bg-color: #3B4455;\n",
              "      --disabled-fill-color: #666;\n",
              "  }\n",
              "\n",
              "  .colab-df-quickchart {\n",
              "    background-color: var(--bg-color);\n",
              "    border: none;\n",
              "    border-radius: 50%;\n",
              "    cursor: pointer;\n",
              "    display: none;\n",
              "    fill: var(--fill-color);\n",
              "    height: 32px;\n",
              "    padding: 0;\n",
              "    width: 32px;\n",
              "  }\n",
              "\n",
              "  .colab-df-quickchart:hover {\n",
              "    background-color: var(--hover-bg-color);\n",
              "    box-shadow: 0 1px 2px rgba(60, 64, 67, 0.3), 0 1px 3px 1px rgba(60, 64, 67, 0.15);\n",
              "    fill: var(--button-hover-fill-color);\n",
              "  }\n",
              "\n",
              "  .colab-df-quickchart-complete:disabled,\n",
              "  .colab-df-quickchart-complete:disabled:hover {\n",
              "    background-color: var(--disabled-bg-color);\n",
              "    fill: var(--disabled-fill-color);\n",
              "    box-shadow: none;\n",
              "  }\n",
              "\n",
              "  .colab-df-spinner {\n",
              "    border: 2px solid var(--fill-color);\n",
              "    border-color: transparent;\n",
              "    border-bottom-color: var(--fill-color);\n",
              "    animation:\n",
              "      spin 1s steps(1) infinite;\n",
              "  }\n",
              "\n",
              "  @keyframes spin {\n",
              "    0% {\n",
              "      border-color: transparent;\n",
              "      border-bottom-color: var(--fill-color);\n",
              "      border-left-color: var(--fill-color);\n",
              "    }\n",
              "    20% {\n",
              "      border-color: transparent;\n",
              "      border-left-color: var(--fill-color);\n",
              "      border-top-color: var(--fill-color);\n",
              "    }\n",
              "    30% {\n",
              "      border-color: transparent;\n",
              "      border-left-color: var(--fill-color);\n",
              "      border-top-color: var(--fill-color);\n",
              "      border-right-color: var(--fill-color);\n",
              "    }\n",
              "    40% {\n",
              "      border-color: transparent;\n",
              "      border-right-color: var(--fill-color);\n",
              "      border-top-color: var(--fill-color);\n",
              "    }\n",
              "    60% {\n",
              "      border-color: transparent;\n",
              "      border-right-color: var(--fill-color);\n",
              "    }\n",
              "    80% {\n",
              "      border-color: transparent;\n",
              "      border-right-color: var(--fill-color);\n",
              "      border-bottom-color: var(--fill-color);\n",
              "    }\n",
              "    90% {\n",
              "      border-color: transparent;\n",
              "      border-bottom-color: var(--fill-color);\n",
              "    }\n",
              "  }\n",
              "</style>\n",
              "\n",
              "  <script>\n",
              "    async function quickchart(key) {\n",
              "      const quickchartButtonEl =\n",
              "        document.querySelector('#' + key + ' button');\n",
              "      quickchartButtonEl.disabled = true;  // To prevent multiple clicks.\n",
              "      quickchartButtonEl.classList.add('colab-df-spinner');\n",
              "      try {\n",
              "        const charts = await google.colab.kernel.invokeFunction(\n",
              "            'suggestCharts', [key], {});\n",
              "      } catch (error) {\n",
              "        console.error('Error during call to suggestCharts:', error);\n",
              "      }\n",
              "      quickchartButtonEl.classList.remove('colab-df-spinner');\n",
              "      quickchartButtonEl.classList.add('colab-df-quickchart-complete');\n",
              "    }\n",
              "    (() => {\n",
              "      let quickchartButtonEl =\n",
              "        document.querySelector('#df-ac3dafb9-266a-4b6b-9a21-2ad7e4807672 button');\n",
              "      quickchartButtonEl.style.display =\n",
              "        google.colab.kernel.accessAllowed ? 'block' : 'none';\n",
              "    })();\n",
              "  </script>\n",
              "</div>\n",
              "    </div>\n",
              "  </div>\n"
            ],
            "text/plain": [
              "             PassengerId  Survived    Pclass       Age     SibSp     Parch  \\\n",
              "PassengerId     1.000000 -0.005007 -0.035144  0.036847 -0.057527 -0.001652   \n",
              "Survived       -0.005007  1.000000 -0.338481 -0.077221 -0.035322  0.081629   \n",
              "Pclass         -0.035144 -0.338481  1.000000 -0.369226  0.083081  0.018443   \n",
              "Age             0.036847 -0.077221 -0.369226  1.000000 -0.308247 -0.189119   \n",
              "SibSp          -0.057527 -0.035322  0.083081 -0.308247  1.000000  0.414838   \n",
              "Parch          -0.001652  0.081629  0.018443 -0.189119  0.414838  1.000000   \n",
              "Fare            0.012658  0.257307 -0.549500  0.096067  0.159651  0.216225   \n",
              "\n",
              "                 Fare  \n",
              "PassengerId  0.012658  \n",
              "Survived     0.257307  \n",
              "Pclass      -0.549500  \n",
              "Age          0.096067  \n",
              "SibSp        0.159651  \n",
              "Parch        0.216225  \n",
              "Fare         1.000000  "
            ]
          },
          "execution_count": 63,
          "metadata": {},
          "output_type": "execute_result"
        }
      ],
      "source": [
        "train.corr()"
      ]
    },
    {
      "cell_type": "code",
      "execution_count": 61,
      "metadata": {
        "colab": {
          "base_uri": "https://localhost:8080/",
          "height": 467
        },
        "id": "Ggrieik7DfmS",
        "outputId": "1025e40c-aa04-4e6d-cd53-2a6cefdda834"
      },
      "outputs": [
        {
          "data": {
            "text/plain": [
              "<Axes: xlabel='Age', ylabel='Count'>"
            ]
          },
          "execution_count": 61,
          "metadata": {},
          "output_type": "execute_result"
        },
        {
          "data": {
            "image/png": "[encoded data removed]",
            "text/plain": [
              "<Figure size 640x480 with 1 Axes>"
            ]
          },
          "metadata": {},
          "output_type": "display_data"
        }
      ],
      "source": [
        "sns.histplot(x='Age', hue='Survived', data=train, kde=True)"
      ]
    },
    {
      "cell_type": "code",
      "execution_count": 62,
      "metadata": {
        "colab": {
          "base_uri": "https://localhost:8080/",
          "height": 467
        },
        "id": "AihKahjiD008",
        "outputId": "2571704c-3c90-4ad0-bf97-9e0c289f2558"
      },
      "outputs": [
        {
          "data": {
            "text/plain": [
              "<Axes: xlabel='Fare', ylabel='Count'>"
            ]
          },
          "execution_count": 62,
          "metadata": {},
          "output_type": "execute_result"
        },
        {
          "data": {
            "image/png": "[encoded data removed]",
            "text/plain": [
              "<Figure size 640x480 with 1 Axes>"
            ]
          },
          "metadata": {},
          "output_type": "display_data"
        }
      ],
      "source": [
        "sns.histplot(x='Fare', data=train, kde=True)"
      ]
    },
    {
      "cell_type": "code",
      "execution_count": 68,
      "metadata": {
        "colab": {
          "base_uri": "https://localhost:8080/",
          "height": 625
        },
        "id": "vlqDjv9RnE_o",
        "outputId": "fe4747f6-d834-4e85-c060-00503a0d2d28"
      },
      "outputs": [
        {
          "data": {
            "text/plain": [
              "<seaborn.axisgrid.JointGrid at 0x78c1f113bca0>"
            ]
          },
          "execution_count": 68,
          "metadata": {},
          "output_type": "execute_result"
        },
        {
          "data": {
            "image/png": "[encoded data removed]",
            "text/plain": [
              "<Figure size 600x600 with 3 Axes>"
            ]
          },
          "metadata": {},
          "output_type": "display_data"
        }
      ],
      "source": [
        "sns.jointplot(x='Age', y='Fare', data=train, hue='Survived')"
      ]
    },
    {
      "cell_type": "code",
      "execution_count": 70,
      "metadata": {
        "colab": {
          "base_uri": "https://localhost:8080/",
          "height": 467
        },
        "id": "PVbw6rmPEwhc",
        "outputId": "769b08a4-3943-4b92-c92d-ad2d686fe17d"
      },
      "outputs": [
        {
          "data": {
            "text/plain": [
              "<Axes: xlabel='SibSp', ylabel='count'>"
            ]
          },
          "execution_count": 70,
          "metadata": {},
          "output_type": "execute_result"
        },
        {
          "data": {
            "image/png": "[encoded data removed]",
            "text/plain": [
              "<Figure size 640x480 with 1 Axes>"
            ]
          },
          "metadata": {},
          "output_type": "display_data"
        }
      ],
      "source": [
        "sns.countplot(x='SibSp', hue='Survived', data=train)"
      ]
    },
    {
      "cell_type": "code",
      "execution_count": 71,
      "metadata": {
        "colab": {
          "base_uri": "https://localhost:8080/",
          "height": 467
        },
        "id": "wlS_Uz_vFD7u",
        "outputId": "4ef1f2fe-318c-40dd-e6fb-6f09cfbe3290"
      },
      "outputs": [
        {
          "data": {
            "text/plain": [
              "<Axes: xlabel='Parch', ylabel='count'>"
            ]
          },
          "execution_count": 71,
          "metadata": {},
          "output_type": "execute_result"
        },
        {
          "data": {
            "image/png": "[encoded data removed]",
            "text/plain": [
              "<Figure size 640x480 with 1 Axes>"
            ]
          },
          "metadata": {},
          "output_type": "display_data"
        }
      ],
      "source": [
        "sns.countplot(x='Parch', hue='Survived', data=train)"
      ]
    },
    {
      "cell_type": "code",
      "execution_count": 69,
      "metadata": {
        "colab": {
          "base_uri": "https://localhost:8080/",
          "height": 467
        },
        "id": "D1gWNL-voUpt",
        "outputId": "e054396b-bfcc-49bb-d952-a412ccb6e74f"
      },
      "outputs": [
        {
          "data": {
            "text/plain": [
              "<Axes: xlabel='FamilySize', ylabel='count'>"
            ]
          },
          "execution_count": 69,
          "metadata": {},
          "output_type": "execute_result"
        },
        {
          "data": {
            "image/png": "[encoded data removed]",
            "text/plain": [
              "<Figure size 640x480 with 1 Axes>"
            ]
          },
          "metadata": {},
          "output_type": "display_data"
        }
      ],
      "source": [
        "sns.countplot(data=train, x='FamilySize',hue='Survived')"
      ]
    },
    {
      "cell_type": "code",
      "execution_count": null,
      "metadata": {
        "colab": {
          "base_uri": "https://localhost:8080/",
          "height": 467
        },
        "id": "-1pWvtQdgQ6M",
        "outputId": "486acc04-8db0-4eea-fa6d-cdd1ad94c109"
      },
      "outputs": [
        {
          "data": {
            "text/plain": [
              "<Axes: xlabel='Embarked', ylabel='count'>"
            ]
          },
          "execution_count": 19,
          "metadata": {},
          "output_type": "execute_result"
        },
        {
          "data": {
            "image/png": "[encoded data removed]",
            "text/plain": [
              "<Figure size 640x480 with 1 Axes>"
            ]
          },
          "metadata": {},
          "output_type": "display_data"
        }
      ],
      "source": [
        "sns.countplot(x='Embarked', hue='Survived', data=train)"
      ]
    },
    {
      "cell_type": "markdown",
      "metadata": {
        "id": "4M8GQE0lX4rB"
      },
      "source": [
        "# Data Preprocessing & Feature Engineering"
      ]
    },
    {
      "cell_type": "markdown",
      "metadata": {
        "id": "YJ4QTvuoX_4O"
      },
      "source": [
        "## Missing Value"
      ]
    },
    {
      "cell_type": "code",
      "execution_count": 92,
      "metadata": {
        "colab": {
          "base_uri": "https://localhost:8080/"
        },
        "id": "KP2e_QNnjsB6",
        "outputId": "e54e854d-e8d0-4070-cf0c-7132bbe35880"
      },
      "outputs": [
        {
          "name": "stdout",
          "output_type": "stream",
          "text": [
            "<class 'pandas.core.frame.DataFrame'>\n",
            "RangeIndex: 891 entries, 0 to 890\n",
            "Data columns (total 14 columns):\n",
            " #   Column       Non-Null Count  Dtype  \n",
            "---  ------       --------------  -----  \n",
            " 0   PassengerId  891 non-null    int64  \n",
            " 1   Survived     891 non-null    int64  \n",
            " 2   Pclass       891 non-null    int64  \n",
            " 3   Name         891 non-null    object \n",
            " 4   Sex          891 non-null    object \n",
            " 5   Age          891 non-null    float64\n",
            " 6   SibSp        891 non-null    int64  \n",
            " 7   Parch        891 non-null    int64  \n",
            " 8   Ticket       891 non-null    object \n",
            " 9   Fare         891 non-null    float64\n",
            " 10  Cabin        204 non-null    object \n",
            " 11  Embarked     889 non-null    object \n",
            " 12  FamilySize   891 non-null    int64  \n",
            " 13  Nuclear      891 non-null    int64  \n",
            "dtypes: float64(2), int64(7), object(5)\n",
            "memory usage: 97.6+ KB\n"
          ]
        }
      ],
      "source": [
        "train.info()"
      ]
    },
    {
      "cell_type": "code",
      "execution_count": 3,
      "metadata": {
        "id": "muHSTCbEhXhQ"
      },
      "outputs": [],
      "source": [
        "train['FamilySize'] = train['SibSp'] + train['Parch'] + 1\n",
        "train['Nuclear'] = train['FamilySize'].apply(lambda x: 1 if x >=2 and x <= 4 else 0)"
      ]
    },
    {
      "cell_type": "code",
      "execution_count": 86,
      "metadata": {
        "colab": {
          "base_uri": "https://localhost:8080/",
          "height": 467
        },
        "id": "A0AoLa5Oq9EP",
        "outputId": "effd592c-06a0-407b-f662-2150b102ac79"
      },
      "outputs": [
        {
          "data": {
            "text/plain": [
              "<Axes: xlabel='Nuclear', ylabel='count'>"
            ]
          },
          "execution_count": 86,
          "metadata": {},
          "output_type": "execute_result"
        },
        {
          "data": {
            "image/png": "[encoded data removed]",
            "text/plain": [
              "<Figure size 640x480 with 1 Axes>"
            ]
          },
          "metadata": {},
          "output_type": "display_data"
        }
      ],
      "source": [
        "sns.countplot(x='Nuclear', data=train, hue='Survived')"
      ]
    },
    {
      "cell_type": "code",
      "execution_count": 78,
      "metadata": {
        "colab": {
          "base_uri": "https://localhost:8080/"
        },
        "id": "7NCyjvHqh8mG",
        "outputId": "40d9e633-b52e-47f6-cb06-04d0cd568c15"
      },
      "outputs": [
        {
          "name": "stdout",
          "output_type": "stream",
          "text": [
            "<class 'pandas.core.frame.DataFrame'>\n",
            "RangeIndex: 418 entries, 0 to 417\n",
            "Data columns (total 11 columns):\n",
            " #   Column       Non-Null Count  Dtype  \n",
            "---  ------       --------------  -----  \n",
            " 0   PassengerId  418 non-null    int64  \n",
            " 1   Pclass       418 non-null    int64  \n",
            " 2   Name         418 non-null    object \n",
            " 3   Sex          418 non-null    object \n",
            " 4   Age          332 non-null    float64\n",
            " 5   SibSp        418 non-null    int64  \n",
            " 6   Parch        418 non-null    int64  \n",
            " 7   Ticket       418 non-null    object \n",
            " 8   Fare         417 non-null    float64\n",
            " 9   Cabin        91 non-null     object \n",
            " 10  Embarked     418 non-null    object \n",
            "dtypes: float64(2), int64(4), object(5)\n",
            "memory usage: 36.0+ KB\n"
          ]
        }
      ],
      "source": [
        "test.info()"
      ]
    },
    {
      "cell_type": "code",
      "execution_count": 4,
      "metadata": {
        "colab": {
          "base_uri": "https://localhost:8080/"
        },
        "id": "IpMUZ94Wyksf",
        "outputId": "1c35bf48-29d3-4d55-d55f-fce705f34c4b"
      },
      "outputs": [
        {
          "data": {
            "text/plain": [
              "0"
            ]
          },
          "execution_count": 4,
          "metadata": {},
          "output_type": "execute_result"
        }
      ],
      "source": [
        "# Age, Cabin, Embarked has missing Value\n",
        "# First Age columns\n",
        "age_mean = train.groupby(['Pclass', 'Sex'])['Age'].mean()\n",
        "train['Age'] = train.apply(\n",
        "    lambda row: age_mean.loc[(row['Pclass'], row['Sex'])] if pd.isna(row['Age']) else row['Age'],\n",
        "    axis=1\n",
        ")\n",
        "train['Age'].isna().sum()"
      ]
    },
    {
      "cell_type": "code",
      "execution_count": 5,
      "metadata": {
        "colab": {
          "base_uri": "https://localhost:8080/"
        },
        "id": "i5CpT_Xc7QLO",
        "outputId": "6e44d9fe-ce5b-488c-d6e1-7698cadc06ab"
      },
      "outputs": [
        {
          "data": {
            "text/plain": [
              "0"
            ]
          },
          "execution_count": 5,
          "metadata": {},
          "output_type": "execute_result"
        }
      ],
      "source": [
        "train['Embarked'] = train['Embarked'].fillna(train['Embarked'].mode()[0])\n",
        "train['Embarked'].isna().sum()"
      ]
    },
    {
      "cell_type": "code",
      "execution_count": 6,
      "metadata": {
        "colab": {
          "base_uri": "https://localhost:8080/",
          "height": 481
        },
        "id": "eAQ8N38MuOGY",
        "outputId": "6201eef3-b76e-481a-f12d-86509a487ec7"
      },
      "outputs": [
        {
          "data": {
            "text/plain": [
              "<Axes: xlabel='Name', ylabel='count'>"
            ]
          },
          "execution_count": 6,
          "metadata": {},
          "output_type": "execute_result"
        },
        {
          "data": {
            "image/png": "[encoded data removed]",
            "text/plain": [
              "<Figure size 1200x600 with 1 Axes>"
            ]
          },
          "metadata": {},
          "output_type": "display_data"
        }
      ],
      "source": [
        "train['Name'] = train.Name.str.split(', ').str[1].str.split('. ').str[0]\n",
        "train['Master'] = train.Name.apply(lambda x: 1 if x == 'Master' else 0)\n",
        "plt.figure(figsize=(12, 6))\n",
        "sns.countplot(data=train, x='Name', hue='Survived')"
      ]
    },
    {
      "cell_type": "code",
      "execution_count": 7,
      "metadata": {
        "id": "aGDP2hDq-aHZ"
      },
      "outputs": [],
      "source": [
        "# 보\n",
        "train.loc[(train['Age'] < 21.75), 'Age'] = 0\n",
        "train.loc[(train['Age'] >= 21.75) & (train['Age'] < 26.508), 'Age'] = 1\n",
        "train.loc[(train['Age'] >= 26.508) & (train['Age'] < 36.0), 'Age'] = 2\n",
        "train.loc[(train['Age'] >= 36.0), 'Age'] = 3\n",
        "\n",
        "# train.loc[(train['Fare'] < 7.854), 'Fare'] = 0\n",
        "# train.loc[(train['Fare'] >= 7.854) & (train['Fare'] < 10.5), 'Fare'] = 1\n",
        "# train.loc[(train['Fare'] >= 10.5) & (train['Fare'] < 21.075), 'Fare'] = 2\n",
        "# train.loc[(train['Fare'] >= 21.075) & (train['Fare'] < 39.688), 'Fare'] = 3\n",
        "# train.loc[(train['Fare'] >= 39.688), 'Fare'] = 4\n",
        "\n",
        "# train['Age'].value_counts(), pd.qcut(train['Fare'], 5).value_counts()"
      ]
    },
    {
      "cell_type": "code",
      "execution_count": 8,
      "metadata": {
        "colab": {
          "base_uri": "https://localhost:8080/",
          "height": 206
        },
        "id": "LH3IpQnC7ebJ",
        "outputId": "77dd1ed3-2662-4e3d-ba9d-ecd0b604afb5"
      },
      "outputs": [
        {
          "data": {
            "text/html": [
              "\n",
              "  <div id=\"df-6155dba7-e111-43ef-ba0f-46a1b28e689f\" class=\"colab-df-container\">\n",
              "    <div>\n",
              "<style scoped>\n",
              "    .dataframe tbody tr th:only-of-type {\n",
              "        vertical-align: middle;\n",
              "    }\n",
              "\n",
              "    .dataframe tbody tr th {\n",
              "        vertical-align: top;\n",
              "    }\n",
              "\n",
              "    .dataframe thead th {\n",
              "        text-align: right;\n",
              "    }\n",
              "</style>\n",
              "<table border=\"1\" class=\"dataframe\">\n",
              "  <thead>\n",
              "    <tr style=\"text-align: right;\">\n",
              "      <th></th>\n",
              "      <th>Survived</th>\n",
              "      <th>Sex</th>\n",
              "      <th>Age</th>\n",
              "      <th>Fare</th>\n",
              "      <th>Embarked</th>\n",
              "      <th>Nuclear</th>\n",
              "      <th>Master</th>\n",
              "      <th>Pclass_1</th>\n",
              "      <th>Pclass_2</th>\n",
              "      <th>Pclass_3</th>\n",
              "    </tr>\n",
              "  </thead>\n",
              "  <tbody>\n",
              "    <tr>\n",
              "      <th>0</th>\n",
              "      <td>0</td>\n",
              "      <td>0</td>\n",
              "      <td>1.0</td>\n",
              "      <td>7.2500</td>\n",
              "      <td>S</td>\n",
              "      <td>1</td>\n",
              "      <td>0</td>\n",
              "      <td>0</td>\n",
              "      <td>0</td>\n",
              "      <td>1</td>\n",
              "    </tr>\n",
              "    <tr>\n",
              "      <th>1</th>\n",
              "      <td>1</td>\n",
              "      <td>1</td>\n",
              "      <td>3.0</td>\n",
              "      <td>71.2833</td>\n",
              "      <td>C</td>\n",
              "      <td>1</td>\n",
              "      <td>0</td>\n",
              "      <td>1</td>\n",
              "      <td>0</td>\n",
              "      <td>0</td>\n",
              "    </tr>\n",
              "    <tr>\n",
              "      <th>2</th>\n",
              "      <td>1</td>\n",
              "      <td>1</td>\n",
              "      <td>1.0</td>\n",
              "      <td>7.9250</td>\n",
              "      <td>S</td>\n",
              "      <td>0</td>\n",
              "      <td>0</td>\n",
              "      <td>0</td>\n",
              "      <td>0</td>\n",
              "      <td>1</td>\n",
              "    </tr>\n",
              "    <tr>\n",
              "      <th>3</th>\n",
              "      <td>1</td>\n",
              "      <td>1</td>\n",
              "      <td>2.0</td>\n",
              "      <td>53.1000</td>\n",
              "      <td>S</td>\n",
              "      <td>1</td>\n",
              "      <td>0</td>\n",
              "      <td>1</td>\n",
              "      <td>0</td>\n",
              "      <td>0</td>\n",
              "    </tr>\n",
              "    <tr>\n",
              "      <th>4</th>\n",
              "      <td>0</td>\n",
              "      <td>0</td>\n",
              "      <td>2.0</td>\n",
              "      <td>8.0500</td>\n",
              "      <td>S</td>\n",
              "      <td>0</td>\n",
              "      <td>0</td>\n",
              "      <td>0</td>\n",
              "      <td>0</td>\n",
              "      <td>1</td>\n",
              "    </tr>\n",
              "  </tbody>\n",
              "</table>\n",
              "</div>\n",
              "    <div class=\"colab-df-buttons\">\n",
              "\n",
              "  <div class=\"colab-df-container\">\n",
              "    <button class=\"colab-df-convert\" onclick=\"convertToInteractive('df-6155dba7-e111-43ef-ba0f-46a1b28e689f')\"\n",
              "            title=\"Convert this dataframe to an interactive table.\"\n",
              "            style=\"display:none;\">\n",
              "\n",
              "  <svg xmlns=\"http://www.w3.org/2000/svg\" height=\"24px\" viewBox=\"0 -960 960 960\">\n",
              "    <path d=\"M120-120v-720h720v720H120Zm60-500h600v-160H180v160Zm220 220h160v-160H400v160Zm0 220h160v-160H400v160ZM180-400h160v-160H180v160Zm440 0h160v-160H620v160ZM180-180h160v-160H180v160Zm440 0h160v-160H620v160Z\"/>\n",
              "  </svg>\n",
              "    </button>\n",
              "\n",
              "  <style>\n",
              "    .colab-df-container {\n",
              "      display:flex;\n",
              "      gap: 12px;\n",
              "    }\n",
              "\n",
              "    .colab-df-convert {\n",
              "      background-color: #E8F0FE;\n",
              "      border: none;\n",
              "      border-radius: 50%;\n",
              "      cursor: pointer;\n",
              "      display: none;\n",
              "      fill: #1967D2;\n",
              "      height: 32px;\n",
              "      padding: 0 0 0 0;\n",
              "      width: 32px;\n",
              "    }\n",
              "\n",
              "    .colab-df-convert:hover {\n",
              "      background-color: #E2EBFA;\n",
              "      box-shadow: 0px 1px 2px rgba(60, 64, 67, 0.3), 0px 1px 3px 1px rgba(60, 64, 67, 0.15);\n",
              "      fill: #174EA6;\n",
              "    }\n",
              "\n",
              "    .colab-df-buttons div {\n",
              "      margin-bottom: 4px;\n",
              "    }\n",
              "\n",
              "    [theme=dark] .colab-df-convert {\n",
              "      background-color: #3B4455;\n",
              "      fill: #D2E3FC;\n",
              "    }\n",
              "\n",
              "    [theme=dark] .colab-df-convert:hover {\n",
              "      background-color: #434B5C;\n",
              "      box-shadow: 0px 1px 3px 1px rgba(0, 0, 0, 0.15);\n",
              "      filter: drop-shadow(0px 1px 2px rgba(0, 0, 0, 0.3));\n",
              "      fill: #FFFFFF;\n",
              "    }\n",
              "  </style>\n",
              "\n",
              "    <script>\n",
              "      const buttonEl =\n",
              "        document.querySelector('#df-6155dba7-e111-43ef-ba0f-46a1b28e689f button.colab-df-convert');\n",
              "      buttonEl.style.display =\n",
              "        google.colab.kernel.accessAllowed ? 'block' : 'none';\n",
              "\n",
              "      async function convertToInteractive(key) {\n",
              "        const element = document.querySelector('#df-6155dba7-e111-43ef-ba0f-46a1b28e689f');\n",
              "        const dataTable =\n",
              "          await google.colab.kernel.invokeFunction('convertToInteractive',\n",
              "                                                    [key], {});\n",
              "        if (!dataTable) return;\n",
              "\n",
              "        const docLinkHtml = 'Like what you see? Visit the ' +\n",
              "          '<a target=\"_blank\" href=https://colab.research.google.com/notebooks/data_table.ipynb>data table notebook</a>'\n",
              "          + ' to learn more about interactive tables.';\n",
              "        element.innerHTML = '';\n",
              "        dataTable['output_type'] = 'display_data';\n",
              "        await google.colab.output.renderOutput(dataTable, element);\n",
              "        const docLink = document.createElement('div');\n",
              "        docLink.innerHTML = docLinkHtml;\n",
              "        element.appendChild(docLink);\n",
              "      }\n",
              "    </script>\n",
              "  </div>\n",
              "\n",
              "\n",
              "<div id=\"df-08d753ae-2286-42a6-b70d-63254c5e27b2\">\n",
              "  <button class=\"colab-df-quickchart\" onclick=\"quickchart('df-08d753ae-2286-42a6-b70d-63254c5e27b2')\"\n",
              "            title=\"Suggest charts\"\n",
              "            style=\"display:none;\">\n",
              "\n",
              "<svg xmlns=\"http://www.w3.org/2000/svg\" height=\"24px\"viewBox=\"0 0 24 24\"\n",
              "     width=\"24px\">\n",
              "    <g>\n",
              "        <path d=\"M19 3H5c-1.1 0-2 .9-2 2v14c0 1.1.9 2 2 2h14c1.1 0 2-.9 2-2V5c0-1.1-.9-2-2-2zM9 17H7v-7h2v7zm4 0h-2V7h2v10zm4 0h-2v-4h2v4z\"/>\n",
              "    </g>\n",
              "</svg>\n",
              "  </button>\n",
              "\n",
              "<style>\n",
              "  .colab-df-quickchart {\n",
              "      --bg-color: #E8F0FE;\n",
              "      --fill-color: #1967D2;\n",
              "      --hover-bg-color: #E2EBFA;\n",
              "      --hover-fill-color: #174EA6;\n",
              "      --disabled-fill-color: #AAA;\n",
              "      --disabled-bg-color: #DDD;\n",
              "  }\n",
              "\n",
              "  [theme=dark] .colab-df-quickchart {\n",
              "      --bg-color: #3B4455;\n",
              "      --fill-color: #D2E3FC;\n",
              "      --hover-bg-color: #434B5C;\n",
              "      --hover-fill-color: #FFFFFF;\n",
              "      --disabled-bg-color: #3B4455;\n",
              "      --disabled-fill-color: #666;\n",
              "  }\n",
              "\n",
              "  .colab-df-quickchart {\n",
              "    background-color: var(--bg-color);\n",
              "    border: none;\n",
              "    border-radius: 50%;\n",
              "    cursor: pointer;\n",
              "    display: none;\n",
              "    fill: var(--fill-color);\n",
              "    height: 32px;\n",
              "    padding: 0;\n",
              "    width: 32px;\n",
              "  }\n",
              "\n",
              "  .colab-df-quickchart:hover {\n",
              "    background-color: var(--hover-bg-color);\n",
              "    box-shadow: 0 1px 2px rgba(60, 64, 67, 0.3), 0 1px 3px 1px rgba(60, 64, 67, 0.15);\n",
              "    fill: var(--button-hover-fill-color);\n",
              "  }\n",
              "\n",
              "  .colab-df-quickchart-complete:disabled,\n",
              "  .colab-df-quickchart-complete:disabled:hover {\n",
              "    background-color: var(--disabled-bg-color);\n",
              "    fill: var(--disabled-fill-color);\n",
              "    box-shadow: none;\n",
              "  }\n",
              "\n",
              "  .colab-df-spinner {\n",
              "    border: 2px solid var(--fill-color);\n",
              "    border-color: transparent;\n",
              "    border-bottom-color: var(--fill-color);\n",
              "    animation:\n",
              "      spin 1s steps(1) infinite;\n",
              "  }\n",
              "\n",
              "  @keyframes spin {\n",
              "    0% {\n",
              "      border-color: transparent;\n",
              "      border-bottom-color: var(--fill-color);\n",
              "      border-left-color: var(--fill-color);\n",
              "    }\n",
              "    20% {\n",
              "      border-color: transparent;\n",
              "      border-left-color: var(--fill-color);\n",
              "      border-top-color: var(--fill-color);\n",
              "    }\n",
              "    30% {\n",
              "      border-color: transparent;\n",
              "      border-left-color: var(--fill-color);\n",
              "      border-top-color: var(--fill-color);\n",
              "      border-right-color: var(--fill-color);\n",
              "    }\n",
              "    40% {\n",
              "      border-color: transparent;\n",
              "      border-right-color: var(--fill-color);\n",
              "      border-top-color: var(--fill-color);\n",
              "    }\n",
              "    60% {\n",
              "      border-color: transparent;\n",
              "      border-right-color: var(--fill-color);\n",
              "    }\n",
              "    80% {\n",
              "      border-color: transparent;\n",
              "      border-right-color: var(--fill-color);\n",
              "      border-bottom-color: var(--fill-color);\n",
              "    }\n",
              "    90% {\n",
              "      border-color: transparent;\n",
              "      border-bottom-color: var(--fill-color);\n",
              "    }\n",
              "  }\n",
              "</style>\n",
              "\n",
              "  <script>\n",
              "    async function quickchart(key) {\n",
              "      const quickchartButtonEl =\n",
              "        document.querySelector('#' + key + ' button');\n",
              "      quickchartButtonEl.disabled = true;  // To prevent multiple clicks.\n",
              "      quickchartButtonEl.classList.add('colab-df-spinner');\n",
              "      try {\n",
              "        const charts = await google.colab.kernel.invokeFunction(\n",
              "            'suggestCharts', [key], {});\n",
              "      } catch (error) {\n",
              "        console.error('Error during call to suggestCharts:', error);\n",
              "      }\n",
              "      quickchartButtonEl.classList.remove('colab-df-spinner');\n",
              "      quickchartButtonEl.classList.add('colab-df-quickchart-complete');\n",
              "    }\n",
              "    (() => {\n",
              "      let quickchartButtonEl =\n",
              "        document.querySelector('#df-08d753ae-2286-42a6-b70d-63254c5e27b2 button');\n",
              "      quickchartButtonEl.style.display =\n",
              "        google.colab.kernel.accessAllowed ? 'block' : 'none';\n",
              "    })();\n",
              "  </script>\n",
              "</div>\n",
              "    </div>\n",
              "  </div>\n"
            ],
            "text/plain": [
              "   Survived Sex  Age     Fare Embarked  Nuclear  Master  Pclass_1  Pclass_2  \\\n",
              "0         0   0  1.0   7.2500        S        1       0         0         0   \n",
              "1         1   1  3.0  71.2833        C        1       0         1         0   \n",
              "2         1   1  1.0   7.9250        S        0       0         0         0   \n",
              "3         1   1  2.0  53.1000        S        1       0         1         0   \n",
              "4         0   0  2.0   8.0500        S        0       0         0         0   \n",
              "\n",
              "   Pclass_3  \n",
              "0         1  \n",
              "1         0  \n",
              "2         1  \n",
              "3         0  \n",
              "4         1  "
            ]
          },
          "execution_count": 8,
          "metadata": {},
          "output_type": "execute_result"
        }
      ],
      "source": [
        "train.loc[train['Sex'] == 'male', 'Sex'] = 0\n",
        "train.loc[train['Sex'] == 'female', 'Sex'] = 1\n",
        "\n",
        "df_pclass = pd.get_dummies(train['Pclass'])\n",
        "df_pclass = df_pclass.rename(columns={1 : 'Pclass_1', 2 : 'Pclass_2', 3 : 'Pclass_3'})\n",
        "\n",
        "train = train.drop(columns = ['PassengerId', 'Name', 'Cabin', 'Ticket', 'SibSp', 'Parch', 'FamilySize', 'Pclass'])\n",
        "train = pd.concat([train, df_pclass], axis=1)\n",
        "train.head()"
      ]
    },
    {
      "cell_type": "code",
      "execution_count": 9,
      "metadata": {
        "colab": {
          "base_uri": "https://localhost:8080/"
        },
        "id": "rWSXESS98qwg",
        "outputId": "82b752df-7887-4881-d09b-4f1677d7b210"
      },
      "outputs": [
        {
          "data": {
            "text/plain": [
              "Survived    0\n",
              "Sex         0\n",
              "Age         0\n",
              "Fare        0\n",
              "Embarked    0\n",
              "Nuclear     0\n",
              "Master      0\n",
              "Pclass_1    0\n",
              "Pclass_2    0\n",
              "Pclass_3    0\n",
              "dtype: int64"
            ]
          },
          "execution_count": 9,
          "metadata": {},
          "output_type": "execute_result"
        }
      ],
      "source": [
        "train.isna().sum()"
      ]
    },
    {
      "cell_type": "code",
      "execution_count": 10,
      "metadata": {
        "id": "ZDWVhCJQgaWD"
      },
      "outputs": [],
      "source": [
        "X = pd.get_dummies(train.drop(columns=['Survived']))\n",
        "y = train['Survived']"
      ]
    },
    {
      "cell_type": "code",
      "execution_count": 11,
      "metadata": {
        "colab": {
          "base_uri": "https://localhost:8080/",
          "height": 444
        },
        "id": "PfqK-ubP-hp7",
        "outputId": "3f706ddb-5fbe-440a-fa36-a1784462cbf0"
      },
      "outputs": [
        {
          "data": {
            "text/html": [
              "\n",
              "  <div id=\"df-c8c24bb3-7972-4768-9df6-1956f022adf8\" class=\"colab-df-container\">\n",
              "    <div>\n",
              "<style scoped>\n",
              "    .dataframe tbody tr th:only-of-type {\n",
              "        vertical-align: middle;\n",
              "    }\n",
              "\n",
              "    .dataframe tbody tr th {\n",
              "        vertical-align: top;\n",
              "    }\n",
              "\n",
              "    .dataframe thead th {\n",
              "        text-align: right;\n",
              "    }\n",
              "</style>\n",
              "<table border=\"1\" class=\"dataframe\">\n",
              "  <thead>\n",
              "    <tr style=\"text-align: right;\">\n",
              "      <th></th>\n",
              "      <th>Age</th>\n",
              "      <th>Fare</th>\n",
              "      <th>Nuclear</th>\n",
              "      <th>Master</th>\n",
              "      <th>Pclass_1</th>\n",
              "      <th>Pclass_2</th>\n",
              "      <th>Pclass_3</th>\n",
              "      <th>Sex_0</th>\n",
              "      <th>Sex_1</th>\n",
              "      <th>Embarked_C</th>\n",
              "      <th>Embarked_Q</th>\n",
              "      <th>Embarked_S</th>\n",
              "    </tr>\n",
              "  </thead>\n",
              "  <tbody>\n",
              "    <tr>\n",
              "      <th>0</th>\n",
              "      <td>1.0</td>\n",
              "      <td>7.2500</td>\n",
              "      <td>1</td>\n",
              "      <td>0</td>\n",
              "      <td>0</td>\n",
              "      <td>0</td>\n",
              "      <td>1</td>\n",
              "      <td>1</td>\n",
              "      <td>0</td>\n",
              "      <td>0</td>\n",
              "      <td>0</td>\n",
              "      <td>1</td>\n",
              "    </tr>\n",
              "    <tr>\n",
              "      <th>1</th>\n",
              "      <td>3.0</td>\n",
              "      <td>71.2833</td>\n",
              "      <td>1</td>\n",
              "      <td>0</td>\n",
              "      <td>1</td>\n",
              "      <td>0</td>\n",
              "      <td>0</td>\n",
              "      <td>0</td>\n",
              "      <td>1</td>\n",
              "      <td>1</td>\n",
              "      <td>0</td>\n",
              "      <td>0</td>\n",
              "    </tr>\n",
              "    <tr>\n",
              "      <th>2</th>\n",
              "      <td>1.0</td>\n",
              "      <td>7.9250</td>\n",
              "      <td>0</td>\n",
              "      <td>0</td>\n",
              "      <td>0</td>\n",
              "      <td>0</td>\n",
              "      <td>1</td>\n",
              "      <td>0</td>\n",
              "      <td>1</td>\n",
              "      <td>0</td>\n",
              "      <td>0</td>\n",
              "      <td>1</td>\n",
              "    </tr>\n",
              "    <tr>\n",
              "      <th>3</th>\n",
              "      <td>2.0</td>\n",
              "      <td>53.1000</td>\n",
              "      <td>1</td>\n",
              "      <td>0</td>\n",
              "      <td>1</td>\n",
              "      <td>0</td>\n",
              "      <td>0</td>\n",
              "      <td>0</td>\n",
              "      <td>1</td>\n",
              "      <td>0</td>\n",
              "      <td>0</td>\n",
              "      <td>1</td>\n",
              "    </tr>\n",
              "    <tr>\n",
              "      <th>4</th>\n",
              "      <td>2.0</td>\n",
              "      <td>8.0500</td>\n",
              "      <td>0</td>\n",
              "      <td>0</td>\n",
              "      <td>0</td>\n",
              "      <td>0</td>\n",
              "      <td>1</td>\n",
              "      <td>1</td>\n",
              "      <td>0</td>\n",
              "      <td>0</td>\n",
              "      <td>0</td>\n",
              "      <td>1</td>\n",
              "    </tr>\n",
              "    <tr>\n",
              "      <th>...</th>\n",
              "      <td>...</td>\n",
              "      <td>...</td>\n",
              "      <td>...</td>\n",
              "      <td>...</td>\n",
              "      <td>...</td>\n",
              "      <td>...</td>\n",
              "      <td>...</td>\n",
              "      <td>...</td>\n",
              "      <td>...</td>\n",
              "      <td>...</td>\n",
              "      <td>...</td>\n",
              "      <td>...</td>\n",
              "    </tr>\n",
              "    <tr>\n",
              "      <th>886</th>\n",
              "      <td>2.0</td>\n",
              "      <td>13.0000</td>\n",
              "      <td>0</td>\n",
              "      <td>0</td>\n",
              "      <td>0</td>\n",
              "      <td>1</td>\n",
              "      <td>0</td>\n",
              "      <td>1</td>\n",
              "      <td>0</td>\n",
              "      <td>0</td>\n",
              "      <td>0</td>\n",
              "      <td>1</td>\n",
              "    </tr>\n",
              "    <tr>\n",
              "      <th>887</th>\n",
              "      <td>0.0</td>\n",
              "      <td>30.0000</td>\n",
              "      <td>0</td>\n",
              "      <td>0</td>\n",
              "      <td>1</td>\n",
              "      <td>0</td>\n",
              "      <td>0</td>\n",
              "      <td>0</td>\n",
              "      <td>1</td>\n",
              "      <td>0</td>\n",
              "      <td>0</td>\n",
              "      <td>1</td>\n",
              "    </tr>\n",
              "    <tr>\n",
              "      <th>888</th>\n",
              "      <td>1.0</td>\n",
              "      <td>23.4500</td>\n",
              "      <td>1</td>\n",
              "      <td>0</td>\n",
              "      <td>0</td>\n",
              "      <td>0</td>\n",
              "      <td>1</td>\n",
              "      <td>0</td>\n",
              "      <td>1</td>\n",
              "      <td>0</td>\n",
              "      <td>0</td>\n",
              "      <td>1</td>\n",
              "    </tr>\n",
              "    <tr>\n",
              "      <th>889</th>\n",
              "      <td>1.0</td>\n",
              "      <td>30.0000</td>\n",
              "      <td>0</td>\n",
              "      <td>0</td>\n",
              "      <td>1</td>\n",
              "      <td>0</td>\n",
              "      <td>0</td>\n",
              "      <td>1</td>\n",
              "      <td>0</td>\n",
              "      <td>1</td>\n",
              "      <td>0</td>\n",
              "      <td>0</td>\n",
              "    </tr>\n",
              "    <tr>\n",
              "      <th>890</th>\n",
              "      <td>2.0</td>\n",
              "      <td>7.7500</td>\n",
              "      <td>0</td>\n",
              "      <td>0</td>\n",
              "      <td>0</td>\n",
              "      <td>0</td>\n",
              "      <td>1</td>\n",
              "      <td>1</td>\n",
              "      <td>0</td>\n",
              "      <td>0</td>\n",
              "      <td>1</td>\n",
              "      <td>0</td>\n",
              "    </tr>\n",
              "  </tbody>\n",
              "</table>\n",
              "<p>891 rows × 12 columns</p>\n",
              "</div>\n",
              "    <div class=\"colab-df-buttons\">\n",
              "\n",
              "  <div class=\"colab-df-container\">\n",
              "    <button class=\"colab-df-convert\" onclick=\"convertToInteractive('df-c8c24bb3-7972-4768-9df6-1956f022adf8')\"\n",
              "            title=\"Convert this dataframe to an interactive table.\"\n",
              "            style=\"display:none;\">\n",
              "\n",
              "  <svg xmlns=\"http://www.w3.org/2000/svg\" height=\"24px\" viewBox=\"0 -960 960 960\">\n",
              "    <path d=\"M120-120v-720h720v720H120Zm60-500h600v-160H180v160Zm220 220h160v-160H400v160Zm0 220h160v-160H400v160ZM180-400h160v-160H180v160Zm440 0h160v-160H620v160ZM180-180h160v-160H180v160Zm440 0h160v-160H620v160Z\"/>\n",
              "  </svg>\n",
              "    </button>\n",
              "\n",
              "  <style>\n",
              "    .colab-df-container {\n",
              "      display:flex;\n",
              "      gap: 12px;\n",
              "    }\n",
              "\n",
              "    .colab-df-convert {\n",
              "      background-color: #E8F0FE;\n",
              "      border: none;\n",
              "      border-radius: 50%;\n",
              "      cursor: pointer;\n",
              "      display: none;\n",
              "      fill: #1967D2;\n",
              "      height: 32px;\n",
              "      padding: 0 0 0 0;\n",
              "      width: 32px;\n",
              "    }\n",
              "\n",
              "    .colab-df-convert:hover {\n",
              "      background-color: #E2EBFA;\n",
              "      box-shadow: 0px 1px 2px rgba(60, 64, 67, 0.3), 0px 1px 3px 1px rgba(60, 64, 67, 0.15);\n",
              "      fill: #174EA6;\n",
              "    }\n",
              "\n",
              "    .colab-df-buttons div {\n",
              "      margin-bottom: 4px;\n",
              "    }\n",
              "\n",
              "    [theme=dark] .colab-df-convert {\n",
              "      background-color: #3B4455;\n",
              "      fill: #D2E3FC;\n",
              "    }\n",
              "\n",
              "    [theme=dark] .colab-df-convert:hover {\n",
              "      background-color: #434B5C;\n",
              "      box-shadow: 0px 1px 3px 1px rgba(0, 0, 0, 0.15);\n",
              "      filter: drop-shadow(0px 1px 2px rgba(0, 0, 0, 0.3));\n",
              "      fill: #FFFFFF;\n",
              "    }\n",
              "  </style>\n",
              "\n",
              "    <script>\n",
              "      const buttonEl =\n",
              "        document.querySelector('#df-c8c24bb3-7972-4768-9df6-1956f022adf8 button.colab-df-convert');\n",
              "      buttonEl.style.display =\n",
              "        google.colab.kernel.accessAllowed ? 'block' : 'none';\n",
              "\n",
              "      async function convertToInteractive(key) {\n",
              "        const element = document.querySelector('#df-c8c24bb3-7972-4768-9df6-1956f022adf8');\n",
              "        const dataTable =\n",
              "          await google.colab.kernel.invokeFunction('convertToInteractive',\n",
              "                                                    [key], {});\n",
              "        if (!dataTable) return;\n",
              "\n",
              "        const docLinkHtml = 'Like what you see? Visit the ' +\n",
              "          '<a target=\"_blank\" href=https://colab.research.google.com/notebooks/data_table.ipynb>data table notebook</a>'\n",
              "          + ' to learn more about interactive tables.';\n",
              "        element.innerHTML = '';\n",
              "        dataTable['output_type'] = 'display_data';\n",
              "        await google.colab.output.renderOutput(dataTable, element);\n",
              "        const docLink = document.createElement('div');\n",
              "        docLink.innerHTML = docLinkHtml;\n",
              "        element.appendChild(docLink);\n",
              "      }\n",
              "    </script>\n",
              "  </div>\n",
              "\n",
              "\n",
              "<div id=\"df-0da7b510-2e1a-4f2b-8cbd-524f4161dbd0\">\n",
              "  <button class=\"colab-df-quickchart\" onclick=\"quickchart('df-0da7b510-2e1a-4f2b-8cbd-524f4161dbd0')\"\n",
              "            title=\"Suggest charts\"\n",
              "            style=\"display:none;\">\n",
              "\n",
              "<svg xmlns=\"http://www.w3.org/2000/svg\" height=\"24px\"viewBox=\"0 0 24 24\"\n",
              "     width=\"24px\">\n",
              "    <g>\n",
              "        <path d=\"M19 3H5c-1.1 0-2 .9-2 2v14c0 1.1.9 2 2 2h14c1.1 0 2-.9 2-2V5c0-1.1-.9-2-2-2zM9 17H7v-7h2v7zm4 0h-2V7h2v10zm4 0h-2v-4h2v4z\"/>\n",
              "    </g>\n",
              "</svg>\n",
              "  </button>\n",
              "\n",
              "<style>\n",
              "  .colab-df-quickchart {\n",
              "      --bg-color: #E8F0FE;\n",
              "      --fill-color: #1967D2;\n",
              "      --hover-bg-color: #E2EBFA;\n",
              "      --hover-fill-color: #174EA6;\n",
              "      --disabled-fill-color: #AAA;\n",
              "      --disabled-bg-color: #DDD;\n",
              "  }\n",
              "\n",
              "  [theme=dark] .colab-df-quickchart {\n",
              "      --bg-color: #3B4455;\n",
              "      --fill-color: #D2E3FC;\n",
              "      --hover-bg-color: #434B5C;\n",
              "      --hover-fill-color: #FFFFFF;\n",
              "      --disabled-bg-color: #3B4455;\n",
              "      --disabled-fill-color: #666;\n",
              "  }\n",
              "\n",
              "  .colab-df-quickchart {\n",
              "    background-color: var(--bg-color);\n",
              "    border: none;\n",
              "    border-radius: 50%;\n",
              "    cursor: pointer;\n",
              "    display: none;\n",
              "    fill: var(--fill-color);\n",
              "    height: 32px;\n",
              "    padding: 0;\n",
              "    width: 32px;\n",
              "  }\n",
              "\n",
              "  .colab-df-quickchart:hover {\n",
              "    background-color: var(--hover-bg-color);\n",
              "    box-shadow: 0 1px 2px rgba(60, 64, 67, 0.3), 0 1px 3px 1px rgba(60, 64, 67, 0.15);\n",
              "    fill: var(--button-hover-fill-color);\n",
              "  }\n",
              "\n",
              "  .colab-df-quickchart-complete:disabled,\n",
              "  .colab-df-quickchart-complete:disabled:hover {\n",
              "    background-color: var(--disabled-bg-color);\n",
              "    fill: var(--disabled-fill-color);\n",
              "    box-shadow: none;\n",
              "  }\n",
              "\n",
              "  .colab-df-spinner {\n",
              "    border: 2px solid var(--fill-color);\n",
              "    border-color: transparent;\n",
              "    border-bottom-color: var(--fill-color);\n",
              "    animation:\n",
              "      spin 1s steps(1) infinite;\n",
              "  }\n",
              "\n",
              "  @keyframes spin {\n",
              "    0% {\n",
              "      border-color: transparent;\n",
              "      border-bottom-color: var(--fill-color);\n",
              "      border-left-color: var(--fill-color);\n",
              "    }\n",
              "    20% {\n",
              "      border-color: transparent;\n",
              "      border-left-color: var(--fill-color);\n",
              "      border-top-color: var(--fill-color);\n",
              "    }\n",
              "    30% {\n",
              "      border-color: transparent;\n",
              "      border-left-color: var(--fill-color);\n",
              "      border-top-color: var(--fill-color);\n",
              "      border-right-color: var(--fill-color);\n",
              "    }\n",
              "    40% {\n",
              "      border-color: transparent;\n",
              "      border-right-color: var(--fill-color);\n",
              "      border-top-color: var(--fill-color);\n",
              "    }\n",
              "    60% {\n",
              "      border-color: transparent;\n",
              "      border-right-color: var(--fill-color);\n",
              "    }\n",
              "    80% {\n",
              "      border-color: transparent;\n",
              "      border-right-color: var(--fill-color);\n",
              "      border-bottom-color: var(--fill-color);\n",
              "    }\n",
              "    90% {\n",
              "      border-color: transparent;\n",
              "      border-bottom-color: var(--fill-color);\n",
              "    }\n",
              "  }\n",
              "</style>\n",
              "\n",
              "  <script>\n",
              "    async function quickchart(key) {\n",
              "      const quickchartButtonEl =\n",
              "        document.querySelector('#' + key + ' button');\n",
              "      quickchartButtonEl.disabled = true;  // To prevent multiple clicks.\n",
              "      quickchartButtonEl.classList.add('colab-df-spinner');\n",
              "      try {\n",
              "        const charts = await google.colab.kernel.invokeFunction(\n",
              "            'suggestCharts', [key], {});\n",
              "      } catch (error) {\n",
              "        console.error('Error during call to suggestCharts:', error);\n",
              "      }\n",
              "      quickchartButtonEl.classList.remove('colab-df-spinner');\n",
              "      quickchartButtonEl.classList.add('colab-df-quickchart-complete');\n",
              "    }\n",
              "    (() => {\n",
              "      let quickchartButtonEl =\n",
              "        document.querySelector('#df-0da7b510-2e1a-4f2b-8cbd-524f4161dbd0 button');\n",
              "      quickchartButtonEl.style.display =\n",
              "        google.colab.kernel.accessAllowed ? 'block' : 'none';\n",
              "    })();\n",
              "  </script>\n",
              "</div>\n",
              "    </div>\n",
              "  </div>\n"
            ],
            "text/plain": [
              "     Age     Fare  Nuclear  Master  Pclass_1  Pclass_2  Pclass_3  Sex_0  \\\n",
              "0    1.0   7.2500        1       0         0         0         1      1   \n",
              "1    3.0  71.2833        1       0         1         0         0      0   \n",
              "2    1.0   7.9250        0       0         0         0         1      0   \n",
              "3    2.0  53.1000        1       0         1         0         0      0   \n",
              "4    2.0   8.0500        0       0         0         0         1      1   \n",
              "..   ...      ...      ...     ...       ...       ...       ...    ...   \n",
              "886  2.0  13.0000        0       0         0         1         0      1   \n",
              "887  0.0  30.0000        0       0         1         0         0      0   \n",
              "888  1.0  23.4500        1       0         0         0         1      0   \n",
              "889  1.0  30.0000        0       0         1         0         0      1   \n",
              "890  2.0   7.7500        0       0         0         0         1      1   \n",
              "\n",
              "     Sex_1  Embarked_C  Embarked_Q  Embarked_S  \n",
              "0        0           0           0           1  \n",
              "1        1           1           0           0  \n",
              "2        1           0           0           1  \n",
              "3        1           0           0           1  \n",
              "4        0           0           0           1  \n",
              "..     ...         ...         ...         ...  \n",
              "886      0           0           0           1  \n",
              "887      1           0           0           1  \n",
              "888      1           0           0           1  \n",
              "889      0           1           0           0  \n",
              "890      0           0           1           0  \n",
              "\n",
              "[891 rows x 12 columns]"
            ]
          },
          "execution_count": 11,
          "metadata": {},
          "output_type": "execute_result"
        }
      ],
      "source": [
        "X"
      ]
    },
    {
      "cell_type": "markdown",
      "metadata": {
        "id": "Cpw8wWo7jBMI"
      },
      "source": [
        "# Training"
      ]
    },
    {
      "cell_type": "code",
      "execution_count": 23,
      "metadata": {
        "id": "9O1F9c9pjAUG"
      },
      "outputs": [],
      "source": [
        "from sklearn.model_selection import train_test_split, GridSearchCV\n",
        "from sklearn.linear_model import SGDClassifier\n",
        "from sklearn.linear_model import LogisticRegression\n",
        "from sklearn.tree import DecisionTreeClassifier\n",
        "from sklearn.ensemble import RandomForestClassifier\n",
        "from xgboost import XGBClassifier\n",
        "\n",
        "from sklearn.model_selection import KFold\n",
        "from functools import partial\n",
        "import optuna\n",
        "\n",
        "from sklearn.metrics import accuracy_score, confusion_matrix\n",
        "evaluation_metric = accuracy_score"
      ]
    },
    {
      "cell_type": "code",
      "execution_count": 16,
      "metadata": {
        "colab": {
          "base_uri": "https://localhost:8080/"
        },
        "id": "dNT8kpO1Cyg0",
        "outputId": "b506d3ab-ca1b-4478-c344-c8ecd1e347a4"
      },
      "outputs": [
        {
          "name": "stdout",
          "output_type": "stream",
          "text": [
            "(846, 12) (45, 12) (846,) (45,)\n"
          ]
        }
      ],
      "source": [
        "X_train, X_val, y_train, y_val = train_test_split(X, y, test_size=0.05, random_state=42)\n",
        "print(X_train.shape, X_val.shape, y_train.shape, y_val.shape)"
      ]
    },
    {
      "cell_type": "code",
      "execution_count": 20,
      "metadata": {
        "colab": {
          "base_uri": "https://localhost:8080/"
        },
        "id": "9s6M9lqfFhV5",
        "outputId": "148efbcc-089b-4361-93c6-959410367de2"
      },
      "outputs": [
        {
          "name": "stdout",
          "output_type": "stream",
          "text": [
            "\n",
            "Fitting XGBoost...\n",
            "Accuracy : 0.9326\n"
          ]
        }
      ],
      "source": [
        "xgb_model = XGBClassifier()\n",
        "\n",
        "print(\"\\nFitting XGBoost...\")\n",
        "xgb_model.fit(X_train, y_train)\n",
        "print(\"Accuracy : %.4f\" % evaluation_metric(y_train, xgb_model.predict(X_train)))"
      ]
    },
    {
      "cell_type": "code",
      "execution_count": 21,
      "metadata": {
        "colab": {
          "base_uri": "https://localhost:8080/"
        },
        "id": "xThRlj5XInmi",
        "outputId": "f40b663b-15f9-4af3-d9a2-1075608bfe1d"
      },
      "outputs": [
        {
          "name": "stdout",
          "output_type": "stream",
          "text": [
            "\n",
            "Fitting RF...\n",
            "Accuracy : 0.9433\n"
          ]
        }
      ],
      "source": [
        "rf_model = RandomForestClassifier()\n",
        "\n",
        "print(\"\\nFitting RF...\")\n",
        "rf_model.fit(X_train, y_train)\n",
        "print(\"Accuracy : %.4f\" % evaluation_metric(y_train, rf_model.predict(X_train)))"
      ]
    },
    {
      "cell_type": "markdown",
      "metadata": {
        "id": "27lXvuwtI2QT"
      },
      "source": [
        "# Hyper parameter tuning (Optuna)"
      ]
    },
    {
      "cell_type": "code",
      "execution_count": 63,
      "metadata": {
        "id": "2il6ST_lI5fR"
      },
      "outputs": [],
      "source": [
        "def xgb_optimizer(trial, X, y, K):\n",
        "    max_depth = trial.suggest_int('max_depth', 5, 15)\n",
        "    # learning_rate = trial.suggest_float('learning_rate', 0.01, 0.3)\n",
        "    # n_estimators = trial.suggest_int('n_estimators', 50, 2000)\n",
        "    reg_lambda = trial.suggest_float('reg_lambda', 0.5, 20.0)\n",
        "    colsample_bynode = trial.suggest_categorical('colsample_bynode', [0.5, 0.7])\n",
        "    tree_method = trial.suggest_categorical('tree_method', ['exact', 'hist'])\n",
        "\n",
        "    model = XGBClassifier(\n",
        "        max_depth=max_depth,\n",
        "        learning_rate=0.015996507912737445,\n",
        "        n_estimators=85,\n",
        "        reg_lambda=reg_lambda,\n",
        "        colsample_bynode=colsample_bynode,\n",
        "        tree_method=tree_method,\n",
        "        verbose=0,\n",
        "        random_state=42\n",
        "    )\n",
        "\n",
        "    # K-Fold Cross validation을 구현합니다.\n",
        "    folds = KFold(n_splits=K, random_state=42, shuffle=True)\n",
        "    losses = []\n",
        "\n",
        "    for train_idx, val_idx in folds.split(X, y):\n",
        "        X_train = X.iloc[train_idx, :]\n",
        "        y_train = y.iloc[train_idx]\n",
        "\n",
        "        X_val = X.iloc[val_idx, :]\n",
        "        y_val = y.iloc[val_idx]\n",
        "\n",
        "        model.fit(X_train, y_train)\n",
        "        preds = model.predict(X_val)\n",
        "        loss = evaluation_metric(y_val, preds)\n",
        "        losses.append(loss)\n",
        "\n",
        "\n",
        "    # K-Fold의 평균 loss값을 돌려줍니다.\n",
        "    return np.mean(losses)"
      ]
    },
    {
      "cell_type": "code",
      "execution_count": 58,
      "metadata": {
        "id": "2Ee3_3hYI8X1"
      },
      "outputs": [],
      "source": [
        "def rf_optimizer(trial, X, y, K):\n",
        "    max_depth = trial.suggest_int('max_depth', 13, 20)\n",
        "    max_features = trial.suggest_float('max_features', 0.5, 0.8)\n",
        "    # min_samples_split = trial.suggest_int('min_samples_split', 2, 50)\n",
        "    # min_samples_leaf = trial.suggest_int('min_samples_leaf', 1, 20)\n",
        "    n_estimators = trial.suggest_int('n_estimators', 50, 200)\n",
        "\n",
        "    model = RandomForestClassifier(\n",
        "        max_depth=max_depth,\n",
        "        max_features=max_features,\n",
        "        min_samples_split=12,\n",
        "        min_samples_leaf=2,\n",
        "        n_estimators=n_estimators,\n",
        "        verbose=0,\n",
        "        random_state=42\n",
        "    )\n",
        "\n",
        "    # K-Fold Cross validation을 구현합니다.\n",
        "    folds = KFold(n_splits=K, random_state=42, shuffle=True)\n",
        "    losses = []\n",
        "\n",
        "    for train_idx, val_idx in folds.split(X, y):\n",
        "        X_train = X.iloc[train_idx, :]\n",
        "        y_train = y.iloc[train_idx]\n",
        "\n",
        "        X_val = X.iloc[val_idx, :]\n",
        "        y_val = y.iloc[val_idx]\n",
        "\n",
        "        model.fit(X_train, y_train)\n",
        "        preds = model.predict(X_val)\n",
        "        loss = evaluation_metric(y_val, preds)\n",
        "        losses.append(loss)\n",
        "\n",
        "\n",
        "    # K-Fold의 평균 loss값을 돌려줍니다.\n",
        "    return np.mean(losses)"
      ]
    },
    {
      "cell_type": "code",
      "execution_count": 59,
      "metadata": {
        "colab": {
          "base_uri": "https://localhost:8080/"
        },
        "id": "aUTWLY7QLLX0",
        "outputId": "253c0a06-b44c-4b3e-fd4c-872cb2236b07"
      },
      "outputs": [
        {
          "name": "stderr",
          "output_type": "stream",
          "text": [
            "[I 2023-11-30 13:22:42,600] A new study created in memory with name: no-name-59e4d2f1-ffc8-4983-bf83-84ce496039b0\n",
            "[I 2023-11-30 13:22:44,479] Trial 0 finished with value: 0.8380856247824573 and parameters: {'max_depth': 17, 'max_features': 0.7529659473727561, 'n_estimators': 167}. Best is trial 0 with value: 0.8380856247824573.\n",
            "[I 2023-11-30 13:22:45,339] Trial 1 finished with value: 0.8321754263835711 and parameters: {'max_depth': 20, 'max_features': 0.5535706398630101, 'n_estimators': 79}. Best is trial 0 with value: 0.8380856247824573.\n",
            "[I 2023-11-30 13:22:47,363] Trial 2 finished with value: 0.8345492516533242 and parameters: {'max_depth': 18, 'max_features': 0.6075152622898569, 'n_estimators': 192}. Best is trial 0 with value: 0.8380856247824573.\n",
            "[I 2023-11-30 13:22:49,204] Trial 3 finished with value: 0.8333449356073791 and parameters: {'max_depth': 18, 'max_features': 0.5593406658038846, 'n_estimators': 176}. Best is trial 0 with value: 0.8380856247824573.\n",
            "[I 2023-11-30 13:22:52,037] Trial 4 finished with value: 0.8345353289244694 and parameters: {'max_depth': 14, 'max_features': 0.7010495167178341, 'n_estimators': 160}. Best is trial 0 with value: 0.8380856247824573.\n",
            "[I 2023-11-30 13:22:54,978] Trial 5 finished with value: 0.8309780717020535 and parameters: {'max_depth': 13, 'max_features': 0.5500099576368918, 'n_estimators': 175}. Best is trial 0 with value: 0.8380856247824573.\n",
            "[I 2023-11-30 13:22:56,466] Trial 6 finished with value: 0.8333518969718066 and parameters: {'max_depth': 17, 'max_features': 0.7053801213479205, 'n_estimators': 95}. Best is trial 0 with value: 0.8380856247824573.\n",
            "[I 2023-11-30 13:22:58,310] Trial 7 finished with value: 0.8333518969718063 and parameters: {'max_depth': 18, 'max_features': 0.5049853421456099, 'n_estimators': 183}. Best is trial 0 with value: 0.8380856247824573.\n",
            "[I 2023-11-30 13:22:59,760] Trial 8 finished with value: 0.833358858336234 and parameters: {'max_depth': 16, 'max_features': 0.7087984094948158, 'n_estimators': 140}. Best is trial 0 with value: 0.8380856247824573.\n",
            "[I 2023-11-30 13:23:01,481] Trial 9 finished with value: 0.8392690567351201 and parameters: {'max_depth': 14, 'max_features': 0.7910380297090145, 'n_estimators': 161}. Best is trial 9 with value: 0.8392690567351201.\n",
            "[I 2023-11-30 13:23:02,734] Trial 10 finished with value: 0.8369021928297947 and parameters: {'max_depth': 15, 'max_features': 0.7913640485843482, 'n_estimators': 114}. Best is trial 9 with value: 0.8392690567351201.\n",
            "[I 2023-11-30 13:23:04,290] Trial 11 finished with value: 0.8404524886877829 and parameters: {'max_depth': 15, 'max_features': 0.7960059251911211, 'n_estimators': 144}. Best is trial 11 with value: 0.8404524886877829.\n",
            "[I 2023-11-30 13:23:05,760] Trial 12 finished with value: 0.8380856247824573 and parameters: {'max_depth': 13, 'max_features': 0.798253764389854, 'n_estimators': 138}. Best is trial 11 with value: 0.8404524886877829.\n",
            "[I 2023-11-30 13:23:07,614] Trial 13 finished with value: 0.8380856247824573 and parameters: {'max_depth': 15, 'max_features': 0.7505883853332449, 'n_estimators': 119}. Best is trial 11 with value: 0.8404524886877829.\n",
            "[I 2023-11-30 13:23:10,063] Trial 14 finished with value: 0.8298155238426732 and parameters: {'max_depth': 15, 'max_features': 0.654560131226623, 'n_estimators': 148}. Best is trial 11 with value: 0.8404524886877829.\n",
            "[I 2023-11-30 13:23:11,834] Trial 15 finished with value: 0.8404524886877829 and parameters: {'max_depth': 14, 'max_features': 0.7969969033482954, 'n_estimators': 102}. Best is trial 11 with value: 0.8404524886877829.\n",
            "[I 2023-11-30 13:23:12,745] Trial 16 finished with value: 0.8404594500522103 and parameters: {'max_depth': 14, 'max_features': 0.7517423218196104, 'n_estimators': 51}. Best is trial 16 with value: 0.8404594500522103.\n",
            "[I 2023-11-30 13:23:13,572] Trial 17 finished with value: 0.8404524886877829 and parameters: {'max_depth': 16, 'max_features': 0.7507101893567356, 'n_estimators': 61}. Best is trial 16 with value: 0.8404594500522103.\n",
            "[I 2023-11-30 13:23:14,172] Trial 18 finished with value: 0.8333658197006614 and parameters: {'max_depth': 13, 'max_features': 0.6684939762601474, 'n_estimators': 53}. Best is trial 16 with value: 0.8404594500522103.\n",
            "[I 2023-11-30 13:23:15,058] Trial 19 finished with value: 0.8451862164984337 and parameters: {'max_depth': 15, 'max_features': 0.7620402327948085, 'n_estimators': 78}. Best is trial 19 with value: 0.8451862164984337.\n",
            "[I 2023-11-30 13:23:15,833] Trial 20 finished with value: 0.8357326836059867 and parameters: {'max_depth': 20, 'max_features': 0.7314492531807826, 'n_estimators': 71}. Best is trial 19 with value: 0.8451862164984337.\n",
            "[I 2023-11-30 13:23:16,756] Trial 21 finished with value: 0.8440027845457709 and parameters: {'max_depth': 15, 'max_features': 0.7716278197413025, 'n_estimators': 80}. Best is trial 19 with value: 0.8451862164984337.\n",
            "[I 2023-11-30 13:23:17,675] Trial 22 finished with value: 0.8451862164984337 and parameters: {'max_depth': 14, 'max_features': 0.7705547184346733, 'n_estimators': 84}. Best is trial 19 with value: 0.8451862164984337.\n",
            "[I 2023-11-30 13:23:18,644] Trial 23 finished with value: 0.8475530804037591 and parameters: {'max_depth': 16, 'max_features': 0.7685107430267129, 'n_estimators': 88}. Best is trial 23 with value: 0.8475530804037591.\n",
            "[I 2023-11-30 13:23:19,656] Trial 24 finished with value: 0.8333518969718066 and parameters: {'max_depth': 16, 'max_features': 0.7252695798084867, 'n_estimators': 94}. Best is trial 23 with value: 0.8475530804037591.\n",
            "[I 2023-11-30 13:23:20,802] Trial 25 finished with value: 0.8392760180995475 and parameters: {'max_depth': 17, 'max_features': 0.774012384582067, 'n_estimators': 106}. Best is trial 23 with value: 0.8475530804037591.\n",
            "[I 2023-11-30 13:23:21,708] Trial 26 finished with value: 0.8357187608771319 and parameters: {'max_depth': 16, 'max_features': 0.677745163644942, 'n_estimators': 84}. Best is trial 23 with value: 0.8475530804037591.\n",
            "[I 2023-11-30 13:23:22,444] Trial 27 finished with value: 0.8416428820048729 and parameters: {'max_depth': 14, 'max_features': 0.767882760970295, 'n_estimators': 66}. Best is trial 23 with value: 0.8475530804037591.\n",
            "[I 2023-11-30 13:23:24,213] Trial 28 finished with value: 0.8357187608771319 and parameters: {'max_depth': 19, 'max_features': 0.7377815133497059, 'n_estimators': 129}. Best is trial 23 with value: 0.8475530804037591.\n",
            "[I 2023-11-30 13:23:25,710] Trial 29 finished with value: 0.8475530804037591 and parameters: {'max_depth': 16, 'max_features': 0.7646448544288277, 'n_estimators': 87}. Best is trial 23 with value: 0.8475530804037591.\n",
            "[I 2023-11-30 13:23:27,237] Trial 30 finished with value: 0.8357187608771319 and parameters: {'max_depth': 17, 'max_features': 0.7264431730657808, 'n_estimators': 90}. Best is trial 23 with value: 0.8475530804037591.\n",
            "[I 2023-11-30 13:23:28,501] Trial 31 finished with value: 0.8440027845457709 and parameters: {'max_depth': 16, 'max_features': 0.770305739529094, 'n_estimators': 71}. Best is trial 23 with value: 0.8475530804037591.\n",
            "[I 2023-11-30 13:23:30,275] Trial 32 finished with value: 0.8392760180995475 and parameters: {'max_depth': 15, 'max_features': 0.7605230319880878, 'n_estimators': 110}. Best is trial 23 with value: 0.8475530804037591.\n",
            "[I 2023-11-30 13:23:31,121] Trial 33 finished with value: 0.8345422902888966 and parameters: {'max_depth': 16, 'max_features': 0.7445749440309011, 'n_estimators': 79}. Best is trial 23 with value: 0.8475530804037591.\n",
            "[I 2023-11-30 13:23:32,226] Trial 34 finished with value: 0.8416359206404456 and parameters: {'max_depth': 15, 'max_features': 0.7775662501436224, 'n_estimators': 100}. Best is trial 23 with value: 0.8475530804037591.\n",
            "[I 2023-11-30 13:23:33,187] Trial 35 finished with value: 0.8475530804037591 and parameters: {'max_depth': 18, 'max_features': 0.7567026823865912, 'n_estimators': 88}. Best is trial 23 with value: 0.8475530804037591.\n",
            "[I 2023-11-30 13:23:34,495] Trial 36 finished with value: 0.8357187608771319 and parameters: {'max_depth': 19, 'max_features': 0.7163144807733801, 'n_estimators': 123}. Best is trial 23 with value: 0.8475530804037591.\n",
            "[I 2023-11-30 13:23:35,200] Trial 37 finished with value: 0.8345422902888966 and parameters: {'max_depth': 18, 'max_features': 0.6955851123710465, 'n_estimators': 63}. Best is trial 23 with value: 0.8475530804037591.\n",
            "[I 2023-11-30 13:23:36,153] Trial 38 finished with value: 0.8345353289244694 and parameters: {'max_depth': 19, 'max_features': 0.739676486480779, 'n_estimators': 88}. Best is trial 23 with value: 0.8475530804037591.\n",
            "[I 2023-11-30 13:23:37,007] Trial 39 finished with value: 0.8440027845457709 and parameters: {'max_depth': 18, 'max_features': 0.7573757687174388, 'n_estimators': 74}. Best is trial 23 with value: 0.8475530804037591.\n",
            "[I 2023-11-30 13:23:38,046] Trial 40 finished with value: 0.839282979463975 and parameters: {'max_depth': 17, 'max_features': 0.6238206507018289, 'n_estimators': 96}. Best is trial 23 with value: 0.8475530804037591.\n",
            "[I 2023-11-30 13:23:39,029] Trial 41 finished with value: 0.8463696484510963 and parameters: {'max_depth': 14, 'max_features': 0.7808639723828801, 'n_estimators': 88}. Best is trial 23 with value: 0.8475530804037591.\n",
            "[I 2023-11-30 13:23:39,888] Trial 42 finished with value: 0.8451862164984337 and parameters: {'max_depth': 16, 'max_features': 0.7837770285125004, 'n_estimators': 75}. Best is trial 23 with value: 0.8475530804037591.\n",
            "[I 2023-11-30 13:23:41,372] Trial 43 finished with value: 0.8475530804037591 and parameters: {'max_depth': 17, 'max_features': 0.7835906114706664, 'n_estimators': 90}. Best is trial 23 with value: 0.8475530804037591.\n",
            "[I 2023-11-30 13:23:43,290] Trial 44 finished with value: 0.8380925861468848 and parameters: {'max_depth': 18, 'max_features': 0.7805401388348628, 'n_estimators': 111}. Best is trial 23 with value: 0.8475530804037591.\n",
            "[I 2023-11-30 13:23:44,844] Trial 45 finished with value: 0.8475530804037591 and parameters: {'max_depth': 17, 'max_features': 0.7986805730317895, 'n_estimators': 88}. Best is trial 23 with value: 0.8475530804037591.\n",
            "[I 2023-11-30 13:23:46,615] Trial 46 finished with value: 0.8392690567351201 and parameters: {'max_depth': 17, 'max_features': 0.7877256560367112, 'n_estimators': 102}. Best is trial 23 with value: 0.8475530804037591.\n",
            "[I 2023-11-30 13:23:47,792] Trial 47 finished with value: 0.8451862164984337 and parameters: {'max_depth': 17, 'max_features': 0.7963892897871109, 'n_estimators': 93}. Best is trial 23 with value: 0.8475530804037591.\n",
            "[I 2023-11-30 13:23:49,065] Trial 48 finished with value: 0.8369021928297947 and parameters: {'max_depth': 17, 'max_features': 0.7566612857369294, 'n_estimators': 117}. Best is trial 23 with value: 0.8475530804037591.\n",
            "[I 2023-11-30 13:23:51,079] Trial 49 finished with value: 0.8345422902888966 and parameters: {'max_depth': 18, 'max_features': 0.7423871464313768, 'n_estimators': 194}. Best is trial 23 with value: 0.8475530804037591.\n",
            "[I 2023-11-30 13:23:51,739] Trial 50 finished with value: 0.8439958231813435 and parameters: {'max_depth': 18, 'max_features': 0.7978188141224721, 'n_estimators': 58}. Best is trial 23 with value: 0.8475530804037591.\n",
            "[I 2023-11-30 13:23:52,688] Trial 51 finished with value: 0.8475530804037591 and parameters: {'max_depth': 17, 'max_features': 0.7808562572752631, 'n_estimators': 86}. Best is trial 23 with value: 0.8475530804037591.\n",
            "[I 2023-11-30 13:23:53,622] Trial 52 finished with value: 0.8463696484510965 and parameters: {'max_depth': 17, 'max_features': 0.7842797280552557, 'n_estimators': 83}. Best is trial 23 with value: 0.8475530804037591.\n",
            "[I 2023-11-30 13:23:54,697] Trial 53 finished with value: 0.8404524886877829 and parameters: {'max_depth': 16, 'max_features': 0.7594814661299114, 'n_estimators': 98}. Best is trial 23 with value: 0.8475530804037591.\n",
            "[I 2023-11-30 13:23:55,865] Trial 54 finished with value: 0.8392760180995475 and parameters: {'max_depth': 17, 'max_features': 0.7892939750548862, 'n_estimators': 106}. Best is trial 23 with value: 0.8475530804037591.\n",
            "[I 2023-11-30 13:23:56,640] Trial 55 finished with value: 0.8428193525931083 and parameters: {'max_depth': 17, 'max_features': 0.7653237712223613, 'n_estimators': 69}. Best is trial 23 with value: 0.8475530804037591.\n",
            "[I 2023-11-30 13:23:57,891] Trial 56 finished with value: 0.8345353289244694 and parameters: {'max_depth': 18, 'max_features': 0.7476011472088931, 'n_estimators': 88}. Best is trial 23 with value: 0.8475530804037591.\n",
            "[I 2023-11-30 13:23:59,480] Trial 57 finished with value: 0.8440027845457709 and parameters: {'max_depth': 16, 'max_features': 0.7999637091109435, 'n_estimators': 92}. Best is trial 23 with value: 0.8475530804037591.\n",
            "[I 2023-11-30 13:24:01,263] Trial 58 finished with value: 0.8392690567351201 and parameters: {'max_depth': 19, 'max_features': 0.7772683817019049, 'n_estimators': 103}. Best is trial 23 with value: 0.8475530804037591.\n",
            "[I 2023-11-30 13:24:03,460] Trial 59 finished with value: 0.8345353289244694 and parameters: {'max_depth': 17, 'max_features': 0.7333534414646781, 'n_estimators': 131}. Best is trial 23 with value: 0.8475530804037591.\n",
            "[I 2023-11-30 13:24:05,317] Trial 60 finished with value: 0.8392690567351201 and parameters: {'max_depth': 18, 'max_features': 0.753629781560306, 'n_estimators': 152}. Best is trial 23 with value: 0.8475530804037591.\n",
            "[I 2023-11-30 13:24:06,277] Trial 61 finished with value: 0.8475530804037591 and parameters: {'max_depth': 17, 'max_features': 0.7900695734886443, 'n_estimators': 84}. Best is trial 23 with value: 0.8475530804037591.\n",
            "[I 2023-11-30 13:24:07,222] Trial 62 finished with value: 0.8451862164984337 and parameters: {'max_depth': 16, 'max_features': 0.7867228650283395, 'n_estimators': 81}. Best is trial 23 with value: 0.8475530804037591.\n",
            "[I 2023-11-30 13:24:09,413] Trial 63 finished with value: 0.8392760180995475 and parameters: {'max_depth': 17, 'max_features': 0.7717723920335502, 'n_estimators': 200}. Best is trial 23 with value: 0.8475530804037591.\n",
            "[I 2023-11-30 13:24:10,262] Trial 64 finished with value: 0.8451862164984337 and parameters: {'max_depth': 16, 'max_features': 0.7657556002479373, 'n_estimators': 75}. Best is trial 23 with value: 0.8475530804037591.\n",
            "[I 2023-11-30 13:24:11,214] Trial 65 finished with value: 0.8475530804037591 and parameters: {'max_depth': 17, 'max_features': 0.7894663655688101, 'n_estimators': 86}. Best is trial 23 with value: 0.8475530804037591.\n",
            "[I 2023-11-30 13:24:12,296] Trial 66 finished with value: 0.8440027845457709 and parameters: {'max_depth': 16, 'max_features': 0.7765567544691183, 'n_estimators': 95}. Best is trial 23 with value: 0.8475530804037591.\n",
            "[I 2023-11-30 13:24:13,169] Trial 67 finished with value: 0.8440027845457709 and parameters: {'max_depth': 18, 'max_features': 0.7507445517101248, 'n_estimators': 77}. Best is trial 23 with value: 0.8475530804037591.\n",
            "[I 2023-11-30 13:24:13,924] Trial 68 finished with value: 0.8428193525931083 and parameters: {'max_depth': 17, 'max_features': 0.7654243827365973, 'n_estimators': 66}. Best is trial 23 with value: 0.8475530804037591.\n",
            "[I 2023-11-30 13:24:14,914] Trial 69 finished with value: 0.8451792551340063 and parameters: {'max_depth': 16, 'max_features': 0.7905858051110201, 'n_estimators': 57}. Best is trial 23 with value: 0.8475530804037591.\n",
            "[I 2023-11-30 13:24:16,714] Trial 70 finished with value: 0.8392760180995475 and parameters: {'max_depth': 18, 'max_features': 0.773228313693609, 'n_estimators': 107}. Best is trial 23 with value: 0.8475530804037591.\n",
            "[I 2023-11-30 13:24:18,203] Trial 71 finished with value: 0.8463696484510963 and parameters: {'max_depth': 17, 'max_features': 0.7993845921418461, 'n_estimators': 85}. Best is trial 23 with value: 0.8475530804037591.\n",
            "[I 2023-11-30 13:24:19,718] Trial 72 finished with value: 0.8475530804037591 and parameters: {'max_depth': 17, 'max_features': 0.7844847503317586, 'n_estimators': 86}. Best is trial 23 with value: 0.8475530804037591.\n",
            "[I 2023-11-30 13:24:21,116] Trial 73 finished with value: 0.8451862164984337 and parameters: {'max_depth': 16, 'max_features': 0.7916354002742437, 'n_estimators': 81}. Best is trial 23 with value: 0.8475530804037591.\n",
            "[I 2023-11-30 13:24:22,191] Trial 74 finished with value: 0.8404524886877829 and parameters: {'max_depth': 17, 'max_features': 0.7610919226808605, 'n_estimators': 98}. Best is trial 23 with value: 0.8475530804037591.\n",
            "[I 2023-11-30 13:24:23,189] Trial 75 finished with value: 0.8475530804037591 and parameters: {'max_depth': 17, 'max_features': 0.7785991528556878, 'n_estimators': 90}. Best is trial 23 with value: 0.8475530804037591.\n",
            "[I 2023-11-30 13:24:23,993] Trial 76 finished with value: 0.8440027845457709 and parameters: {'max_depth': 17, 'max_features': 0.7904952893312062, 'n_estimators': 71}. Best is trial 23 with value: 0.8475530804037591.\n",
            "[I 2023-11-30 13:24:24,856] Trial 77 finished with value: 0.8451862164984337 and parameters: {'max_depth': 15, 'max_features': 0.7694818146668407, 'n_estimators': 78}. Best is trial 23 with value: 0.8475530804037591.\n",
            "[I 2023-11-30 13:24:25,861] Trial 78 finished with value: 0.8333518969718066 and parameters: {'max_depth': 16, 'max_features': 0.7461408468877254, 'n_estimators': 93}. Best is trial 23 with value: 0.8475530804037591.\n",
            "[I 2023-11-30 13:24:26,943] Trial 79 finished with value: 0.8416359206404456 and parameters: {'max_depth': 18, 'max_features': 0.7812800898596679, 'n_estimators': 99}. Best is trial 23 with value: 0.8475530804037591.\n",
            "[I 2023-11-30 13:24:28,820] Trial 80 finished with value: 0.8380856247824573 and parameters: {'max_depth': 16, 'max_features': 0.7591450080177304, 'n_estimators': 177}. Best is trial 23 with value: 0.8475530804037591.\n",
            "[I 2023-11-30 13:24:29,777] Trial 81 finished with value: 0.8475530804037591 and parameters: {'max_depth': 17, 'max_features': 0.7848135381112356, 'n_estimators': 86}. Best is trial 23 with value: 0.8475530804037591.\n",
            "[I 2023-11-30 13:24:30,703] Trial 82 finished with value: 0.8463696484510965 and parameters: {'max_depth': 17, 'max_features': 0.7998920629860673, 'n_estimators': 83}. Best is trial 23 with value: 0.8475530804037591.\n",
            "[I 2023-11-30 13:24:32,064] Trial 83 finished with value: 0.8475530804037591 and parameters: {'max_depth': 20, 'max_features': 0.7912919557853993, 'n_estimators': 90}. Best is trial 23 with value: 0.8475530804037591.\n",
            "[I 2023-11-30 13:24:33,367] Trial 84 finished with value: 0.8440027845457709 and parameters: {'max_depth': 17, 'max_features': 0.7742045386899242, 'n_estimators': 74}. Best is trial 23 with value: 0.8475530804037591.\n",
            "[I 2023-11-30 13:24:34,856] Trial 85 finished with value: 0.8475530804037591 and parameters: {'max_depth': 17, 'max_features': 0.7816180950115932, 'n_estimators': 86}. Best is trial 23 with value: 0.8475530804037591.\n",
            "[I 2023-11-30 13:24:36,501] Trial 86 finished with value: 0.8428263139575357 and parameters: {'max_depth': 18, 'max_features': 0.7664543949312997, 'n_estimators': 95}. Best is trial 23 with value: 0.8475530804037591.\n",
            "[I 2023-11-30 13:24:38,212] Trial 87 finished with value: 0.8392690567351201 and parameters: {'max_depth': 16, 'max_features': 0.7541534493706329, 'n_estimators': 103}. Best is trial 23 with value: 0.8475530804037591.\n",
            "[I 2023-11-30 13:24:39,112] Trial 88 finished with value: 0.8451862164984337 and parameters: {'max_depth': 17, 'max_features': 0.7878240692571539, 'n_estimators': 81}. Best is trial 23 with value: 0.8475530804037591.\n",
            "[I 2023-11-30 13:24:40,099] Trial 89 finished with value: 0.8475530804037591 and parameters: {'max_depth': 16, 'max_features': 0.774592418522836, 'n_estimators': 90}. Best is trial 23 with value: 0.8475530804037591.\n",
            "[I 2023-11-30 13:24:40,840] Trial 90 finished with value: 0.8428193525931083 and parameters: {'max_depth': 19, 'max_features': 0.7935010989184482, 'n_estimators': 65}. Best is trial 23 with value: 0.8475530804037591.\n",
            "[I 2023-11-30 13:24:41,837] Trial 91 finished with value: 0.8475530804037591 and parameters: {'max_depth': 17, 'max_features': 0.7794428107207461, 'n_estimators': 90}. Best is trial 23 with value: 0.8475530804037591.\n",
            "[I 2023-11-30 13:24:42,776] Trial 92 finished with value: 0.8475530804037591 and parameters: {'max_depth': 17, 'max_features': 0.7819913999925922, 'n_estimators': 86}. Best is trial 23 with value: 0.8475530804037591.\n",
            "[I 2023-11-30 13:24:43,561] Trial 93 finished with value: 0.8440027845457709 and parameters: {'max_depth': 17, 'max_features': 0.7638169875878466, 'n_estimators': 70}. Best is trial 23 with value: 0.8475530804037591.\n",
            "[I 2023-11-30 13:24:44,428] Trial 94 finished with value: 0.8463696484510963 and parameters: {'max_depth': 17, 'max_features': 0.7942534379223847, 'n_estimators': 78}. Best is trial 23 with value: 0.8475530804037591.\n",
            "[I 2023-11-30 13:24:45,490] Trial 95 finished with value: 0.8428193525931084 and parameters: {'max_depth': 18, 'max_features': 0.7730474848313238, 'n_estimators': 97}. Best is trial 23 with value: 0.8475530804037591.\n",
            "[I 2023-11-30 13:24:46,731] Trial 96 finished with value: 0.8380856247824573 and parameters: {'max_depth': 17, 'max_features': 0.7859485566524286, 'n_estimators': 113}. Best is trial 23 with value: 0.8475530804037591.\n",
            "[I 2023-11-30 13:24:47,694] Trial 97 finished with value: 0.8345353289244694 and parameters: {'max_depth': 16, 'max_features': 0.7419652734145014, 'n_estimators': 89}. Best is trial 23 with value: 0.8475530804037591.\n",
            "[I 2023-11-30 13:24:49,043] Trial 98 finished with value: 0.8440027845457709 and parameters: {'max_depth': 18, 'max_features': 0.7556943582800784, 'n_estimators': 92}. Best is trial 23 with value: 0.8475530804037591.\n",
            "[I 2023-11-30 13:24:50,477] Trial 99 finished with value: 0.8451862164984337 and parameters: {'max_depth': 17, 'max_features': 0.7793852266968163, 'n_estimators': 82}. Best is trial 23 with value: 0.8475530804037591.\n",
            "[I 2023-11-30 13:24:52,231] Trial 100 finished with value: 0.8404524886877827 and parameters: {'max_depth': 15, 'max_features': 0.7674076157644657, 'n_estimators': 102}. Best is trial 23 with value: 0.8475530804037591.\n",
            "[I 2023-11-30 13:24:53,737] Trial 101 finished with value: 0.8475530804037591 and parameters: {'max_depth': 17, 'max_features': 0.7881045413742093, 'n_estimators': 87}. Best is trial 23 with value: 0.8475530804037591.\n",
            "[I 2023-11-30 13:24:55,150] Trial 102 finished with value: 0.8463696484510965 and parameters: {'max_depth': 17, 'max_features': 0.7834515910768103, 'n_estimators': 83}. Best is trial 23 with value: 0.8475530804037591.\n",
            "[I 2023-11-30 13:24:55,986] Trial 103 finished with value: 0.8451862164984337 and parameters: {'max_depth': 17, 'max_features': 0.7941353534730589, 'n_estimators': 75}. Best is trial 23 with value: 0.8475530804037591.\n",
            "[I 2023-11-30 13:24:57,010] Trial 104 finished with value: 0.8451862164984337 and parameters: {'max_depth': 16, 'max_features': 0.7707740478567627, 'n_estimators': 93}. Best is trial 23 with value: 0.8475530804037591.\n",
            "[I 2023-11-30 13:24:57,960] Trial 105 finished with value: 0.8475530804037591 and parameters: {'max_depth': 17, 'max_features': 0.7759137671879854, 'n_estimators': 86}. Best is trial 23 with value: 0.8475530804037591.\n",
            "[I 2023-11-30 13:24:58,833] Trial 106 finished with value: 0.8463696484510963 and parameters: {'max_depth': 18, 'max_features': 0.7999406694658447, 'n_estimators': 78}. Best is trial 23 with value: 0.8475530804037591.\n",
            "[I 2023-11-30 13:25:00,004] Trial 107 finished with value: 0.8380925861468848 and parameters: {'max_depth': 16, 'max_features': 0.7832838861679132, 'n_estimators': 108}. Best is trial 23 with value: 0.8475530804037591.\n",
            "[I 2023-11-30 13:25:00,823] Trial 108 finished with value: 0.8440027845457709 and parameters: {'max_depth': 17, 'max_features': 0.7611503918819665, 'n_estimators': 72}. Best is trial 23 with value: 0.8475530804037591.\n",
            "[I 2023-11-30 13:25:01,887] Trial 109 finished with value: 0.8357187608771319 and parameters: {'max_depth': 17, 'max_features': 0.7499398500544131, 'n_estimators': 100}. Best is trial 23 with value: 0.8475530804037591.\n",
            "[I 2023-11-30 13:25:02,936] Trial 110 finished with value: 0.8428193525931083 and parameters: {'max_depth': 16, 'max_features': 0.794165947093428, 'n_estimators': 96}. Best is trial 23 with value: 0.8475530804037591.\n",
            "[I 2023-11-30 13:25:03,926] Trial 111 finished with value: 0.8475530804037591 and parameters: {'max_depth': 20, 'max_features': 0.7875909872188332, 'n_estimators': 90}. Best is trial 23 with value: 0.8475530804037591.\n",
            "[I 2023-11-30 13:25:04,862] Trial 112 finished with value: 0.8475530804037591 and parameters: {'max_depth': 20, 'max_features': 0.7934873133570829, 'n_estimators': 84}. Best is trial 23 with value: 0.8475530804037591.\n",
            "[I 2023-11-30 13:25:06,244] Trial 113 finished with value: 0.8440027845457709 and parameters: {'max_depth': 19, 'max_features': 0.7768549361799669, 'n_estimators': 92}. Best is trial 23 with value: 0.8475530804037591.\n",
            "[I 2023-11-30 13:25:07,793] Trial 114 finished with value: 0.8475530804037591 and parameters: {'max_depth': 17, 'max_features': 0.7872858004949582, 'n_estimators': 87}. Best is trial 23 with value: 0.8475530804037591.\n",
            "[I 2023-11-30 13:25:09,215] Trial 115 finished with value: 0.8451862164984337 and parameters: {'max_depth': 17, 'max_features': 0.7692201144168839, 'n_estimators': 80}. Best is trial 23 with value: 0.8475530804037591.\n",
            "[I 2023-11-30 13:25:10,808] Trial 116 finished with value: 0.8475530804037591 and parameters: {'max_depth': 16, 'max_features': 0.7780676970867146, 'n_estimators': 90}. Best is trial 23 with value: 0.8475530804037591.\n",
            "[I 2023-11-30 13:25:12,242] Trial 117 finished with value: 0.8475530804037591 and parameters: {'max_depth': 20, 'max_features': 0.7620257706627648, 'n_estimators': 84}. Best is trial 23 with value: 0.8475530804037591.\n",
            "[I 2023-11-30 13:25:13,297] Trial 118 finished with value: 0.8428193525931084 and parameters: {'max_depth': 17, 'max_features': 0.7917484723158691, 'n_estimators': 97}. Best is trial 23 with value: 0.8475530804037591.\n",
            "[I 2023-11-30 13:25:14,324] Trial 119 finished with value: 0.8440097459101985 and parameters: {'max_depth': 18, 'max_features': 0.7847399610697187, 'n_estimators': 94}. Best is trial 23 with value: 0.8475530804037591.\n",
            "[I 2023-11-30 13:25:15,183] Trial 120 finished with value: 0.8440027845457709 and parameters: {'max_depth': 16, 'max_features': 0.7998254490123359, 'n_estimators': 77}. Best is trial 23 with value: 0.8475530804037591.\n",
            "[I 2023-11-30 13:25:16,144] Trial 121 finished with value: 0.8475530804037591 and parameters: {'max_depth': 17, 'max_features': 0.7809217539785047, 'n_estimators': 87}. Best is trial 23 with value: 0.8475530804037591.\n",
            "[I 2023-11-30 13:25:17,081] Trial 122 finished with value: 0.8463696484510963 and parameters: {'max_depth': 17, 'max_features': 0.7693000159265451, 'n_estimators': 85}. Best is trial 23 with value: 0.8475530804037591.\n",
            "[I 2023-11-30 13:25:17,971] Trial 123 finished with value: 0.8451862164984337 and parameters: {'max_depth': 17, 'max_features': 0.7819155124437493, 'n_estimators': 81}. Best is trial 23 with value: 0.8475530804037591.\n",
            "[I 2023-11-30 13:25:18,932] Trial 124 finished with value: 0.8475530804037591 and parameters: {'max_depth': 17, 'max_features': 0.7743627523074915, 'n_estimators': 88}. Best is trial 23 with value: 0.8475530804037591.\n",
            "[I 2023-11-30 13:25:19,948] Trial 125 finished with value: 0.8440027845457709 and parameters: {'max_depth': 19, 'max_features': 0.7885657252708715, 'n_estimators': 92}. Best is trial 23 with value: 0.8475530804037591.\n",
            "[I 2023-11-30 13:25:20,838] Trial 126 finished with value: 0.8451862164984337 and parameters: {'max_depth': 17, 'max_features': 0.7934698655237096, 'n_estimators': 80}. Best is trial 23 with value: 0.8475530804037591.\n",
            "[I 2023-11-30 13:25:21,981] Trial 127 finished with value: 0.8380925861468848 and parameters: {'max_depth': 17, 'max_features': 0.7586099702454554, 'n_estimators': 105}. Best is trial 23 with value: 0.8475530804037591.\n",
            "[I 2023-11-30 13:25:23,068] Trial 128 finished with value: 0.8428193525931083 and parameters: {'max_depth': 16, 'max_features': 0.7649234937599149, 'n_estimators': 68}. Best is trial 23 with value: 0.8475530804037591.\n",
            "[I 2023-11-30 13:25:24,551] Trial 129 finished with value: 0.8463696484510963 and parameters: {'max_depth': 18, 'max_features': 0.7773174076776614, 'n_estimators': 85}. Best is trial 23 with value: 0.8475530804037591.\n",
            "[I 2023-11-30 13:25:25,851] Trial 130 finished with value: 0.8451862164984337 and parameters: {'max_depth': 13, 'max_features': 0.753974684826511, 'n_estimators': 75}. Best is trial 23 with value: 0.8475530804037591.\n",
            "[I 2023-11-30 13:25:27,395] Trial 131 finished with value: 0.8463696484510963 and parameters: {'max_depth': 16, 'max_features': 0.7740504721131863, 'n_estimators': 89}. Best is trial 23 with value: 0.8475530804037591.\n",
            "[I 2023-11-30 13:25:28,933] Trial 132 finished with value: 0.8440027845457709 and parameters: {'max_depth': 15, 'max_features': 0.7840069940164498, 'n_estimators': 91}. Best is trial 23 with value: 0.8475530804037591.\n",
            "[I 2023-11-30 13:25:30,137] Trial 133 finished with value: 0.8404524886877829 and parameters: {'max_depth': 16, 'max_features': 0.7710036344840517, 'n_estimators': 100}. Best is trial 23 with value: 0.8475530804037591.\n",
            "[I 2023-11-30 13:25:31,052] Trial 134 finished with value: 0.8463696484510965 and parameters: {'max_depth': 16, 'max_features': 0.7918166039890416, 'n_estimators': 83}. Best is trial 23 with value: 0.8475530804037591.\n",
            "[I 2023-11-30 13:25:32,079] Trial 135 finished with value: 0.8440097459101985 and parameters: {'max_depth': 17, 'max_features': 0.7775044455732983, 'n_estimators': 94}. Best is trial 23 with value: 0.8475530804037591.\n",
            "[I 2023-11-30 13:25:33,049] Trial 136 finished with value: 0.8475530804037591 and parameters: {'max_depth': 17, 'max_features': 0.7860025186135451, 'n_estimators': 88}. Best is trial 23 with value: 0.8475530804037591.\n",
            "[I 2023-11-30 13:25:34,074] Trial 137 finished with value: 0.8357187608771319 and parameters: {'max_depth': 16, 'max_features': 0.7465885060166964, 'n_estimators': 96}. Best is trial 23 with value: 0.8475530804037591.\n",
            "[I 2023-11-30 13:25:35,061] Trial 138 finished with value: 0.8475530804037591 and parameters: {'max_depth': 17, 'max_features': 0.7645539301503147, 'n_estimators': 90}. Best is trial 23 with value: 0.8475530804037591.\n",
            "[I 2023-11-30 13:25:35,945] Trial 139 finished with value: 0.8440027845457709 and parameters: {'max_depth': 16, 'max_features': 0.7960171637573518, 'n_estimators': 80}. Best is trial 23 with value: 0.8475530804037591.\n",
            "[I 2023-11-30 13:25:37,603] Trial 140 finished with value: 0.8345353289244694 and parameters: {'max_depth': 17, 'max_features': 0.7378701207227583, 'n_estimators': 159}. Best is trial 23 with value: 0.8475530804037591.\n",
            "[I 2023-11-30 13:25:38,604] Trial 141 finished with value: 0.8440027845457709 and parameters: {'max_depth': 17, 'max_features': 0.7760025663302367, 'n_estimators': 91}. Best is trial 23 with value: 0.8475530804037591.\n",
            "[I 2023-11-30 13:25:39,728] Trial 142 finished with value: 0.8475530804037591 and parameters: {'max_depth': 17, 'max_features': 0.7819538493552913, 'n_estimators': 86}. Best is trial 23 with value: 0.8475530804037591.\n",
            "[I 2023-11-30 13:25:41,342] Trial 143 finished with value: 0.8428263139575357 and parameters: {'max_depth': 17, 'max_features': 0.7696542119179358, 'n_estimators': 95}. Best is trial 23 with value: 0.8475530804037591.\n",
            "[I 2023-11-30 13:25:42,792] Trial 144 finished with value: 0.8463696484510965 and parameters: {'max_depth': 17, 'max_features': 0.7887027623355033, 'n_estimators': 83}. Best is trial 23 with value: 0.8475530804037591.\n",
            "[I 2023-11-30 13:25:44,353] Trial 145 finished with value: 0.8451931778628611 and parameters: {'max_depth': 17, 'max_features': 0.781474504928517, 'n_estimators': 89}. Best is trial 23 with value: 0.8475530804037591.\n",
            "[I 2023-11-30 13:25:45,861] Trial 146 finished with value: 0.8475530804037591 and parameters: {'max_depth': 17, 'max_features': 0.7957983064162794, 'n_estimators': 86}. Best is trial 23 with value: 0.8475530804037591.\n",
            "[I 2023-11-30 13:25:47,099] Trial 147 finished with value: 0.8416359206404456 and parameters: {'max_depth': 16, 'max_features': 0.7785754441846976, 'n_estimators': 99}. Best is trial 23 with value: 0.8475530804037591.\n",
            "[I 2023-11-30 13:25:47,977] Trial 148 finished with value: 0.8440027845457709 and parameters: {'max_depth': 18, 'max_features': 0.7580375253917279, 'n_estimators': 77}. Best is trial 23 with value: 0.8475530804037591.\n",
            "[I 2023-11-30 13:25:49,003] Trial 149 finished with value: 0.8440027845457709 and parameters: {'max_depth': 15, 'max_features': 0.7720832977034591, 'n_estimators': 91}. Best is trial 23 with value: 0.8475530804037591.\n",
            "[I 2023-11-30 13:25:49,928] Trial 150 finished with value: 0.8451862164984337 and parameters: {'max_depth': 17, 'max_features': 0.7877186357335293, 'n_estimators': 82}. Best is trial 23 with value: 0.8475530804037591.\n",
            "[I 2023-11-30 13:25:50,889] Trial 151 finished with value: 0.8475530804037591 and parameters: {'max_depth': 17, 'max_features': 0.7997507227395662, 'n_estimators': 86}. Best is trial 23 with value: 0.8475530804037591.\n",
            "[I 2023-11-30 13:25:52,364] Trial 152 finished with value: 0.8392760180995475 and parameters: {'max_depth': 17, 'max_features': 0.782062073478055, 'n_estimators': 136}. Best is trial 23 with value: 0.8475530804037591.\n",
            "[I 2023-11-30 13:25:53,386] Trial 153 finished with value: 0.8451862164984337 and parameters: {'max_depth': 17, 'max_features': 0.7661059393994157, 'n_estimators': 93}. Best is trial 23 with value: 0.8475530804037591.\n",
            "[I 2023-11-30 13:25:54,354] Trial 154 finished with value: 0.8475530804037591 and parameters: {'max_depth': 17, 'max_features': 0.7912795254027502, 'n_estimators': 88}. Best is trial 23 with value: 0.8475530804037591.\n",
            "[I 2023-11-30 13:25:55,270] Trial 155 finished with value: 0.8463696484510965 and parameters: {'max_depth': 17, 'max_features': 0.7811575679529391, 'n_estimators': 83}. Best is trial 23 with value: 0.8475530804037591.\n",
            "[I 2023-11-30 13:25:56,120] Trial 156 finished with value: 0.8345492516533242 and parameters: {'max_depth': 16, 'max_features': 0.6892739460275055, 'n_estimators': 78}. Best is trial 23 with value: 0.8475530804037591.\n",
            "[I 2023-11-30 13:25:57,554] Trial 157 finished with value: 0.8475530804037591 and parameters: {'max_depth': 17, 'max_features': 0.772772744338393, 'n_estimators': 86}. Best is trial 23 with value: 0.8475530804037591.\n",
            "[I 2023-11-30 13:25:58,829] Trial 158 finished with value: 0.8357326836059867 and parameters: {'max_depth': 17, 'max_features': 0.7288372859797989, 'n_estimators': 73}. Best is trial 23 with value: 0.8475530804037591.\n",
            "[I 2023-11-30 13:26:00,491] Trial 159 finished with value: 0.8416428820048729 and parameters: {'max_depth': 20, 'max_features': 0.7875892173606728, 'n_estimators': 96}. Best is trial 23 with value: 0.8475530804037591.\n",
            "[I 2023-11-30 13:26:01,981] Trial 160 finished with value: 0.8345353289244694 and parameters: {'max_depth': 18, 'max_features': 0.7191515642718543, 'n_estimators': 89}. Best is trial 23 with value: 0.8475530804037591.\n",
            "[I 2023-11-30 13:26:03,368] Trial 161 finished with value: 0.8463696484510963 and parameters: {'max_depth': 17, 'max_features': 0.7916642081566992, 'n_estimators': 85}. Best is trial 23 with value: 0.8475530804037591.\n",
            "[I 2023-11-30 13:26:04,382] Trial 162 finished with value: 0.8451862164984337 and parameters: {'max_depth': 17, 'max_features': 0.7843360534804941, 'n_estimators': 93}. Best is trial 23 with value: 0.8475530804037591.\n",
            "[I 2023-11-30 13:26:05,355] Trial 163 finished with value: 0.8475530804037591 and parameters: {'max_depth': 17, 'max_features': 0.7772135263635602, 'n_estimators': 87}. Best is trial 23 with value: 0.8475530804037591.\n",
            "[I 2023-11-30 13:26:06,249] Trial 164 finished with value: 0.8451862164984337 and parameters: {'max_depth': 17, 'max_features': 0.7869508493387571, 'n_estimators': 80}. Best is trial 23 with value: 0.8475530804037591.\n",
            "[I 2023-11-30 13:26:07,248] Trial 165 finished with value: 0.8440027845457709 and parameters: {'max_depth': 17, 'max_features': 0.7621161713430172, 'n_estimators': 91}. Best is trial 23 with value: 0.8475530804037591.\n",
            "[I 2023-11-30 13:26:08,168] Trial 166 finished with value: 0.8463696484510965 and parameters: {'max_depth': 16, 'max_features': 0.7954151512814466, 'n_estimators': 83}. Best is trial 23 with value: 0.8475530804037591.\n",
            "[I 2023-11-30 13:26:09,140] Trial 167 finished with value: 0.8451931778628611 and parameters: {'max_depth': 17, 'max_features': 0.7688327615194113, 'n_estimators': 89}. Best is trial 23 with value: 0.8475530804037591.\n",
            "[I 2023-11-30 13:26:10,200] Trial 168 finished with value: 0.8428193525931084 and parameters: {'max_depth': 16, 'max_features': 0.7794058707439179, 'n_estimators': 97}. Best is trial 23 with value: 0.8475530804037591.\n",
            "[I 2023-11-30 13:26:11,169] Trial 169 finished with value: 0.8475530804037591 and parameters: {'max_depth': 17, 'max_features': 0.7898867145692048, 'n_estimators': 86}. Best is trial 23 with value: 0.8475530804037591.\n",
            "[I 2023-11-30 13:26:12,218] Trial 170 finished with value: 0.8440097459101985 and parameters: {'max_depth': 18, 'max_features': 0.7742740254808039, 'n_estimators': 94}. Best is trial 23 with value: 0.8475530804037591.\n",
            "[I 2023-11-30 13:26:13,174] Trial 171 finished with value: 0.8463696484510963 and parameters: {'max_depth': 17, 'max_features': 0.77646667826118, 'n_estimators': 85}. Best is trial 23 with value: 0.8475530804037591.\n",
            "[I 2023-11-30 13:26:14,585] Trial 172 finished with value: 0.8451862164984337 and parameters: {'max_depth': 17, 'max_features': 0.7838010132208492, 'n_estimators': 80}. Best is trial 23 with value: 0.8475530804037591.\n",
            "[I 2023-11-30 13:26:16,146] Trial 173 finished with value: 0.8475530804037591 and parameters: {'max_depth': 17, 'max_features': 0.76705419171259, 'n_estimators': 88}. Best is trial 23 with value: 0.8475530804037591.\n",
            "[I 2023-11-30 13:26:17,677] Trial 174 finished with value: 0.8345492516533242 and parameters: {'max_depth': 17, 'max_features': 0.6494853465767966, 'n_estimators': 91}. Best is trial 23 with value: 0.8475530804037591.\n",
            "[I 2023-11-30 13:26:19,172] Trial 175 finished with value: 0.8463696484510965 and parameters: {'max_depth': 17, 'max_features': 0.7951894032635852, 'n_estimators': 83}. Best is trial 23 with value: 0.8475530804037591.\n",
            "[I 2023-11-30 13:26:20,550] Trial 176 finished with value: 0.8475530804037591 and parameters: {'max_depth': 19, 'max_features': 0.7770727885809192, 'n_estimators': 86}. Best is trial 23 with value: 0.8475530804037591.\n",
            "[I 2023-11-30 13:26:21,433] Trial 177 finished with value: 0.8440027845457709 and parameters: {'max_depth': 17, 'max_features': 0.7537810094043478, 'n_estimators': 77}. Best is trial 23 with value: 0.8475530804037591.\n",
            "[I 2023-11-30 13:26:22,450] Trial 178 finished with value: 0.8440027845457709 and parameters: {'max_depth': 17, 'max_features': 0.7860092428415364, 'n_estimators': 91}. Best is trial 23 with value: 0.8475530804037591.\n",
            "[I 2023-11-30 13:26:23,356] Trial 179 finished with value: 0.8451862164984337 and parameters: {'max_depth': 16, 'max_features': 0.7718672243627208, 'n_estimators': 82}. Best is trial 23 with value: 0.8475530804037591.\n",
            "[I 2023-11-30 13:26:24,359] Trial 180 finished with value: 0.8451931778628611 and parameters: {'max_depth': 17, 'max_features': 0.7988849642598882, 'n_estimators': 89}. Best is trial 23 with value: 0.8475530804037591.\n",
            "[I 2023-11-30 13:26:25,390] Trial 181 finished with value: 0.8440097459101985 and parameters: {'max_depth': 17, 'max_features': 0.7894938189074446, 'n_estimators': 94}. Best is trial 23 with value: 0.8475530804037591.\n",
            "[I 2023-11-30 13:26:26,376] Trial 182 finished with value: 0.8475530804037591 and parameters: {'max_depth': 20, 'max_features': 0.7835358892336645, 'n_estimators': 88}. Best is trial 23 with value: 0.8475530804037591.\n",
            "[I 2023-11-30 13:26:27,366] Trial 183 finished with value: 0.8451931778628611 and parameters: {'max_depth': 20, 'max_features': 0.7910987403149673, 'n_estimators': 89}. Best is trial 23 with value: 0.8475530804037591.\n",
            "[I 2023-11-30 13:26:28,277] Trial 184 finished with value: 0.8333518969718066 and parameters: {'max_depth': 17, 'max_features': 0.7081909692951849, 'n_estimators': 85}. Best is trial 23 with value: 0.8475530804037591.\n",
            "[I 2023-11-30 13:26:29,275] Trial 185 finished with value: 0.8440027845457709 and parameters: {'max_depth': 19, 'max_features': 0.7801445322711488, 'n_estimators': 91}. Best is trial 23 with value: 0.8475530804037591.\n",
            "[I 2023-11-30 13:26:30,169] Trial 186 finished with value: 0.8451862164984337 and parameters: {'max_depth': 20, 'max_features': 0.7637618545404465, 'n_estimators': 80}. Best is trial 23 with value: 0.8475530804037591.\n",
            "[I 2023-11-30 13:26:31,885] Trial 187 finished with value: 0.8404524886877829 and parameters: {'max_depth': 20, 'max_features': 0.7738617464326422, 'n_estimators': 101}. Best is trial 23 with value: 0.8475530804037591.\n",
            "[I 2023-11-30 13:26:33,573] Trial 188 finished with value: 0.8404524886877829 and parameters: {'max_depth': 20, 'max_features': 0.7864037062685749, 'n_estimators': 98}. Best is trial 23 with value: 0.8475530804037591.\n",
            "[I 2023-11-30 13:26:35,189] Trial 189 finished with value: 0.8451862164984337 and parameters: {'max_depth': 16, 'max_features': 0.793112205987936, 'n_estimators': 93}. Best is trial 23 with value: 0.8475530804037591.\n",
            "[I 2023-11-30 13:26:36,673] Trial 190 finished with value: 0.8475530804037591 and parameters: {'max_depth': 17, 'max_features': 0.7806973364751857, 'n_estimators': 84}. Best is trial 23 with value: 0.8475530804037591.\n",
            "[I 2023-11-30 13:26:37,825] Trial 191 finished with value: 0.8463696484510963 and parameters: {'max_depth': 20, 'max_features': 0.7992104518921563, 'n_estimators': 85}. Best is trial 23 with value: 0.8475530804037591.\n",
            "[I 2023-11-30 13:26:38,789] Trial 192 finished with value: 0.8475530804037591 and parameters: {'max_depth': 20, 'max_features': 0.7920587397209627, 'n_estimators': 87}. Best is trial 23 with value: 0.8475530804037591.\n",
            "[I 2023-11-30 13:26:39,702] Trial 193 finished with value: 0.8451862164984337 and parameters: {'max_depth': 20, 'max_features': 0.7857625972426344, 'n_estimators': 82}. Best is trial 23 with value: 0.8475530804037591.\n",
            "[I 2023-11-30 13:26:41,063] Trial 194 finished with value: 0.8380856247824573 and parameters: {'max_depth': 20, 'max_features': 0.7998871248634872, 'n_estimators': 125}. Best is trial 23 with value: 0.8475530804037591.\n",
            "[I 2023-11-30 13:26:42,070] Trial 195 finished with value: 0.8440027845457709 and parameters: {'max_depth': 20, 'max_features': 0.7788528568461891, 'n_estimators': 91}. Best is trial 23 with value: 0.8475530804037591.\n",
            "[I 2023-11-30 13:26:42,978] Trial 196 finished with value: 0.8475530804037591 and parameters: {'max_depth': 17, 'max_features': 0.7698810069736693, 'n_estimators': 84}. Best is trial 23 with value: 0.8475530804037591.\n",
            "[I 2023-11-30 13:26:44,269] Trial 197 finished with value: 0.8380856247824573 and parameters: {'max_depth': 17, 'max_features': 0.7921717430427672, 'n_estimators': 119}. Best is trial 23 with value: 0.8475530804037591.\n",
            "[I 2023-11-30 13:26:45,252] Trial 198 finished with value: 0.8475530804037591 and parameters: {'max_depth': 17, 'max_features': 0.7859351505326829, 'n_estimators': 88}. Best is trial 23 with value: 0.8475530804037591.\n",
            "[I 2023-11-30 13:26:46,087] Trial 199 finished with value: 0.8321754263835711 and parameters: {'max_depth': 17, 'max_features': 0.5755492947679265, 'n_estimators': 80}. Best is trial 23 with value: 0.8475530804037591.\n"
          ]
        }
      ],
      "source": [
        "K = 5   # Kfold 수\n",
        "opt_func = partial(rf_optimizer, X=X_train, y=y_train, K=K)\n",
        "\n",
        "study_rf = optuna.create_study(direction=\"maximize\") # 최소/최대 어느 방향의 최적값을 구할 건지.\n",
        "study_rf.optimize(opt_func, n_trials=200)"
      ]
    },
    {
      "cell_type": "code",
      "execution_count": 64,
      "metadata": {
        "colab": {
          "base_uri": "https://localhost:8080/"
        },
        "id": "NQ9p9qAGKLeY",
        "outputId": "77354110-2f67-4e1d-ed92-6baf2c8401de"
      },
      "outputs": [
        {
          "name": "stderr",
          "output_type": "stream",
          "text": [
            "[I 2023-11-30 13:51:20,762] A new study created in memory with name: no-name-4a143248-60de-4a86-b76e-f468343d8201\n",
            "[I 2023-11-30 13:51:21,166] Trial 0 finished with value: 0.8274625826662027 and parameters: {'max_depth': 9, 'reg_lambda': 7.775692619718112, 'colsample_bynode': 0.5, 'tree_method': 'exact'}. Best is trial 0 with value: 0.8274625826662027.\n",
            "[I 2023-11-30 13:51:21,458] Trial 1 finished with value: 0.8062234597981204 and parameters: {'max_depth': 12, 'reg_lambda': 19.037533052791094, 'colsample_bynode': 0.7, 'tree_method': 'hist'}. Best is trial 0 with value: 0.8274625826662027.\n",
            "[I 2023-11-30 13:51:21,746] Trial 2 finished with value: 0.814500522102332 and parameters: {'max_depth': 8, 'reg_lambda': 17.125517642962883, 'colsample_bynode': 0.7, 'tree_method': 'hist'}. Best is trial 0 with value: 0.8274625826662027.\n",
            "[I 2023-11-30 13:51:22,156] Trial 3 finished with value: 0.8050400278454578 and parameters: {'max_depth': 8, 'reg_lambda': 16.72347132529007, 'colsample_bynode': 0.7, 'tree_method': 'exact'}. Best is trial 0 with value: 0.8274625826662027.\n",
            "[I 2023-11-30 13:51:22,562] Trial 4 finished with value: 0.8357326836059867 and parameters: {'max_depth': 14, 'reg_lambda': 2.0079822977921555, 'colsample_bynode': 0.5, 'tree_method': 'exact'}. Best is trial 4 with value: 0.8357326836059867.\n",
            "[I 2023-11-30 13:51:22,824] Trial 5 finished with value: 0.8073790462930734 and parameters: {'max_depth': 13, 'reg_lambda': 19.937463751789952, 'colsample_bynode': 0.5, 'tree_method': 'hist'}. Best is trial 4 with value: 0.8357326836059867.\n",
            "[I 2023-11-30 13:51:23,109] Trial 6 finished with value: 0.8121127741037244 and parameters: {'max_depth': 7, 'reg_lambda': 13.937248567590528, 'colsample_bynode': 0.5, 'tree_method': 'hist'}. Best is trial 4 with value: 0.8357326836059867.\n",
            "[I 2023-11-30 13:51:23,420] Trial 7 finished with value: 0.8310268012530455 and parameters: {'max_depth': 12, 'reg_lambda': 4.277162293119881, 'colsample_bynode': 0.5, 'tree_method': 'hist'}. Best is trial 4 with value: 0.8357326836059867.\n",
            "[I 2023-11-30 13:51:23,753] Trial 8 finished with value: 0.8333588583362339 and parameters: {'max_depth': 6, 'reg_lambda': 3.1463641244674987, 'colsample_bynode': 0.5, 'tree_method': 'exact'}. Best is trial 4 with value: 0.8357326836059867.\n",
            "[I 2023-11-30 13:51:24,038] Trial 9 finished with value: 0.8132753219631048 and parameters: {'max_depth': 7, 'reg_lambda': 15.440630228635005, 'colsample_bynode': 0.5, 'tree_method': 'hist'}. Best is trial 4 with value: 0.8357326836059867.\n",
            "[I 2023-11-30 13:51:24,566] Trial 10 finished with value: 0.8463696484510965 and parameters: {'max_depth': 15, 'reg_lambda': 0.9134640923436859, 'colsample_bynode': 0.7, 'tree_method': 'exact'}. Best is trial 10 with value: 0.8463696484510965.\n",
            "[I 2023-11-30 13:51:25,132] Trial 11 finished with value: 0.8404664114166376 and parameters: {'max_depth': 15, 'reg_lambda': 0.7022665901837972, 'colsample_bynode': 0.7, 'tree_method': 'exact'}. Best is trial 10 with value: 0.8463696484510965.\n",
            "[I 2023-11-30 13:51:25,709] Trial 12 finished with value: 0.8404733727810652 and parameters: {'max_depth': 15, 'reg_lambda': 0.73734927470824, 'colsample_bynode': 0.7, 'tree_method': 'exact'}. Best is trial 10 with value: 0.8463696484510965.\n",
            "[I 2023-11-30 13:51:26,161] Trial 13 finished with value: 0.832189349112426 and parameters: {'max_depth': 15, 'reg_lambda': 5.748537936556583, 'colsample_bynode': 0.7, 'tree_method': 'exact'}. Best is trial 10 with value: 0.8463696484510965.\n",
            "[I 2023-11-30 13:51:26,683] Trial 14 finished with value: 0.8440097459101985 and parameters: {'max_depth': 11, 'reg_lambda': 1.0306753719367026, 'colsample_bynode': 0.7, 'tree_method': 'exact'}. Best is trial 10 with value: 0.8463696484510965.\n",
            "[I 2023-11-30 13:51:27,116] Trial 15 finished with value: 0.832189349112426 and parameters: {'max_depth': 11, 'reg_lambda': 7.0111209007867155, 'colsample_bynode': 0.7, 'tree_method': 'exact'}. Best is trial 10 with value: 0.8463696484510965.\n",
            "[I 2023-11-30 13:51:27,536] Trial 16 finished with value: 0.8239331709014968 and parameters: {'max_depth': 10, 'reg_lambda': 10.10194079959244, 'colsample_bynode': 0.7, 'tree_method': 'exact'}. Best is trial 10 with value: 0.8463696484510965.\n",
            "[I 2023-11-30 13:51:27,988] Trial 17 finished with value: 0.8333658197006614 and parameters: {'max_depth': 13, 'reg_lambda': 4.172817613594936, 'colsample_bynode': 0.7, 'tree_method': 'exact'}. Best is trial 10 with value: 0.8463696484510965.\n",
            "[I 2023-11-30 13:51:28,470] Trial 18 finished with value: 0.8345492516533242 and parameters: {'max_depth': 10, 'reg_lambda': 2.8982811584784702, 'colsample_bynode': 0.7, 'tree_method': 'exact'}. Best is trial 10 with value: 0.8463696484510965.\n",
            "[I 2023-11-30 13:51:28,993] Trial 19 finished with value: 0.8440097459101985 and parameters: {'max_depth': 11, 'reg_lambda': 0.8065907642917518, 'colsample_bynode': 0.7, 'tree_method': 'exact'}. Best is trial 10 with value: 0.8463696484510965.\n",
            "[I 2023-11-30 13:51:29,478] Trial 20 finished with value: 0.8333727810650886 and parameters: {'max_depth': 13, 'reg_lambda': 5.028721236345673, 'colsample_bynode': 0.7, 'tree_method': 'exact'}. Best is trial 10 with value: 0.8463696484510965.\n",
            "[I 2023-11-30 13:51:30,019] Trial 21 finished with value: 0.8392899408284024 and parameters: {'max_depth': 11, 'reg_lambda': 0.5687711150597795, 'colsample_bynode': 0.7, 'tree_method': 'exact'}. Best is trial 10 with value: 0.8463696484510965.\n",
            "[I 2023-11-30 13:51:30,509] Trial 22 finished with value: 0.8333727810650888 and parameters: {'max_depth': 11, 'reg_lambda': 2.378924361330202, 'colsample_bynode': 0.7, 'tree_method': 'exact'}. Best is trial 10 with value: 0.8463696484510965.\n",
            "[I 2023-11-30 13:51:30,917] Trial 23 finished with value: 0.8345562130177516 and parameters: {'max_depth': 5, 'reg_lambda': 2.283275037285854, 'colsample_bynode': 0.7, 'tree_method': 'exact'}. Best is trial 10 with value: 0.8463696484510965.\n",
            "[I 2023-11-30 13:51:34,148] Trial 24 finished with value: 0.8369161155586495 and parameters: {'max_depth': 9, 'reg_lambda': 0.5038786653157991, 'colsample_bynode': 0.7, 'tree_method': 'exact'}. Best is trial 10 with value: 0.8463696484510965.\n",
            "[I 2023-11-30 13:51:36,511] Trial 25 finished with value: 0.8333658197006614 and parameters: {'max_depth': 12, 'reg_lambda': 3.849744400552095, 'colsample_bynode': 0.7, 'tree_method': 'exact'}. Best is trial 10 with value: 0.8463696484510965.\n",
            "[I 2023-11-30 13:51:36,953] Trial 26 finished with value: 0.8310059171597632 and parameters: {'max_depth': 14, 'reg_lambda': 6.307435380624032, 'colsample_bynode': 0.7, 'tree_method': 'exact'}. Best is trial 10 with value: 0.8463696484510965.\n",
            "[I 2023-11-30 13:51:37,362] Trial 27 finished with value: 0.8333727810650886 and parameters: {'max_depth': 9, 'reg_lambda': 5.122605876737875, 'colsample_bynode': 0.7, 'tree_method': 'exact'}. Best is trial 10 with value: 0.8463696484510965.\n",
            "[I 2023-11-30 13:51:37,855] Trial 28 finished with value: 0.8380995475113122 and parameters: {'max_depth': 14, 'reg_lambda': 2.0156916460379364, 'colsample_bynode': 0.7, 'tree_method': 'exact'}. Best is trial 10 with value: 0.8463696484510965.\n",
            "[I 2023-11-30 13:51:38,267] Trial 29 finished with value: 0.8310059171597632 and parameters: {'max_depth': 10, 'reg_lambda': 8.121725159547402, 'colsample_bynode': 0.7, 'tree_method': 'exact'}. Best is trial 10 with value: 0.8463696484510965.\n",
            "[I 2023-11-30 13:51:38,725] Trial 30 finished with value: 0.8333727810650888 and parameters: {'max_depth': 11, 'reg_lambda': 3.374908846262407, 'colsample_bynode': 0.7, 'tree_method': 'exact'}. Best is trial 10 with value: 0.8463696484510965.\n",
            "[I 2023-11-30 13:51:39,221] Trial 31 finished with value: 0.8404664114166376 and parameters: {'max_depth': 15, 'reg_lambda': 1.3256468720726655, 'colsample_bynode': 0.7, 'tree_method': 'exact'}. Best is trial 10 with value: 0.8463696484510965.\n",
            "[I 2023-11-30 13:51:39,714] Trial 32 finished with value: 0.836923076923077 and parameters: {'max_depth': 14, 'reg_lambda': 1.6923408378271076, 'colsample_bynode': 0.7, 'tree_method': 'exact'}. Best is trial 10 with value: 0.8463696484510965.\n",
            "[I 2023-11-30 13:51:40,200] Trial 33 finished with value: 0.8404733727810652 and parameters: {'max_depth': 12, 'reg_lambda': 1.4234667231068232, 'colsample_bynode': 0.7, 'tree_method': 'exact'}. Best is trial 10 with value: 0.8463696484510965.\n",
            "[I 2023-11-30 13:51:40,528] Trial 34 finished with value: 0.8345492516533242 and parameters: {'max_depth': 15, 'reg_lambda': 2.9872762512243582, 'colsample_bynode': 0.7, 'tree_method': 'hist'}. Best is trial 10 with value: 0.8463696484510965.\n",
            "[I 2023-11-30 13:51:41,031] Trial 35 finished with value: 0.8392829794639749 and parameters: {'max_depth': 13, 'reg_lambda': 1.575067526380085, 'colsample_bynode': 0.7, 'tree_method': 'exact'}. Best is trial 10 with value: 0.8463696484510965.\n",
            "[I 2023-11-30 13:51:41,449] Trial 36 finished with value: 0.8333658197006614 and parameters: {'max_depth': 8, 'reg_lambda': 4.2632456893476665, 'colsample_bynode': 0.7, 'tree_method': 'exact'}. Best is trial 10 with value: 0.8463696484510965.\n",
            "[I 2023-11-30 13:51:41,820] Trial 37 finished with value: 0.8333727810650888 and parameters: {'max_depth': 14, 'reg_lambda': 0.7368696117382832, 'colsample_bynode': 0.5, 'tree_method': 'hist'}. Best is trial 10 with value: 0.8463696484510965.\n",
            "[I 2023-11-30 13:51:42,270] Trial 38 finished with value: 0.8333727810650888 and parameters: {'max_depth': 13, 'reg_lambda': 2.6802968200486736, 'colsample_bynode': 0.7, 'tree_method': 'exact'}. Best is trial 10 with value: 0.8463696484510965.\n",
            "[I 2023-11-30 13:51:42,575] Trial 39 finished with value: 0.8333658197006614 and parameters: {'max_depth': 12, 'reg_lambda': 3.4329638463455914, 'colsample_bynode': 0.5, 'tree_method': 'hist'}. Best is trial 10 with value: 0.8463696484510965.\n",
            "[I 2023-11-30 13:51:43,032] Trial 40 finished with value: 0.8380995475113122 and parameters: {'max_depth': 8, 'reg_lambda': 1.972800757375738, 'colsample_bynode': 0.7, 'tree_method': 'exact'}. Best is trial 10 with value: 0.8463696484510965.\n",
            "[I 2023-11-30 13:51:43,538] Trial 41 finished with value: 0.8404664114166376 and parameters: {'max_depth': 12, 'reg_lambda': 1.3372385780848308, 'colsample_bynode': 0.7, 'tree_method': 'exact'}. Best is trial 10 with value: 0.8463696484510965.\n",
            "[I 2023-11-30 13:51:44,039] Trial 42 finished with value: 0.8404733727810652 and parameters: {'max_depth': 10, 'reg_lambda': 1.4290606852107541, 'colsample_bynode': 0.7, 'tree_method': 'exact'}. Best is trial 10 with value: 0.8463696484510965.\n",
            "[I 2023-11-30 13:51:44,500] Trial 43 finished with value: 0.8333727810650888 and parameters: {'max_depth': 12, 'reg_lambda': 2.591272916401687, 'colsample_bynode': 0.7, 'tree_method': 'exact'}. Best is trial 10 with value: 0.8463696484510965.\n",
            "[I 2023-11-30 13:51:44,955] Trial 44 finished with value: 0.8404594500522101 and parameters: {'max_depth': 11, 'reg_lambda': 0.9058437846754889, 'colsample_bynode': 0.5, 'tree_method': 'exact'}. Best is trial 10 with value: 0.8463696484510965.\n",
            "[I 2023-11-30 13:51:45,291] Trial 45 finished with value: 0.8369161155586495 and parameters: {'max_depth': 15, 'reg_lambda': 3.28564034073076, 'colsample_bynode': 0.7, 'tree_method': 'hist'}. Best is trial 10 with value: 0.8463696484510965.\n",
            "[I 2023-11-30 13:51:45,719] Trial 46 finished with value: 0.8321823877479986 and parameters: {'max_depth': 14, 'reg_lambda': 4.7143130961078015, 'colsample_bynode': 0.7, 'tree_method': 'exact'}. Best is trial 10 with value: 0.8463696484510965.\n",
            "[I 2023-11-30 13:51:46,278] Trial 47 finished with value: 0.8345562130177514 and parameters: {'max_depth': 13, 'reg_lambda': 0.5083523906301576, 'colsample_bynode': 0.7, 'tree_method': 'exact'}. Best is trial 10 with value: 0.8463696484510965.\n",
            "[I 2023-11-30 13:51:48,696] Trial 48 finished with value: 0.8333588583362339 and parameters: {'max_depth': 10, 'reg_lambda': 3.8461538348663775, 'colsample_bynode': 0.5, 'tree_method': 'exact'}. Best is trial 10 with value: 0.8463696484510965.\n",
            "[I 2023-11-30 13:51:51,490] Trial 49 finished with value: 0.8369161155586495 and parameters: {'max_depth': 12, 'reg_lambda': 2.0341407259924718, 'colsample_bynode': 0.7, 'tree_method': 'exact'}. Best is trial 10 with value: 0.8463696484510965.\n",
            "[I 2023-11-30 13:51:52,092] Trial 50 finished with value: 0.8463835711799511 and parameters: {'max_depth': 15, 'reg_lambda': 1.4479192798795784, 'colsample_bynode': 0.7, 'tree_method': 'hist'}. Best is trial 50 with value: 0.8463835711799511.\n",
            "[I 2023-11-30 13:51:52,445] Trial 51 finished with value: 0.8428332753219632 and parameters: {'max_depth': 15, 'reg_lambda': 1.3253131574920511, 'colsample_bynode': 0.7, 'tree_method': 'hist'}. Best is trial 50 with value: 0.8463835711799511.\n",
            "[I 2023-11-30 13:51:52,774] Trial 52 finished with value: 0.8392829794639749 and parameters: {'max_depth': 15, 'reg_lambda': 2.5568342903125423, 'colsample_bynode': 0.7, 'tree_method': 'hist'}. Best is trial 50 with value: 0.8463835711799511.\n",
            "[I 2023-11-30 13:51:53,165] Trial 53 finished with value: 0.8440167072746257 and parameters: {'max_depth': 15, 'reg_lambda': 1.2536347830139838, 'colsample_bynode': 0.7, 'tree_method': 'hist'}. Best is trial 50 with value: 0.8463835711799511.\n",
            "[I 2023-11-30 13:51:53,524] Trial 54 finished with value: 0.8428402366863905 and parameters: {'max_depth': 15, 'reg_lambda': 1.3710525490311047, 'colsample_bynode': 0.7, 'tree_method': 'hist'}. Best is trial 50 with value: 0.8463835711799511.\n",
            "[I 2023-11-30 13:51:53,860] Trial 55 finished with value: 0.8392829794639749 and parameters: {'max_depth': 14, 'reg_lambda': 2.311823281135318, 'colsample_bynode': 0.7, 'tree_method': 'hist'}. Best is trial 50 with value: 0.8463835711799511.\n",
            "[I 2023-11-30 13:51:54,193] Trial 56 finished with value: 0.8392760180995475 and parameters: {'max_depth': 14, 'reg_lambda': 3.660980925422887, 'colsample_bynode': 0.7, 'tree_method': 'hist'}. Best is trial 50 with value: 0.8463835711799511.\n",
            "[I 2023-11-30 13:51:54,523] Trial 57 finished with value: 0.8369161155586495 and parameters: {'max_depth': 15, 'reg_lambda': 3.0950567506988227, 'colsample_bynode': 0.7, 'tree_method': 'hist'}. Best is trial 50 with value: 0.8463835711799511.\n",
            "[I 2023-11-30 13:51:54,817] Trial 58 finished with value: 0.8404664114166376 and parameters: {'max_depth': 6, 'reg_lambda': 0.5170800193459518, 'colsample_bynode': 0.5, 'tree_method': 'hist'}. Best is trial 50 with value: 0.8463835711799511.\n",
            "[I 2023-11-30 13:51:55,151] Trial 59 finished with value: 0.8357326836059868 and parameters: {'max_depth': 15, 'reg_lambda': 4.467898622416926, 'colsample_bynode': 0.7, 'tree_method': 'hist'}. Best is trial 50 with value: 0.8463835711799511.\n",
            "[I 2023-11-30 13:51:55,501] Trial 60 finished with value: 0.8416498433693004 and parameters: {'max_depth': 13, 'reg_lambda': 1.7550349769582105, 'colsample_bynode': 0.7, 'tree_method': 'hist'}. Best is trial 50 with value: 0.8463835711799511.\n",
            "[I 2023-11-30 13:51:55,864] Trial 61 finished with value: 0.8440167072746257 and parameters: {'max_depth': 15, 'reg_lambda': 1.1593833717636317, 'colsample_bynode': 0.7, 'tree_method': 'hist'}. Best is trial 50 with value: 0.8463835711799511.\n",
            "[I 2023-11-30 13:51:56,266] Trial 62 finished with value: 0.8440236686390532 and parameters: {'max_depth': 15, 'reg_lambda': 1.1050744043784115, 'colsample_bynode': 0.7, 'tree_method': 'hist'}. Best is trial 50 with value: 0.8463835711799511.\n",
            "[I 2023-11-30 13:51:56,619] Trial 63 finished with value: 0.8428402366863906 and parameters: {'max_depth': 14, 'reg_lambda': 2.277415557391943, 'colsample_bynode': 0.7, 'tree_method': 'hist'}. Best is trial 50 with value: 0.8463835711799511.\n",
            "[I 2023-11-30 13:51:56,993] Trial 64 finished with value: 0.8452001392272885 and parameters: {'max_depth': 14, 'reg_lambda': 0.9658267661145722, 'colsample_bynode': 0.7, 'tree_method': 'hist'}. Best is trial 50 with value: 0.8463835711799511.\n",
            "[I 2023-11-30 13:51:57,355] Trial 65 finished with value: 0.8333727810650888 and parameters: {'max_depth': 14, 'reg_lambda': 2.7168469574419514, 'colsample_bynode': 0.7, 'tree_method': 'hist'}. Best is trial 50 with value: 0.8463835711799511.\n",
            "[I 2023-11-30 13:51:57,725] Trial 66 finished with value: 0.8452001392272888 and parameters: {'max_depth': 15, 'reg_lambda': 1.0894793064929773, 'colsample_bynode': 0.7, 'tree_method': 'hist'}. Best is trial 50 with value: 0.8463835711799511.\n",
            "[I 2023-11-30 13:51:58,094] Trial 67 finished with value: 0.8428402366863906 and parameters: {'max_depth': 15, 'reg_lambda': 1.0430693748494055, 'colsample_bynode': 0.7, 'tree_method': 'hist'}. Best is trial 50 with value: 0.8463835711799511.\n",
            "[I 2023-11-30 13:51:58,468] Trial 68 finished with value: 0.8404803341454926 and parameters: {'max_depth': 15, 'reg_lambda': 2.1433756592144904, 'colsample_bynode': 0.7, 'tree_method': 'hist'}. Best is trial 50 with value: 0.8463835711799511.\n",
            "[I 2023-11-30 13:51:58,816] Trial 69 finished with value: 0.8416637660981552 and parameters: {'max_depth': 15, 'reg_lambda': 1.677340198144923, 'colsample_bynode': 0.7, 'tree_method': 'hist'}. Best is trial 50 with value: 0.8463835711799511.\n",
            "[I 2023-11-30 13:51:59,139] Trial 70 finished with value: 0.8369161155586495 and parameters: {'max_depth': 14, 'reg_lambda': 3.8303608632354758, 'colsample_bynode': 0.7, 'tree_method': 'hist'}. Best is trial 50 with value: 0.8463835711799511.\n",
            "[I 2023-11-30 13:51:59,526] Trial 71 finished with value: 0.8475600417681866 and parameters: {'max_depth': 15, 'reg_lambda': 1.0708692479366189, 'colsample_bynode': 0.7, 'tree_method': 'hist'}. Best is trial 71 with value: 0.8475600417681866.\n",
            "[I 2023-11-30 13:51:59,925] Trial 72 finished with value: 0.844016707274626 and parameters: {'max_depth': 15, 'reg_lambda': 1.0300242967240687, 'colsample_bynode': 0.7, 'tree_method': 'hist'}. Best is trial 71 with value: 0.8475600417681866.\n",
            "[I 2023-11-30 13:52:00,271] Trial 73 finished with value: 0.8345492516533242 and parameters: {'max_depth': 14, 'reg_lambda': 2.9849150231298083, 'colsample_bynode': 0.7, 'tree_method': 'hist'}. Best is trial 71 with value: 0.8475600417681866.\n",
            "[I 2023-11-30 13:52:00,647] Trial 74 finished with value: 0.8463835711799513 and parameters: {'max_depth': 15, 'reg_lambda': 1.0701161404408461, 'colsample_bynode': 0.7, 'tree_method': 'hist'}. Best is trial 71 with value: 0.8475600417681866.\n",
            "[I 2023-11-30 13:52:00,989] Trial 75 finished with value: 0.8416498433693004 and parameters: {'max_depth': 14, 'reg_lambda': 1.9665713285543727, 'colsample_bynode': 0.7, 'tree_method': 'hist'}. Best is trial 71 with value: 0.8475600417681866.\n",
            "[I 2023-11-30 13:52:01,413] Trial 76 finished with value: 0.8381065088757396 and parameters: {'max_depth': 15, 'reg_lambda': 0.5838486965775037, 'colsample_bynode': 0.7, 'tree_method': 'hist'}. Best is trial 71 with value: 0.8475600417681866.\n",
            "[I 2023-11-30 13:52:01,785] Trial 77 finished with value: 0.8452001392272885 and parameters: {'max_depth': 15, 'reg_lambda': 1.0159285201109702, 'colsample_bynode': 0.7, 'tree_method': 'hist'}. Best is trial 71 with value: 0.8475600417681866.\n",
            "[I 2023-11-30 13:52:03,106] Trial 78 finished with value: 0.8380995475113122 and parameters: {'max_depth': 14, 'reg_lambda': 1.7988896873994165, 'colsample_bynode': 0.5, 'tree_method': 'hist'}. Best is trial 71 with value: 0.8475600417681866.\n",
            "[I 2023-11-30 13:52:04,642] Trial 79 finished with value: 0.8357326836059867 and parameters: {'max_depth': 15, 'reg_lambda': 2.845234481221433, 'colsample_bynode': 0.7, 'tree_method': 'hist'}. Best is trial 71 with value: 0.8475600417681866.\n",
            "[I 2023-11-30 13:52:07,091] Trial 80 finished with value: 0.8452001392272885 and parameters: {'max_depth': 15, 'reg_lambda': 0.9672402442828145, 'colsample_bynode': 0.7, 'tree_method': 'hist'}. Best is trial 71 with value: 0.8475600417681866.\n",
            "[I 2023-11-30 13:52:07,792] Trial 81 finished with value: 0.8416498433693004 and parameters: {'max_depth': 15, 'reg_lambda': 1.7123404684525125, 'colsample_bynode': 0.7, 'tree_method': 'hist'}. Best is trial 71 with value: 0.8475600417681866.\n",
            "[I 2023-11-30 13:52:08,161] Trial 82 finished with value: 0.8475670031326141 and parameters: {'max_depth': 15, 'reg_lambda': 0.947497047191717, 'colsample_bynode': 0.7, 'tree_method': 'hist'}. Best is trial 82 with value: 0.8475670031326141.\n",
            "[I 2023-11-30 13:52:08,542] Trial 83 finished with value: 0.8428402366863906 and parameters: {'max_depth': 14, 'reg_lambda': 0.8164307816699303, 'colsample_bynode': 0.7, 'tree_method': 'hist'}. Best is trial 82 with value: 0.8475670031326141.\n",
            "[I 2023-11-30 13:52:08,909] Trial 84 finished with value: 0.836923076923077 and parameters: {'max_depth': 15, 'reg_lambda': 2.395705463253286, 'colsample_bynode': 0.7, 'tree_method': 'hist'}. Best is trial 82 with value: 0.8475670031326141.\n",
            "[I 2023-11-30 13:52:09,331] Trial 85 finished with value: 0.8392969021928298 and parameters: {'max_depth': 14, 'reg_lambda': 0.519536119259334, 'colsample_bynode': 0.7, 'tree_method': 'hist'}. Best is trial 82 with value: 0.8475670031326141.\n",
            "[I 2023-11-30 13:52:09,699] Trial 86 finished with value: 0.8416568047337278 and parameters: {'max_depth': 15, 'reg_lambda': 1.6632533220776642, 'colsample_bynode': 0.7, 'tree_method': 'hist'}. Best is trial 82 with value: 0.8475670031326141.\n",
            "[I 2023-11-30 13:52:10,019] Trial 87 finished with value: 0.8345631743821789 and parameters: {'max_depth': 15, 'reg_lambda': 3.478252491492968, 'colsample_bynode': 0.7, 'tree_method': 'hist'}. Best is trial 82 with value: 0.8475670031326141.\n",
            "[I 2023-11-30 13:52:10,399] Trial 88 finished with value: 0.844016707274626 and parameters: {'max_depth': 14, 'reg_lambda': 1.0272016246610132, 'colsample_bynode': 0.7, 'tree_method': 'hist'}. Best is trial 82 with value: 0.8475670031326141.\n",
            "[I 2023-11-30 13:52:10,757] Trial 89 finished with value: 0.8404664114166376 and parameters: {'max_depth': 13, 'reg_lambda': 2.282508364144032, 'colsample_bynode': 0.7, 'tree_method': 'hist'}. Best is trial 82 with value: 0.8475670031326141.\n",
            "[I 2023-11-30 13:52:11,069] Trial 90 finished with value: 0.8380995475113122 and parameters: {'max_depth': 15, 'reg_lambda': 2.7491366343023733, 'colsample_bynode': 0.5, 'tree_method': 'hist'}. Best is trial 82 with value: 0.8475670031326141.\n",
            "[I 2023-11-30 13:52:11,442] Trial 91 finished with value: 0.8428402366863906 and parameters: {'max_depth': 15, 'reg_lambda': 1.0210641181324922, 'colsample_bynode': 0.7, 'tree_method': 'hist'}. Best is trial 82 with value: 0.8475670031326141.\n",
            "[I 2023-11-30 13:52:11,833] Trial 92 finished with value: 0.8428332753219632 and parameters: {'max_depth': 15, 'reg_lambda': 1.3021353490732601, 'colsample_bynode': 0.7, 'tree_method': 'hist'}. Best is trial 82 with value: 0.8475670031326141.\n",
            "[I 2023-11-30 13:52:12,179] Trial 93 finished with value: 0.8416498433693004 and parameters: {'max_depth': 15, 'reg_lambda': 1.695237423255782, 'colsample_bynode': 0.7, 'tree_method': 'hist'}. Best is trial 82 with value: 0.8475670031326141.\n",
            "[I 2023-11-30 13:52:12,552] Trial 94 finished with value: 0.8416498433693004 and parameters: {'max_depth': 14, 'reg_lambda': 1.0095384211562168, 'colsample_bynode': 0.7, 'tree_method': 'hist'}. Best is trial 82 with value: 0.8475670031326141.\n",
            "[I 2023-11-30 13:52:12,921] Trial 95 finished with value: 0.8416568047337278 and parameters: {'max_depth': 15, 'reg_lambda': 2.056450531158979, 'colsample_bynode': 0.7, 'tree_method': 'hist'}. Best is trial 82 with value: 0.8475670031326141.\n",
            "[I 2023-11-30 13:52:13,331] Trial 96 finished with value: 0.8404664114166376 and parameters: {'max_depth': 14, 'reg_lambda': 0.5225834422388554, 'colsample_bynode': 0.7, 'tree_method': 'hist'}. Best is trial 82 with value: 0.8475670031326141.\n",
            "[I 2023-11-30 13:52:13,688] Trial 97 finished with value: 0.8392899408284024 and parameters: {'max_depth': 15, 'reg_lambda': 1.4271766255637715, 'colsample_bynode': 0.7, 'tree_method': 'hist'}. Best is trial 82 with value: 0.8475670031326141.\n",
            "[I 2023-11-30 13:52:14,034] Trial 98 finished with value: 0.8392760180995475 and parameters: {'max_depth': 15, 'reg_lambda': 3.122155962543152, 'colsample_bynode': 0.7, 'tree_method': 'hist'}. Best is trial 82 with value: 0.8475670031326141.\n",
            "[I 2023-11-30 13:52:14,366] Trial 99 finished with value: 0.836923076923077 and parameters: {'max_depth': 14, 'reg_lambda': 2.351499934913128, 'colsample_bynode': 0.7, 'tree_method': 'hist'}. Best is trial 82 with value: 0.8475670031326141.\n",
            "[I 2023-11-30 13:52:14,749] Trial 100 finished with value: 0.842833275321963 and parameters: {'max_depth': 15, 'reg_lambda': 0.8860019487853913, 'colsample_bynode': 0.7, 'tree_method': 'hist'}. Best is trial 82 with value: 0.8475670031326141.\n",
            "[I 2023-11-30 13:52:15,141] Trial 101 finished with value: 0.8428332753219632 and parameters: {'max_depth': 15, 'reg_lambda': 1.0027657821914162, 'colsample_bynode': 0.7, 'tree_method': 'hist'}. Best is trial 82 with value: 0.8475670031326141.\n",
            "[I 2023-11-30 13:52:15,501] Trial 102 finished with value: 0.8416498433693004 and parameters: {'max_depth': 15, 'reg_lambda': 1.4202101827328522, 'colsample_bynode': 0.7, 'tree_method': 'hist'}. Best is trial 82 with value: 0.8475670031326141.\n",
            "[I 2023-11-30 13:52:15,875] Trial 103 finished with value: 0.8416498433693004 and parameters: {'max_depth': 15, 'reg_lambda': 1.8607106357151508, 'colsample_bynode': 0.7, 'tree_method': 'hist'}. Best is trial 82 with value: 0.8475670031326141.\n",
            "[I 2023-11-30 13:52:16,253] Trial 104 finished with value: 0.844016707274626 and parameters: {'max_depth': 15, 'reg_lambda': 1.0091782801745084, 'colsample_bynode': 0.7, 'tree_method': 'hist'}. Best is trial 82 with value: 0.8475670031326141.\n",
            "[I 2023-11-30 13:52:16,611] Trial 105 finished with value: 0.8428402366863906 and parameters: {'max_depth': 14, 'reg_lambda': 1.3576507837527902, 'colsample_bynode': 0.7, 'tree_method': 'hist'}. Best is trial 82 with value: 0.8475670031326141.\n",
            "[I 2023-11-30 13:52:16,972] Trial 106 finished with value: 0.8369161155586495 and parameters: {'max_depth': 15, 'reg_lambda': 2.5958199124181665, 'colsample_bynode': 0.7, 'tree_method': 'hist'}. Best is trial 82 with value: 0.8475670031326141.\n",
            "[I 2023-11-30 13:52:17,370] Trial 107 finished with value: 0.8404733727810652 and parameters: {'max_depth': 15, 'reg_lambda': 0.5111342457289685, 'colsample_bynode': 0.7, 'tree_method': 'hist'}. Best is trial 82 with value: 0.8475670031326141.\n",
            "[I 2023-11-30 13:52:17,833] Trial 108 finished with value: 0.8416568047337278 and parameters: {'max_depth': 14, 'reg_lambda': 2.03604034520451, 'colsample_bynode': 0.7, 'tree_method': 'hist'}. Best is trial 82 with value: 0.8475670031326141.\n",
            "[I 2023-11-30 13:52:19,602] Trial 109 finished with value: 0.8345631743821789 and parameters: {'max_depth': 15, 'reg_lambda': 0.8193965476994479, 'colsample_bynode': 0.5, 'tree_method': 'hist'}. Best is trial 82 with value: 0.8475670031326141.\n",
            "[I 2023-11-30 13:52:22,495] Trial 110 finished with value: 0.8404733727810652 and parameters: {'max_depth': 14, 'reg_lambda': 1.6412359959164218, 'colsample_bynode': 0.7, 'tree_method': 'hist'}. Best is trial 82 with value: 0.8475670031326141.\n",
            "[I 2023-11-30 13:52:23,370] Trial 111 finished with value: 0.8416498433693004 and parameters: {'max_depth': 14, 'reg_lambda': 1.100745334301918, 'colsample_bynode': 0.7, 'tree_method': 'hist'}. Best is trial 82 with value: 0.8475670031326141.\n",
            "[I 2023-11-30 13:52:23,735] Trial 112 finished with value: 0.8452001392272885 and parameters: {'max_depth': 15, 'reg_lambda': 1.1380828235841285, 'colsample_bynode': 0.7, 'tree_method': 'hist'}. Best is trial 82 with value: 0.8475670031326141.\n",
            "[I 2023-11-30 13:52:24,081] Trial 113 finished with value: 0.8369161155586495 and parameters: {'max_depth': 15, 'reg_lambda': 2.0681139027670223, 'colsample_bynode': 0.7, 'tree_method': 'hist'}. Best is trial 82 with value: 0.8475670031326141.\n",
            "[I 2023-11-30 13:52:24,464] Trial 114 finished with value: 0.8440167072746257 and parameters: {'max_depth': 15, 'reg_lambda': 1.4245201792575628, 'colsample_bynode': 0.7, 'tree_method': 'hist'}. Best is trial 82 with value: 0.8475670031326141.\n",
            "[I 2023-11-30 13:52:24,851] Trial 115 finished with value: 0.844016707274626 and parameters: {'max_depth': 15, 'reg_lambda': 0.8581215931886081, 'colsample_bynode': 0.7, 'tree_method': 'hist'}. Best is trial 82 with value: 0.8475670031326141.\n",
            "[I 2023-11-30 13:52:25,203] Trial 116 finished with value: 0.8392829794639749 and parameters: {'max_depth': 15, 'reg_lambda': 2.531441078184832, 'colsample_bynode': 0.7, 'tree_method': 'hist'}. Best is trial 82 with value: 0.8475670031326141.\n",
            "[I 2023-11-30 13:52:25,571] Trial 117 finished with value: 0.8440167072746257 and parameters: {'max_depth': 15, 'reg_lambda': 1.5308841426114377, 'colsample_bynode': 0.7, 'tree_method': 'hist'}. Best is trial 82 with value: 0.8475670031326141.\n",
            "[I 2023-11-30 13:52:25,911] Trial 118 finished with value: 0.8392760180995475 and parameters: {'max_depth': 14, 'reg_lambda': 3.130707347511705, 'colsample_bynode': 0.7, 'tree_method': 'hist'}. Best is trial 82 with value: 0.8475670031326141.\n",
            "[I 2023-11-30 13:52:26,286] Trial 119 finished with value: 0.8392899408284024 and parameters: {'max_depth': 15, 'reg_lambda': 1.805338655967144, 'colsample_bynode': 0.7, 'tree_method': 'hist'}. Best is trial 82 with value: 0.8475670031326141.\n",
            "[I 2023-11-30 13:52:26,638] Trial 120 finished with value: 0.8416498433693004 and parameters: {'max_depth': 7, 'reg_lambda': 0.5238102652746626, 'colsample_bynode': 0.7, 'tree_method': 'hist'}. Best is trial 82 with value: 0.8475670031326141.\n",
            "[I 2023-11-30 13:52:27,010] Trial 121 finished with value: 0.8440167072746257 and parameters: {'max_depth': 14, 'reg_lambda': 1.151991179333986, 'colsample_bynode': 0.7, 'tree_method': 'hist'}. Best is trial 82 with value: 0.8475670031326141.\n",
            "[I 2023-11-30 13:52:27,420] Trial 122 finished with value: 0.8416498433693004 and parameters: {'max_depth': 13, 'reg_lambda': 0.8826376962654267, 'colsample_bynode': 0.7, 'tree_method': 'hist'}. Best is trial 82 with value: 0.8475670031326141.\n",
            "[I 2023-11-30 13:52:27,788] Trial 123 finished with value: 0.8451931778628612 and parameters: {'max_depth': 15, 'reg_lambda': 1.201408665010216, 'colsample_bynode': 0.7, 'tree_method': 'hist'}. Best is trial 82 with value: 0.8475670031326141.\n",
            "[I 2023-11-30 13:52:28,151] Trial 124 finished with value: 0.8428402366863905 and parameters: {'max_depth': 15, 'reg_lambda': 2.1740975137884244, 'colsample_bynode': 0.7, 'tree_method': 'hist'}. Best is trial 82 with value: 0.8475670031326141.\n",
            "[I 2023-11-30 13:52:28,533] Trial 125 finished with value: 0.8428402366863905 and parameters: {'max_depth': 15, 'reg_lambda': 1.2631050609815189, 'colsample_bynode': 0.7, 'tree_method': 'hist'}. Best is trial 82 with value: 0.8475670031326141.\n",
            "[I 2023-11-30 13:52:28,893] Trial 126 finished with value: 0.8416498433693004 and parameters: {'max_depth': 15, 'reg_lambda': 1.7242297117702676, 'colsample_bynode': 0.7, 'tree_method': 'hist'}. Best is trial 82 with value: 0.8475670031326141.\n",
            "[I 2023-11-30 13:52:29,229] Trial 127 finished with value: 0.8345492516533242 and parameters: {'max_depth': 15, 'reg_lambda': 2.8439253938768436, 'colsample_bynode': 0.7, 'tree_method': 'hist'}. Best is trial 82 with value: 0.8475670031326141.\n",
            "[I 2023-11-30 13:52:29,563] Trial 128 finished with value: 0.8392760180995475 and parameters: {'max_depth': 15, 'reg_lambda': 2.3195958717340224, 'colsample_bynode': 0.5, 'tree_method': 'hist'}. Best is trial 82 with value: 0.8475670031326141.\n",
            "[I 2023-11-30 13:52:29,972] Trial 129 finished with value: 0.8428332753219632 and parameters: {'max_depth': 15, 'reg_lambda': 0.8045585697655417, 'colsample_bynode': 0.7, 'tree_method': 'hist'}. Best is trial 82 with value: 0.8475670031326141.\n",
            "[I 2023-11-30 13:52:30,401] Trial 130 finished with value: 0.8333797424295162 and parameters: {'max_depth': 14, 'reg_lambda': 0.500311374810148, 'colsample_bynode': 0.7, 'tree_method': 'hist'}. Best is trial 82 with value: 0.8475670031326141.\n",
            "[I 2023-11-30 13:52:30,779] Trial 131 finished with value: 0.8475600417681866 and parameters: {'max_depth': 15, 'reg_lambda': 1.0778808944690124, 'colsample_bynode': 0.7, 'tree_method': 'hist'}. Best is trial 82 with value: 0.8475670031326141.\n",
            "[I 2023-11-30 13:52:31,141] Trial 132 finished with value: 0.8440236686390532 and parameters: {'max_depth': 15, 'reg_lambda': 1.348671112146307, 'colsample_bynode': 0.7, 'tree_method': 'hist'}. Best is trial 82 with value: 0.8475670031326141.\n",
            "[I 2023-11-30 13:52:31,517] Trial 133 finished with value: 0.8416568047337278 and parameters: {'max_depth': 15, 'reg_lambda': 1.4646835403166723, 'colsample_bynode': 0.7, 'tree_method': 'hist'}. Best is trial 82 with value: 0.8475670031326141.\n",
            "[I 2023-11-30 13:52:31,874] Trial 134 finished with value: 0.842833275321963 and parameters: {'max_depth': 15, 'reg_lambda': 1.814066984601908, 'colsample_bynode': 0.7, 'tree_method': 'hist'}. Best is trial 82 with value: 0.8475670031326141.\n",
            "[I 2023-11-30 13:52:32,243] Trial 135 finished with value: 0.8416428820048729 and parameters: {'max_depth': 15, 'reg_lambda': 1.2308255400243073, 'colsample_bynode': 0.7, 'tree_method': 'hist'}. Best is trial 82 with value: 0.8475670031326141.\n",
            "[I 2023-11-30 13:52:32,605] Trial 136 finished with value: 0.8428402366863905 and parameters: {'max_depth': 15, 'reg_lambda': 2.0847923319121535, 'colsample_bynode': 0.7, 'tree_method': 'hist'}. Best is trial 82 with value: 0.8475670031326141.\n",
            "[I 2023-11-30 13:52:32,927] Trial 137 finished with value: 0.8333727810650888 and parameters: {'max_depth': 14, 'reg_lambda': 5.788230589037639, 'colsample_bynode': 0.7, 'tree_method': 'hist'}. Best is trial 82 with value: 0.8475670031326141.\n",
            "[I 2023-11-30 13:52:33,335] Trial 138 finished with value: 0.8428402366863905 and parameters: {'max_depth': 15, 'reg_lambda': 1.4680410988820116, 'colsample_bynode': 0.7, 'tree_method': 'hist'}. Best is trial 82 with value: 0.8475670031326141.\n",
            "[I 2023-11-30 13:52:35,723] Trial 139 finished with value: 0.8333727810650888 and parameters: {'max_depth': 15, 'reg_lambda': 2.5833321657601873, 'colsample_bynode': 0.7, 'tree_method': 'exact'}. Best is trial 82 with value: 0.8475670031326141.\n",
            "[I 2023-11-30 13:52:37,288] Trial 140 finished with value: 0.8416428820048729 and parameters: {'max_depth': 5, 'reg_lambda': 0.8312639820938753, 'colsample_bynode': 0.7, 'tree_method': 'hist'}. Best is trial 82 with value: 0.8475670031326141.\n",
            "[I 2023-11-30 13:52:38,851] Trial 141 finished with value: 0.8428402366863906 and parameters: {'max_depth': 15, 'reg_lambda': 1.1163608924497566, 'colsample_bynode': 0.7, 'tree_method': 'hist'}. Best is trial 82 with value: 0.8475670031326141.\n",
            "[I 2023-11-30 13:52:39,451] Trial 142 finished with value: 0.8392899408284024 and parameters: {'max_depth': 15, 'reg_lambda': 0.5116022853291828, 'colsample_bynode': 0.7, 'tree_method': 'hist'}. Best is trial 82 with value: 0.8475670031326141.\n",
            "[I 2023-11-30 13:52:39,822] Trial 143 finished with value: 0.8416498433693004 and parameters: {'max_depth': 15, 'reg_lambda': 1.7959591661280867, 'colsample_bynode': 0.7, 'tree_method': 'hist'}. Best is trial 82 with value: 0.8475670031326141.\n",
            "[I 2023-11-30 13:52:40,190] Trial 144 finished with value: 0.8428332753219632 and parameters: {'max_depth': 15, 'reg_lambda': 1.0877181403515546, 'colsample_bynode': 0.7, 'tree_method': 'hist'}. Best is trial 82 with value: 0.8475670031326141.\n",
            "[I 2023-11-30 13:52:40,496] Trial 145 finished with value: 0.8357396449704142 and parameters: {'max_depth': 9, 'reg_lambda': 7.458821335692937, 'colsample_bynode': 0.7, 'tree_method': 'hist'}. Best is trial 82 with value: 0.8475670031326141.\n",
            "[I 2023-11-30 13:52:40,814] Trial 146 finished with value: 0.832189349112426 and parameters: {'max_depth': 15, 'reg_lambda': 9.398322797901194, 'colsample_bynode': 0.7, 'tree_method': 'hist'}. Best is trial 82 with value: 0.8475670031326141.\n",
            "[I 2023-11-30 13:52:41,177] Trial 147 finished with value: 0.8440167072746257 and parameters: {'max_depth': 15, 'reg_lambda': 1.5597533250580136, 'colsample_bynode': 0.7, 'tree_method': 'hist'}. Best is trial 82 with value: 0.8475670031326141.\n",
            "[I 2023-11-30 13:52:41,543] Trial 148 finished with value: 0.8392969021928298 and parameters: {'max_depth': 14, 'reg_lambda': 2.0035649774713864, 'colsample_bynode': 0.7, 'tree_method': 'hist'}. Best is trial 82 with value: 0.8475670031326141.\n",
            "[I 2023-11-30 13:52:41,944] Trial 149 finished with value: 0.8428332753219632 and parameters: {'max_depth': 14, 'reg_lambda': 0.9012039437006895, 'colsample_bynode': 0.7, 'tree_method': 'hist'}. Best is trial 82 with value: 0.8475670031326141.\n",
            "[I 2023-11-30 13:52:42,368] Trial 150 finished with value: 0.8369161155586495 and parameters: {'max_depth': 15, 'reg_lambda': 1.2286134012961791, 'colsample_bynode': 0.5, 'tree_method': 'exact'}. Best is trial 82 with value: 0.8475670031326141.\n",
            "[I 2023-11-30 13:52:42,759] Trial 151 finished with value: 0.844016707274626 and parameters: {'max_depth': 15, 'reg_lambda': 0.8710795835548195, 'colsample_bynode': 0.7, 'tree_method': 'hist'}. Best is trial 82 with value: 0.8475670031326141.\n",
            "[I 2023-11-30 13:52:43,149] Trial 152 finished with value: 0.8428332753219632 and parameters: {'max_depth': 14, 'reg_lambda': 1.3015274210933576, 'colsample_bynode': 0.7, 'tree_method': 'hist'}. Best is trial 82 with value: 0.8475670031326141.\n",
            "[I 2023-11-30 13:52:43,505] Trial 153 finished with value: 0.8416568047337278 and parameters: {'max_depth': 15, 'reg_lambda': 1.5959125684105604, 'colsample_bynode': 0.7, 'tree_method': 'hist'}. Best is trial 82 with value: 0.8475670031326141.\n",
            "[I 2023-11-30 13:52:43,940] Trial 154 finished with value: 0.8404733727810652 and parameters: {'max_depth': 15, 'reg_lambda': 0.5082270108968998, 'colsample_bynode': 0.7, 'tree_method': 'hist'}. Best is trial 82 with value: 0.8475670031326141.\n",
            "[I 2023-11-30 13:52:44,283] Trial 155 finished with value: 0.836923076923077 and parameters: {'max_depth': 14, 'reg_lambda': 2.3610018041066065, 'colsample_bynode': 0.7, 'tree_method': 'hist'}. Best is trial 82 with value: 0.8475670031326141.\n",
            "[I 2023-11-30 13:52:44,662] Trial 156 finished with value: 0.8428402366863906 and parameters: {'max_depth': 15, 'reg_lambda': 0.9267898631176014, 'colsample_bynode': 0.7, 'tree_method': 'hist'}. Best is trial 82 with value: 0.8475670031326141.\n",
            "[I 2023-11-30 13:52:45,031] Trial 157 finished with value: 0.8416498433693004 and parameters: {'max_depth': 15, 'reg_lambda': 2.0428230906727882, 'colsample_bynode': 0.7, 'tree_method': 'hist'}. Best is trial 82 with value: 0.8475670031326141.\n",
            "[I 2023-11-30 13:52:45,396] Trial 158 finished with value: 0.8440167072746257 and parameters: {'max_depth': 15, 'reg_lambda': 1.2782553468410425, 'colsample_bynode': 0.7, 'tree_method': 'hist'}. Best is trial 82 with value: 0.8475670031326141.\n",
            "[I 2023-11-30 13:52:45,741] Trial 159 finished with value: 0.8369091541942222 and parameters: {'max_depth': 14, 'reg_lambda': 3.3465763421113923, 'colsample_bynode': 0.7, 'tree_method': 'hist'}. Best is trial 82 with value: 0.8475670031326141.\n",
            "[I 2023-11-30 13:52:46,059] Trial 160 finished with value: 0.81567003132614 and parameters: {'max_depth': 15, 'reg_lambda': 13.624347911935548, 'colsample_bynode': 0.7, 'tree_method': 'hist'}. Best is trial 82 with value: 0.8475670031326141.\n",
            "[I 2023-11-30 13:52:46,446] Trial 161 finished with value: 0.8380925861468848 and parameters: {'max_depth': 15, 'reg_lambda': 0.8847450694901409, 'colsample_bynode': 0.7, 'tree_method': 'hist'}. Best is trial 82 with value: 0.8475670031326141.\n",
            "[I 2023-11-30 13:52:46,828] Trial 162 finished with value: 0.844016707274626 and parameters: {'max_depth': 15, 'reg_lambda': 1.1299319002665114, 'colsample_bynode': 0.7, 'tree_method': 'hist'}. Best is trial 82 with value: 0.8475670031326141.\n",
            "[I 2023-11-30 13:52:47,199] Trial 163 finished with value: 0.8452001392272885 and parameters: {'max_depth': 15, 'reg_lambda': 1.6531934321019133, 'colsample_bynode': 0.7, 'tree_method': 'hist'}. Best is trial 82 with value: 0.8475670031326141.\n",
            "[I 2023-11-30 13:52:47,560] Trial 164 finished with value: 0.8416498433693004 and parameters: {'max_depth': 15, 'reg_lambda': 1.7025792885168043, 'colsample_bynode': 0.7, 'tree_method': 'hist'}. Best is trial 82 with value: 0.8475670031326141.\n",
            "[I 2023-11-30 13:52:47,924] Trial 165 finished with value: 0.8428402366863905 and parameters: {'max_depth': 15, 'reg_lambda': 1.4682515856764606, 'colsample_bynode': 0.7, 'tree_method': 'hist'}. Best is trial 82 with value: 0.8475670031326141.\n",
            "[I 2023-11-30 13:52:48,294] Trial 166 finished with value: 0.8392899408284024 and parameters: {'max_depth': 15, 'reg_lambda': 1.9702941924490287, 'colsample_bynode': 0.7, 'tree_method': 'hist'}. Best is trial 82 with value: 0.8475670031326141.\n",
            "[I 2023-11-30 13:52:48,694] Trial 167 finished with value: 0.8404664114166376 and parameters: {'max_depth': 15, 'reg_lambda': 0.8021210977545163, 'colsample_bynode': 0.7, 'tree_method': 'hist'}. Best is trial 82 with value: 0.8475670031326141.\n",
            "[I 2023-11-30 13:52:49,383] Trial 168 finished with value: 0.8345562130177514 and parameters: {'max_depth': 14, 'reg_lambda': 0.5270686365596315, 'colsample_bynode': 0.7, 'tree_method': 'exact'}. Best is trial 82 with value: 0.8475670031326141.\n",
            "[I 2023-11-30 13:52:51,148] Trial 169 finished with value: 0.8404594500522103 and parameters: {'max_depth': 15, 'reg_lambda': 2.5427209967116378, 'colsample_bynode': 0.7, 'tree_method': 'hist'}. Best is trial 82 with value: 0.8475670031326141.\n",
            "[I 2023-11-30 13:52:53,227] Trial 170 finished with value: 0.844016707274626 and parameters: {'max_depth': 14, 'reg_lambda': 1.5724696279164638, 'colsample_bynode': 0.7, 'tree_method': 'hist'}. Best is trial 82 with value: 0.8475670031326141.\n",
            "[I 2023-11-30 13:52:54,816] Trial 171 finished with value: 0.8416498433693004 and parameters: {'max_depth': 15, 'reg_lambda': 1.0571203338827482, 'colsample_bynode': 0.7, 'tree_method': 'hist'}. Best is trial 82 with value: 0.8475670031326141.\n",
            "[I 2023-11-30 13:52:55,312] Trial 172 finished with value: 0.8463766098155239 and parameters: {'max_depth': 15, 'reg_lambda': 1.163109855410518, 'colsample_bynode': 0.7, 'tree_method': 'hist'}. Best is trial 82 with value: 0.8475670031326141.\n",
            "[I 2023-11-30 13:52:55,677] Trial 173 finished with value: 0.8440167072746257 and parameters: {'max_depth': 15, 'reg_lambda': 1.270691573663822, 'colsample_bynode': 0.7, 'tree_method': 'hist'}. Best is trial 82 with value: 0.8475670031326141.\n",
            "[I 2023-11-30 13:52:56,026] Trial 174 finished with value: 0.8416568047337277 and parameters: {'max_depth': 15, 'reg_lambda': 1.870166687503561, 'colsample_bynode': 0.7, 'tree_method': 'hist'}. Best is trial 82 with value: 0.8475670031326141.\n",
            "[I 2023-11-30 13:52:56,456] Trial 175 finished with value: 0.8404733727810652 and parameters: {'max_depth': 15, 'reg_lambda': 0.5173387744545785, 'colsample_bynode': 0.7, 'tree_method': 'hist'}. Best is trial 82 with value: 0.8475670031326141.\n",
            "[I 2023-11-30 13:52:56,824] Trial 176 finished with value: 0.8440236686390532 and parameters: {'max_depth': 15, 'reg_lambda': 1.2445904358020048, 'colsample_bynode': 0.7, 'tree_method': 'hist'}. Best is trial 82 with value: 0.8475670031326141.\n",
            "[I 2023-11-30 13:52:57,165] Trial 177 finished with value: 0.8392899408284024 and parameters: {'max_depth': 15, 'reg_lambda': 2.227075353783202, 'colsample_bynode': 0.7, 'tree_method': 'hist'}. Best is trial 82 with value: 0.8475670031326141.\n",
            "[I 2023-11-30 13:52:57,515] Trial 178 finished with value: 0.8381065088757398 and parameters: {'max_depth': 15, 'reg_lambda': 1.3965598125476832, 'colsample_bynode': 0.5, 'tree_method': 'hist'}. Best is trial 82 with value: 0.8475670031326141.\n",
            "[I 2023-11-30 13:52:57,868] Trial 179 finished with value: 0.8428402366863905 and parameters: {'max_depth': 15, 'reg_lambda': 1.6859662914152813, 'colsample_bynode': 0.7, 'tree_method': 'hist'}. Best is trial 82 with value: 0.8475670031326141.\n",
            "[I 2023-11-30 13:52:58,203] Trial 180 finished with value: 0.8321963104768534 and parameters: {'max_depth': 15, 'reg_lambda': 2.8993234039596327, 'colsample_bynode': 0.7, 'tree_method': 'hist'}. Best is trial 82 with value: 0.8475670031326141.\n",
            "[I 2023-11-30 13:52:58,543] Trial 181 finished with value: 0.8357326836059867 and parameters: {'max_depth': 15, 'reg_lambda': 4.217804071128821, 'colsample_bynode': 0.7, 'tree_method': 'hist'}. Best is trial 82 with value: 0.8475670031326141.\n",
            "[I 2023-11-30 13:52:58,941] Trial 182 finished with value: 0.8463766098155239 and parameters: {'max_depth': 15, 'reg_lambda': 1.0376941231016157, 'colsample_bynode': 0.7, 'tree_method': 'hist'}. Best is trial 82 with value: 0.8475670031326141.\n",
            "[I 2023-11-30 13:52:59,261] Trial 183 finished with value: 0.832189349112426 and parameters: {'max_depth': 15, 'reg_lambda': 4.9096662801036555, 'colsample_bynode': 0.7, 'tree_method': 'hist'}. Best is trial 82 with value: 0.8475670031326141.\n",
            "[I 2023-11-30 13:52:59,664] Trial 184 finished with value: 0.842833275321963 and parameters: {'max_depth': 15, 'reg_lambda': 0.8857052209695693, 'colsample_bynode': 0.7, 'tree_method': 'hist'}. Best is trial 82 with value: 0.8475670031326141.\n",
            "[I 2023-11-30 13:53:00,042] Trial 185 finished with value: 0.8416568047337278 and parameters: {'max_depth': 15, 'reg_lambda': 1.2146407760590296, 'colsample_bynode': 0.7, 'tree_method': 'hist'}. Best is trial 82 with value: 0.8475670031326141.\n",
            "[I 2023-11-30 13:53:00,452] Trial 186 finished with value: 0.8404733727810652 and parameters: {'max_depth': 15, 'reg_lambda': 1.5375940031914426, 'colsample_bynode': 0.7, 'tree_method': 'hist'}. Best is trial 82 with value: 0.8475670031326141.\n",
            "[I 2023-11-30 13:53:00,976] Trial 187 finished with value: 0.8451931778628612 and parameters: {'max_depth': 15, 'reg_lambda': 0.9379810606544189, 'colsample_bynode': 0.7, 'tree_method': 'exact'}. Best is trial 82 with value: 0.8475670031326141.\n",
            "[I 2023-11-30 13:53:01,506] Trial 188 finished with value: 0.8451931778628612 and parameters: {'max_depth': 15, 'reg_lambda': 0.9567359493671634, 'colsample_bynode': 0.7, 'tree_method': 'exact'}. Best is trial 82 with value: 0.8475670031326141.\n",
            "[I 2023-11-30 13:53:01,942] Trial 189 finished with value: 0.8333727810650886 and parameters: {'max_depth': 15, 'reg_lambda': 5.322771336990006, 'colsample_bynode': 0.7, 'tree_method': 'exact'}. Best is trial 82 with value: 0.8475670031326141.\n",
            "[I 2023-11-30 13:53:02,479] Trial 190 finished with value: 0.8404733727810652 and parameters: {'max_depth': 15, 'reg_lambda': 0.7375412775306969, 'colsample_bynode': 0.7, 'tree_method': 'exact'}. Best is trial 82 with value: 0.8475670031326141.\n",
            "[I 2023-11-30 13:53:02,982] Trial 191 finished with value: 0.8440097459101985 and parameters: {'max_depth': 15, 'reg_lambda': 1.1564709359677297, 'colsample_bynode': 0.7, 'tree_method': 'exact'}. Best is trial 82 with value: 0.8475670031326141.\n",
            "[I 2023-11-30 13:53:03,522] Trial 192 finished with value: 0.8440097459101983 and parameters: {'max_depth': 15, 'reg_lambda': 0.8389510681581445, 'colsample_bynode': 0.7, 'tree_method': 'exact'}. Best is trial 82 with value: 0.8475670031326141.\n",
            "[I 2023-11-30 13:53:03,999] Trial 193 finished with value: 0.8392760180995473 and parameters: {'max_depth': 15, 'reg_lambda': 1.7932908120597904, 'colsample_bynode': 0.7, 'tree_method': 'exact'}. Best is trial 82 with value: 0.8475670031326141.\n",
            "[I 2023-11-30 13:53:04,417] Trial 194 finished with value: 0.8333727810650888 and parameters: {'max_depth': 15, 'reg_lambda': 6.663150891028837, 'colsample_bynode': 0.7, 'tree_method': 'exact'}. Best is trial 82 with value: 0.8475670031326141.\n",
            "[I 2023-11-30 13:53:04,928] Trial 195 finished with value: 0.8392829794639749 and parameters: {'max_depth': 15, 'reg_lambda': 1.311636920031568, 'colsample_bynode': 0.7, 'tree_method': 'exact'}. Best is trial 82 with value: 0.8475670031326141.\n",
            "[I 2023-11-30 13:53:08,279] Trial 196 finished with value: 0.8345562130177514 and parameters: {'max_depth': 15, 'reg_lambda': 0.5258425582253823, 'colsample_bynode': 0.7, 'tree_method': 'exact'}. Best is trial 82 with value: 0.8475670031326141.\n",
            "[I 2023-11-30 13:53:10,353] Trial 197 finished with value: 0.8369161155586495 and parameters: {'max_depth': 15, 'reg_lambda': 2.164998369968511, 'colsample_bynode': 0.7, 'tree_method': 'exact'}. Best is trial 82 with value: 0.8475670031326141.\n",
            "[I 2023-11-30 13:53:11,040] Trial 198 finished with value: 0.8380995475113122 and parameters: {'max_depth': 15, 'reg_lambda': 1.5953356504691625, 'colsample_bynode': 0.7, 'tree_method': 'exact'}. Best is trial 82 with value: 0.8475670031326141.\n",
            "[I 2023-11-30 13:53:11,428] Trial 199 finished with value: 0.8451931778628612 and parameters: {'max_depth': 15, 'reg_lambda': 0.9871904302950042, 'colsample_bynode': 0.7, 'tree_method': 'hist'}. Best is trial 82 with value: 0.8475670031326141.\n"
          ]
        }
      ],
      "source": [
        "K = 5   # Kfold 수\n",
        "opt_func = partial(xgb_optimizer, X=X_train, y=y_train, K=K)\n",
        "\n",
        "study_xgb = optuna.create_study(direction=\"maximize\") # 최소/최대 어느 방향의 최적값을 구할 건지.\n",
        "study_xgb.optimize(opt_func, n_trials=200)"
      ]
    },
    {
      "cell_type": "code",
      "execution_count": 61,
      "metadata": {
        "colab": {
          "base_uri": "https://localhost:8080/",
          "height": 542
        },
        "id": "ZzYOXQCrUuKt",
        "outputId": "1df7087a-e861-4e74-ba54-92cca20462c9"
      },
      "outputs": [
        {
          "data": {
            "text/html": [
              "<html>\n",
              "<head><meta charset=\"utf-8\" /></head>\n",
              "<body>\n",
              "    <div>            <script src=\"https://cdnjs.cloudflare.com/ajax/libs/mathjax/2.7.5/MathJax.js?config=TeX-AMS-MML_SVG\"></script><script type=\"text/javascript\">if (window.MathJax && window.MathJax.Hub && window.MathJax.Hub.Config) {window.MathJax.Hub.Config({SVG: {font: \"STIX-Web\"}});}</script>                <script type=\"text/javascript\">window.PlotlyConfig = {MathJaxConfig: 'local'};</script>\n",
              "        <script charset=\"utf-8\" src=\"https://cdn.plot.ly/plotly-2.24.1.min.js\"></script>                <div id=\"ef696174-dfe4-43c4-85eb-5fa956aa4b1d\" class=\"plotly-graph-div\" style=\"height:525px; width:100%;\"></div>            <script type=\"text/javascript\">                                    window.PLOTLYENV=window.PLOTLYENV || {};                                    if (document.getElementById(\"ef696174-dfe4-43c4-85eb-5fa956aa4b1d\")) {                    Plotly.newPlot(                        \"ef696174-dfe4-43c4-85eb-5fa956aa4b1d\",                        [{\"mode\":\"markers\",\"name\":\"Objective Value\",\"x\":[0,1,2,3,4,5,6,7,8,9,10,11,12,13,14,15,16,17,18,19,20,21,22,23,24,25,26,27,28,29,30,31,32,33,34,35,36,37,38,39,40,41,42,43,44,45,46,47,48,49,50,51,52,53,54,55,56,57,58,59,60,61,62,63,64,65,66,67,68,69,70,71,72,73,74,75,76,77,78,79,80,81,82,83,84,85,86,87,88,89,90,91,92,93,94,95,96,97,98,99,100,101,102,103,104,105,106,107,108,109,110,111,112,113,114,115,116,117,118,119,120,121,122,123,124,125,126,127,128,129,130,131,132,133,134,135,136,137,138,139,140,141,142,143,144,145,146,147,148,149,150,151,152,153,154,155,156,157,158,159,160,161,162,163,164,165,166,167,168,169,170,171,172,173,174,175,176,177,178,179,180,181,182,183,184,185,186,187,188,189,190,191,192,193,194,195,196,197,198,199],\"y\":[0.8380856247824573,0.8321754263835711,0.8345492516533242,0.8333449356073791,0.8345353289244694,0.8309780717020535,0.8333518969718066,0.8333518969718063,0.833358858336234,0.8392690567351201,0.8369021928297947,0.8404524886877829,0.8380856247824573,0.8380856247824573,0.8298155238426732,0.8404524886877829,0.8404594500522103,0.8404524886877829,0.8333658197006614,0.8451862164984337,0.8357326836059867,0.8440027845457709,0.8451862164984337,0.8475530804037591,0.8333518969718066,0.8392760180995475,0.8357187608771319,0.8416428820048729,0.8357187608771319,0.8475530804037591,0.8357187608771319,0.8440027845457709,0.8392760180995475,0.8345422902888966,0.8416359206404456,0.8475530804037591,0.8357187608771319,0.8345422902888966,0.8345353289244694,0.8440027845457709,0.839282979463975,0.8463696484510963,0.8451862164984337,0.8475530804037591,0.8380925861468848,0.8475530804037591,0.8392690567351201,0.8451862164984337,0.8369021928297947,0.8345422902888966,0.8439958231813435,0.8475530804037591,0.8463696484510965,0.8404524886877829,0.8392760180995475,0.8428193525931083,0.8345353289244694,0.8440027845457709,0.8392690567351201,0.8345353289244694,0.8392690567351201,0.8475530804037591,0.8451862164984337,0.8392760180995475,0.8451862164984337,0.8475530804037591,0.8440027845457709,0.8440027845457709,0.8428193525931083,0.8451792551340063,0.8392760180995475,0.8463696484510963,0.8475530804037591,0.8451862164984337,0.8404524886877829,0.8475530804037591,0.8440027845457709,0.8451862164984337,0.8333518969718066,0.8416359206404456,0.8380856247824573,0.8475530804037591,0.8463696484510965,0.8475530804037591,0.8440027845457709,0.8475530804037591,0.8428263139575357,0.8392690567351201,0.8451862164984337,0.8475530804037591,0.8428193525931083,0.8475530804037591,0.8475530804037591,0.8440027845457709,0.8463696484510963,0.8428193525931084,0.8380856247824573,0.8345353289244694,0.8440027845457709,0.8451862164984337,0.8404524886877827,0.8475530804037591,0.8463696484510965,0.8451862164984337,0.8451862164984337,0.8475530804037591,0.8463696484510963,0.8380925861468848,0.8440027845457709,0.8357187608771319,0.8428193525931083,0.8475530804037591,0.8475530804037591,0.8440027845457709,0.8475530804037591,0.8451862164984337,0.8475530804037591,0.8475530804037591,0.8428193525931084,0.8440097459101985,0.8440027845457709,0.8475530804037591,0.8463696484510963,0.8451862164984337,0.8475530804037591,0.8440027845457709,0.8451862164984337,0.8380925861468848,0.8428193525931083,0.8463696484510963,0.8451862164984337,0.8463696484510963,0.8440027845457709,0.8404524886877829,0.8463696484510965,0.8440097459101985,0.8475530804037591,0.8357187608771319,0.8475530804037591,0.8440027845457709,0.8345353289244694,0.8440027845457709,0.8475530804037591,0.8428263139575357,0.8463696484510965,0.8451931778628611,0.8475530804037591,0.8416359206404456,0.8440027845457709,0.8440027845457709,0.8451862164984337,0.8475530804037591,0.8392760180995475,0.8451862164984337,0.8475530804037591,0.8463696484510965,0.8345492516533242,0.8475530804037591,0.8357326836059867,0.8416428820048729,0.8345353289244694,0.8463696484510963,0.8451862164984337,0.8475530804037591,0.8451862164984337,0.8440027845457709,0.8463696484510965,0.8451931778628611,0.8428193525931084,0.8475530804037591,0.8440097459101985,0.8463696484510963,0.8451862164984337,0.8475530804037591,0.8345492516533242,0.8463696484510965,0.8475530804037591,0.8440027845457709,0.8440027845457709,0.8451862164984337,0.8451931778628611,0.8440097459101985,0.8475530804037591,0.8451931778628611,0.8333518969718066,0.8440027845457709,0.8451862164984337,0.8404524886877829,0.8404524886877829,0.8451862164984337,0.8475530804037591,0.8463696484510963,0.8475530804037591,0.8451862164984337,0.8380856247824573,0.8440027845457709,0.8475530804037591,0.8380856247824573,0.8475530804037591,0.8321754263835711],\"type\":\"scatter\"},{\"mode\":\"lines\",\"name\":\"Best Value\",\"x\":[0,1,2,3,4,5,6,7,8,9,10,11,12,13,14,15,16,17,18,19,20,21,22,23,24,25,26,27,28,29,30,31,32,33,34,35,36,37,38,39,40,41,42,43,44,45,46,47,48,49,50,51,52,53,54,55,56,57,58,59,60,61,62,63,64,65,66,67,68,69,70,71,72,73,74,75,76,77,78,79,80,81,82,83,84,85,86,87,88,89,90,91,92,93,94,95,96,97,98,99,100,101,102,103,104,105,106,107,108,109,110,111,112,113,114,115,116,117,118,119,120,121,122,123,124,125,126,127,128,129,130,131,132,133,134,135,136,137,138,139,140,141,142,143,144,145,146,147,148,149,150,151,152,153,154,155,156,157,158,159,160,161,162,163,164,165,166,167,168,169,170,171,172,173,174,175,176,177,178,179,180,181,182,183,184,185,186,187,188,189,190,191,192,193,194,195,196,197,198,199],\"y\":[0.8380856247824573,0.8380856247824573,0.8380856247824573,0.8380856247824573,0.8380856247824573,0.8380856247824573,0.8380856247824573,0.8380856247824573,0.8380856247824573,0.8392690567351201,0.8392690567351201,0.8404524886877829,0.8404524886877829,0.8404524886877829,0.8404524886877829,0.8404524886877829,0.8404594500522103,0.8404594500522103,0.8404594500522103,0.8451862164984337,0.8451862164984337,0.8451862164984337,0.8451862164984337,0.8475530804037591,0.8475530804037591,0.8475530804037591,0.8475530804037591,0.8475530804037591,0.8475530804037591,0.8475530804037591,0.8475530804037591,0.8475530804037591,0.8475530804037591,0.8475530804037591,0.8475530804037591,0.8475530804037591,0.8475530804037591,0.8475530804037591,0.8475530804037591,0.8475530804037591,0.8475530804037591,0.8475530804037591,0.8475530804037591,0.8475530804037591,0.8475530804037591,0.8475530804037591,0.8475530804037591,0.8475530804037591,0.8475530804037591,0.8475530804037591,0.8475530804037591,0.8475530804037591,0.8475530804037591,0.8475530804037591,0.8475530804037591,0.8475530804037591,0.8475530804037591,0.8475530804037591,0.8475530804037591,0.8475530804037591,0.8475530804037591,0.8475530804037591,0.8475530804037591,0.8475530804037591,0.8475530804037591,0.8475530804037591,0.8475530804037591,0.8475530804037591,0.8475530804037591,0.8475530804037591,0.8475530804037591,0.8475530804037591,0.8475530804037591,0.8475530804037591,0.8475530804037591,0.8475530804037591,0.8475530804037591,0.8475530804037591,0.8475530804037591,0.8475530804037591,0.8475530804037591,0.8475530804037591,0.8475530804037591,0.8475530804037591,0.8475530804037591,0.8475530804037591,0.8475530804037591,0.8475530804037591,0.8475530804037591,0.8475530804037591,0.8475530804037591,0.8475530804037591,0.8475530804037591,0.8475530804037591,0.8475530804037591,0.8475530804037591,0.8475530804037591,0.8475530804037591,0.8475530804037591,0.8475530804037591,0.8475530804037591,0.8475530804037591,0.8475530804037591,0.8475530804037591,0.8475530804037591,0.8475530804037591,0.8475530804037591,0.8475530804037591,0.8475530804037591,0.8475530804037591,0.8475530804037591,0.8475530804037591,0.8475530804037591,0.8475530804037591,0.8475530804037591,0.8475530804037591,0.8475530804037591,0.8475530804037591,0.8475530804037591,0.8475530804037591,0.8475530804037591,0.8475530804037591,0.8475530804037591,0.8475530804037591,0.8475530804037591,0.8475530804037591,0.8475530804037591,0.8475530804037591,0.8475530804037591,0.8475530804037591,0.8475530804037591,0.8475530804037591,0.8475530804037591,0.8475530804037591,0.8475530804037591,0.8475530804037591,0.8475530804037591,0.8475530804037591,0.8475530804037591,0.8475530804037591,0.8475530804037591,0.8475530804037591,0.8475530804037591,0.8475530804037591,0.8475530804037591,0.8475530804037591,0.8475530804037591,0.8475530804037591,0.8475530804037591,0.8475530804037591,0.8475530804037591,0.8475530804037591,0.8475530804037591,0.8475530804037591,0.8475530804037591,0.8475530804037591,0.8475530804037591,0.8475530804037591,0.8475530804037591,0.8475530804037591,0.8475530804037591,0.8475530804037591,0.8475530804037591,0.8475530804037591,0.8475530804037591,0.8475530804037591,0.8475530804037591,0.8475530804037591,0.8475530804037591,0.8475530804037591,0.8475530804037591,0.8475530804037591,0.8475530804037591,0.8475530804037591,0.8475530804037591,0.8475530804037591,0.8475530804037591,0.8475530804037591,0.8475530804037591,0.8475530804037591,0.8475530804037591,0.8475530804037591,0.8475530804037591,0.8475530804037591,0.8475530804037591,0.8475530804037591,0.8475530804037591,0.8475530804037591,0.8475530804037591,0.8475530804037591,0.8475530804037591,0.8475530804037591,0.8475530804037591,0.8475530804037591,0.8475530804037591,0.8475530804037591,0.8475530804037591,0.8475530804037591,0.8475530804037591,0.8475530804037591],\"type\":\"scatter\"},{\"marker\":{\"color\":\"#cccccc\"},\"mode\":\"markers\",\"name\":\"Infeasible Trial\",\"showlegend\":false,\"x\":[],\"y\":[],\"type\":\"scatter\"}],                        {\"title\":{\"text\":\"Optimization History Plot\"},\"xaxis\":{\"title\":{\"text\":\"Trial\"}},\"yaxis\":{\"title\":{\"text\":\"Objective Value\"}},\"template\":{\"data\":{\"histogram2dcontour\":[{\"type\":\"histogram2dcontour\",\"colorbar\":{\"outlinewidth\":0,\"ticks\":\"\"},\"colorscale\":[[0.0,\"#0d0887\"],[0.1111111111111111,\"#46039f\"],[0.2222222222222222,\"#7201a8\"],[0.3333333333333333,\"#9c179e\"],[0.4444444444444444,\"#bd3786\"],[0.5555555555555556,\"#d8576b\"],[0.6666666666666666,\"#ed7953\"],[0.7777777777777778,\"#fb9f3a\"],[0.8888888888888888,\"#fdca26\"],[1.0,\"#f0f921\"]]}],\"choropleth\":[{\"type\":\"choropleth\",\"colorbar\":{\"outlinewidth\":0,\"ticks\":\"\"}}],\"histogram2d\":[{\"type\":\"histogram2d\",\"colorbar\":{\"outlinewidth\":0,\"ticks\":\"\"},\"colorscale\":[[0.0,\"#0d0887\"],[0.1111111111111111,\"#46039f\"],[0.2222222222222222,\"#7201a8\"],[0.3333333333333333,\"#9c179e\"],[0.4444444444444444,\"#bd3786\"],[0.5555555555555556,\"#d8576b\"],[0.6666666666666666,\"#ed7953\"],[0.7777777777777778,\"#fb9f3a\"],[0.8888888888888888,\"#fdca26\"],[1.0,\"#f0f921\"]]}],\"heatmap\":[{\"type\":\"heatmap\",\"colorbar\":{\"outlinewidth\":0,\"ticks\":\"\"},\"colorscale\":[[0.0,\"#0d0887\"],[0.1111111111111111,\"#46039f\"],[0.2222222222222222,\"#7201a8\"],[0.3333333333333333,\"#9c179e\"],[0.4444444444444444,\"#bd3786\"],[0.5555555555555556,\"#d8576b\"],[0.6666666666666666,\"#ed7953\"],[0.7777777777777778,\"#fb9f3a\"],[0.8888888888888888,\"#fdca26\"],[1.0,\"#f0f921\"]]}],\"heatmapgl\":[{\"type\":\"heatmapgl\",\"colorbar\":{\"outlinewidth\":0,\"ticks\":\"\"},\"colorscale\":[[0.0,\"#0d0887\"],[0.1111111111111111,\"#46039f\"],[0.2222222222222222,\"#7201a8\"],[0.3333333333333333,\"#9c179e\"],[0.4444444444444444,\"#bd3786\"],[0.5555555555555556,\"#d8576b\"],[0.6666666666666666,\"#ed7953\"],[0.7777777777777778,\"#fb9f3a\"],[0.8888888888888888,\"#fdca26\"],[1.0,\"#f0f921\"]]}],\"contourcarpet\":[{\"type\":\"contourcarpet\",\"colorbar\":{\"outlinewidth\":0,\"ticks\":\"\"}}],\"contour\":[{\"type\":\"contour\",\"colorbar\":{\"outlinewidth\":0,\"ticks\":\"\"},\"colorscale\":[[0.0,\"#0d0887\"],[0.1111111111111111,\"#46039f\"],[0.2222222222222222,\"#7201a8\"],[0.3333333333333333,\"#9c179e\"],[0.4444444444444444,\"#bd3786\"],[0.5555555555555556,\"#d8576b\"],[0.6666666666666666,\"#ed7953\"],[0.7777777777777778,\"#fb9f3a\"],[0.8888888888888888,\"#fdca26\"],[1.0,\"#f0f921\"]]}],\"surface\":[{\"type\":\"surface\",\"colorbar\":{\"outlinewidth\":0,\"ticks\":\"\"},\"colorscale\":[[0.0,\"#0d0887\"],[0.1111111111111111,\"#46039f\"],[0.2222222222222222,\"#7201a8\"],[0.3333333333333333,\"#9c179e\"],[0.4444444444444444,\"#bd3786\"],[0.5555555555555556,\"#d8576b\"],[0.6666666666666666,\"#ed7953\"],[0.7777777777777778,\"#fb9f3a\"],[0.8888888888888888,\"#fdca26\"],[1.0,\"#f0f921\"]]}],\"mesh3d\":[{\"type\":\"mesh3d\",\"colorbar\":{\"outlinewidth\":0,\"ticks\":\"\"}}],\"scatter\":[{\"fillpattern\":{\"fillmode\":\"overlay\",\"size\":10,\"solidity\":0.2},\"type\":\"scatter\"}],\"parcoords\":[{\"type\":\"parcoords\",\"line\":{\"colorbar\":{\"outlinewidth\":0,\"ticks\":\"\"}}}],\"scatterpolargl\":[{\"type\":\"scatterpolargl\",\"marker\":{\"colorbar\":{\"outlinewidth\":0,\"ticks\":\"\"}}}],\"bar\":[{\"error_x\":{\"color\":\"#2a3f5f\"},\"error_y\":{\"color\":\"#2a3f5f\"},\"marker\":{\"line\":{\"color\":\"#E5ECF6\",\"width\":0.5},\"pattern\":{\"fillmode\":\"overlay\",\"size\":10,\"solidity\":0.2}},\"type\":\"bar\"}],\"scattergeo\":[{\"type\":\"scattergeo\",\"marker\":{\"colorbar\":{\"outlinewidth\":0,\"ticks\":\"\"}}}],\"scatterpolar\":[{\"type\":\"scatterpolar\",\"marker\":{\"colorbar\":{\"outlinewidth\":0,\"ticks\":\"\"}}}],\"histogram\":[{\"marker\":{\"pattern\":{\"fillmode\":\"overlay\",\"size\":10,\"solidity\":0.2}},\"type\":\"histogram\"}],\"scattergl\":[{\"type\":\"scattergl\",\"marker\":{\"colorbar\":{\"outlinewidth\":0,\"ticks\":\"\"}}}],\"scatter3d\":[{\"type\":\"scatter3d\",\"line\":{\"colorbar\":{\"outlinewidth\":0,\"ticks\":\"\"}},\"marker\":{\"colorbar\":{\"outlinewidth\":0,\"ticks\":\"\"}}}],\"scattermapbox\":[{\"type\":\"scattermapbox\",\"marker\":{\"colorbar\":{\"outlinewidth\":0,\"ticks\":\"\"}}}],\"scatterternary\":[{\"type\":\"scatterternary\",\"marker\":{\"colorbar\":{\"outlinewidth\":0,\"ticks\":\"\"}}}],\"scattercarpet\":[{\"type\":\"scattercarpet\",\"marker\":{\"colorbar\":{\"outlinewidth\":0,\"ticks\":\"\"}}}],\"carpet\":[{\"aaxis\":{\"endlinecolor\":\"#2a3f5f\",\"gridcolor\":\"white\",\"linecolor\":\"white\",\"minorgridcolor\":\"white\",\"startlinecolor\":\"#2a3f5f\"},\"baxis\":{\"endlinecolor\":\"#2a3f5f\",\"gridcolor\":\"white\",\"linecolor\":\"white\",\"minorgridcolor\":\"white\",\"startlinecolor\":\"#2a3f5f\"},\"type\":\"carpet\"}],\"table\":[{\"cells\":{\"fill\":{\"color\":\"#EBF0F8\"},\"line\":{\"color\":\"white\"}},\"header\":{\"fill\":{\"color\":\"#C8D4E3\"},\"line\":{\"color\":\"white\"}},\"type\":\"table\"}],\"barpolar\":[{\"marker\":{\"line\":{\"color\":\"#E5ECF6\",\"width\":0.5},\"pattern\":{\"fillmode\":\"overlay\",\"size\":10,\"solidity\":0.2}},\"type\":\"barpolar\"}],\"pie\":[{\"automargin\":true,\"type\":\"pie\"}]},\"layout\":{\"autotypenumbers\":\"strict\",\"colorway\":[\"#636efa\",\"#EF553B\",\"#00cc96\",\"#ab63fa\",\"#FFA15A\",\"#19d3f3\",\"#FF6692\",\"#B6E880\",\"#FF97FF\",\"#FECB52\"],\"font\":{\"color\":\"#2a3f5f\"},\"hovermode\":\"closest\",\"hoverlabel\":{\"align\":\"left\"},\"paper_bgcolor\":\"white\",\"plot_bgcolor\":\"#E5ECF6\",\"polar\":{\"bgcolor\":\"#E5ECF6\",\"angularaxis\":{\"gridcolor\":\"white\",\"linecolor\":\"white\",\"ticks\":\"\"},\"radialaxis\":{\"gridcolor\":\"white\",\"linecolor\":\"white\",\"ticks\":\"\"}},\"ternary\":{\"bgcolor\":\"#E5ECF6\",\"aaxis\":{\"gridcolor\":\"white\",\"linecolor\":\"white\",\"ticks\":\"\"},\"baxis\":{\"gridcolor\":\"white\",\"linecolor\":\"white\",\"ticks\":\"\"},\"caxis\":{\"gridcolor\":\"white\",\"linecolor\":\"white\",\"ticks\":\"\"}},\"coloraxis\":{\"colorbar\":{\"outlinewidth\":0,\"ticks\":\"\"}},\"colorscale\":{\"sequential\":[[0.0,\"#0d0887\"],[0.1111111111111111,\"#46039f\"],[0.2222222222222222,\"#7201a8\"],[0.3333333333333333,\"#9c179e\"],[0.4444444444444444,\"#bd3786\"],[0.5555555555555556,\"#d8576b\"],[0.6666666666666666,\"#ed7953\"],[0.7777777777777778,\"#fb9f3a\"],[0.8888888888888888,\"#fdca26\"],[1.0,\"#f0f921\"]],\"sequentialminus\":[[0.0,\"#0d0887\"],[0.1111111111111111,\"#46039f\"],[0.2222222222222222,\"#7201a8\"],[0.3333333333333333,\"#9c179e\"],[0.4444444444444444,\"#bd3786\"],[0.5555555555555556,\"#d8576b\"],[0.6666666666666666,\"#ed7953\"],[0.7777777777777778,\"#fb9f3a\"],[0.8888888888888888,\"#fdca26\"],[1.0,\"#f0f921\"]],\"diverging\":[[0,\"#8e0152\"],[0.1,\"#c51b7d\"],[0.2,\"#de77ae\"],[0.3,\"#f1b6da\"],[0.4,\"#fde0ef\"],[0.5,\"#f7f7f7\"],[0.6,\"#e6f5d0\"],[0.7,\"#b8e186\"],[0.8,\"#7fbc41\"],[0.9,\"#4d9221\"],[1,\"#276419\"]]},\"xaxis\":{\"gridcolor\":\"white\",\"linecolor\":\"white\",\"ticks\":\"\",\"title\":{\"standoff\":15},\"zerolinecolor\":\"white\",\"automargin\":true,\"zerolinewidth\":2},\"yaxis\":{\"gridcolor\":\"white\",\"linecolor\":\"white\",\"ticks\":\"\",\"title\":{\"standoff\":15},\"zerolinecolor\":\"white\",\"automargin\":true,\"zerolinewidth\":2},\"scene\":{\"xaxis\":{\"backgroundcolor\":\"#E5ECF6\",\"gridcolor\":\"white\",\"linecolor\":\"white\",\"showbackground\":true,\"ticks\":\"\",\"zerolinecolor\":\"white\",\"gridwidth\":2},\"yaxis\":{\"backgroundcolor\":\"#E5ECF6\",\"gridcolor\":\"white\",\"linecolor\":\"white\",\"showbackground\":true,\"ticks\":\"\",\"zerolinecolor\":\"white\",\"gridwidth\":2},\"zaxis\":{\"backgroundcolor\":\"#E5ECF6\",\"gridcolor\":\"white\",\"linecolor\":\"white\",\"showbackground\":true,\"ticks\":\"\",\"zerolinecolor\":\"white\",\"gridwidth\":2}},\"shapedefaults\":{\"line\":{\"color\":\"#2a3f5f\"}},\"annotationdefaults\":{\"arrowcolor\":\"#2a3f5f\",\"arrowhead\":0,\"arrowwidth\":1},\"geo\":{\"bgcolor\":\"white\",\"landcolor\":\"#E5ECF6\",\"subunitcolor\":\"white\",\"showland\":true,\"showlakes\":true,\"lakecolor\":\"white\"},\"title\":{\"x\":0.05},\"mapbox\":{\"style\":\"light\"}}}},                        {\"responsive\": true}                    ).then(function(){\n",
              "                            \n",
              "var gd = document.getElementById('ef696174-dfe4-43c4-85eb-5fa956aa4b1d');\n",
              "var x = new MutationObserver(function (mutations, observer) {{\n",
              "        var display = window.getComputedStyle(gd).display;\n",
              "        if (!display || display === 'none') {{\n",
              "            console.log([gd, 'removed!']);\n",
              "            Plotly.purge(gd);\n",
              "            observer.disconnect();\n",
              "        }}\n",
              "}});\n",
              "\n",
              "// Listen for the removal of the full notebook cells\n",
              "var notebookContainer = gd.closest('#notebook-container');\n",
              "if (notebookContainer) {{\n",
              "    x.observe(notebookContainer, {childList: true});\n",
              "}}\n",
              "\n",
              "// Listen for the clearing of the current output cell\n",
              "var outputEl = gd.closest('.output');\n",
              "if (outputEl) {{\n",
              "    x.observe(outputEl, {childList: true});\n",
              "}}\n",
              "\n",
              "                        })                };                            </script>        </div>\n",
              "</body>\n",
              "</html>"
            ]
          },
          "metadata": {},
          "output_type": "display_data"
        }
      ],
      "source": [
        "optuna.visualization.plot_optimization_history(study_rf)"
      ]
    },
    {
      "cell_type": "code",
      "execution_count": 62,
      "metadata": {
        "colab": {
          "base_uri": "https://localhost:8080/",
          "height": 542
        },
        "id": "W0FXqlHvU3md",
        "outputId": "5f1c98f2-bd0c-49b2-87b1-23033db62425"
      },
      "outputs": [
        {
          "data": {
            "text/html": [
              "<html>\n",
              "<head><meta charset=\"utf-8\" /></head>\n",
              "<body>\n",
              "    <div>            <script src=\"https://cdnjs.cloudflare.com/ajax/libs/mathjax/2.7.5/MathJax.js?config=TeX-AMS-MML_SVG\"></script><script type=\"text/javascript\">if (window.MathJax && window.MathJax.Hub && window.MathJax.Hub.Config) {window.MathJax.Hub.Config({SVG: {font: \"STIX-Web\"}});}</script>                <script type=\"text/javascript\">window.PlotlyConfig = {MathJaxConfig: 'local'};</script>\n",
              "        <script charset=\"utf-8\" src=\"https://cdn.plot.ly/plotly-2.24.1.min.js\"></script>                <div id=\"7fe2d45f-432f-4b77-8b85-ce0fc4a1039c\" class=\"plotly-graph-div\" style=\"height:525px; width:100%;\"></div>            <script type=\"text/javascript\">                                    window.PLOTLYENV=window.PLOTLYENV || {};                                    if (document.getElementById(\"7fe2d45f-432f-4b77-8b85-ce0fc4a1039c\")) {                    Plotly.newPlot(                        \"7fe2d45f-432f-4b77-8b85-ce0fc4a1039c\",                        [{\"cliponaxis\":false,\"hovertemplate\":[\"max_depth (IntDistribution): 0.052560899166450015\\u003cextra\\u003e\\u003c\\u002fextra\\u003e\",\"n_estimators (IntDistribution): 0.0803409558466006\\u003cextra\\u003e\\u003c\\u002fextra\\u003e\",\"max_features (FloatDistribution): 0.8670981449869494\\u003cextra\\u003e\\u003c\\u002fextra\\u003e\"],\"name\":\"Objective Value\",\"orientation\":\"h\",\"text\":[\"0.05\",\"0.08\",\"0.87\"],\"textposition\":\"outside\",\"x\":[0.052560899166450015,0.0803409558466006,0.8670981449869494],\"y\":[\"max_depth\",\"n_estimators\",\"max_features\"],\"type\":\"bar\"}],                        {\"title\":{\"text\":\"Hyperparameter Importances\"},\"xaxis\":{\"title\":{\"text\":\"Hyperparameter Importance\"}},\"yaxis\":{\"title\":{\"text\":\"Hyperparameter\"}},\"template\":{\"data\":{\"histogram2dcontour\":[{\"type\":\"histogram2dcontour\",\"colorbar\":{\"outlinewidth\":0,\"ticks\":\"\"},\"colorscale\":[[0.0,\"#0d0887\"],[0.1111111111111111,\"#46039f\"],[0.2222222222222222,\"#7201a8\"],[0.3333333333333333,\"#9c179e\"],[0.4444444444444444,\"#bd3786\"],[0.5555555555555556,\"#d8576b\"],[0.6666666666666666,\"#ed7953\"],[0.7777777777777778,\"#fb9f3a\"],[0.8888888888888888,\"#fdca26\"],[1.0,\"#f0f921\"]]}],\"choropleth\":[{\"type\":\"choropleth\",\"colorbar\":{\"outlinewidth\":0,\"ticks\":\"\"}}],\"histogram2d\":[{\"type\":\"histogram2d\",\"colorbar\":{\"outlinewidth\":0,\"ticks\":\"\"},\"colorscale\":[[0.0,\"#0d0887\"],[0.1111111111111111,\"#46039f\"],[0.2222222222222222,\"#7201a8\"],[0.3333333333333333,\"#9c179e\"],[0.4444444444444444,\"#bd3786\"],[0.5555555555555556,\"#d8576b\"],[0.6666666666666666,\"#ed7953\"],[0.7777777777777778,\"#fb9f3a\"],[0.8888888888888888,\"#fdca26\"],[1.0,\"#f0f921\"]]}],\"heatmap\":[{\"type\":\"heatmap\",\"colorbar\":{\"outlinewidth\":0,\"ticks\":\"\"},\"colorscale\":[[0.0,\"#0d0887\"],[0.1111111111111111,\"#46039f\"],[0.2222222222222222,\"#7201a8\"],[0.3333333333333333,\"#9c179e\"],[0.4444444444444444,\"#bd3786\"],[0.5555555555555556,\"#d8576b\"],[0.6666666666666666,\"#ed7953\"],[0.7777777777777778,\"#fb9f3a\"],[0.8888888888888888,\"#fdca26\"],[1.0,\"#f0f921\"]]}],\"heatmapgl\":[{\"type\":\"heatmapgl\",\"colorbar\":{\"outlinewidth\":0,\"ticks\":\"\"},\"colorscale\":[[0.0,\"#0d0887\"],[0.1111111111111111,\"#46039f\"],[0.2222222222222222,\"#7201a8\"],[0.3333333333333333,\"#9c179e\"],[0.4444444444444444,\"#bd3786\"],[0.5555555555555556,\"#d8576b\"],[0.6666666666666666,\"#ed7953\"],[0.7777777777777778,\"#fb9f3a\"],[0.8888888888888888,\"#fdca26\"],[1.0,\"#f0f921\"]]}],\"contourcarpet\":[{\"type\":\"contourcarpet\",\"colorbar\":{\"outlinewidth\":0,\"ticks\":\"\"}}],\"contour\":[{\"type\":\"contour\",\"colorbar\":{\"outlinewidth\":0,\"ticks\":\"\"},\"colorscale\":[[0.0,\"#0d0887\"],[0.1111111111111111,\"#46039f\"],[0.2222222222222222,\"#7201a8\"],[0.3333333333333333,\"#9c179e\"],[0.4444444444444444,\"#bd3786\"],[0.5555555555555556,\"#d8576b\"],[0.6666666666666666,\"#ed7953\"],[0.7777777777777778,\"#fb9f3a\"],[0.8888888888888888,\"#fdca26\"],[1.0,\"#f0f921\"]]}],\"surface\":[{\"type\":\"surface\",\"colorbar\":{\"outlinewidth\":0,\"ticks\":\"\"},\"colorscale\":[[0.0,\"#0d0887\"],[0.1111111111111111,\"#46039f\"],[0.2222222222222222,\"#7201a8\"],[0.3333333333333333,\"#9c179e\"],[0.4444444444444444,\"#bd3786\"],[0.5555555555555556,\"#d8576b\"],[0.6666666666666666,\"#ed7953\"],[0.7777777777777778,\"#fb9f3a\"],[0.8888888888888888,\"#fdca26\"],[1.0,\"#f0f921\"]]}],\"mesh3d\":[{\"type\":\"mesh3d\",\"colorbar\":{\"outlinewidth\":0,\"ticks\":\"\"}}],\"scatter\":[{\"fillpattern\":{\"fillmode\":\"overlay\",\"size\":10,\"solidity\":0.2},\"type\":\"scatter\"}],\"parcoords\":[{\"type\":\"parcoords\",\"line\":{\"colorbar\":{\"outlinewidth\":0,\"ticks\":\"\"}}}],\"scatterpolargl\":[{\"type\":\"scatterpolargl\",\"marker\":{\"colorbar\":{\"outlinewidth\":0,\"ticks\":\"\"}}}],\"bar\":[{\"error_x\":{\"color\":\"#2a3f5f\"},\"error_y\":{\"color\":\"#2a3f5f\"},\"marker\":{\"line\":{\"color\":\"#E5ECF6\",\"width\":0.5},\"pattern\":{\"fillmode\":\"overlay\",\"size\":10,\"solidity\":0.2}},\"type\":\"bar\"}],\"scattergeo\":[{\"type\":\"scattergeo\",\"marker\":{\"colorbar\":{\"outlinewidth\":0,\"ticks\":\"\"}}}],\"scatterpolar\":[{\"type\":\"scatterpolar\",\"marker\":{\"colorbar\":{\"outlinewidth\":0,\"ticks\":\"\"}}}],\"histogram\":[{\"marker\":{\"pattern\":{\"fillmode\":\"overlay\",\"size\":10,\"solidity\":0.2}},\"type\":\"histogram\"}],\"scattergl\":[{\"type\":\"scattergl\",\"marker\":{\"colorbar\":{\"outlinewidth\":0,\"ticks\":\"\"}}}],\"scatter3d\":[{\"type\":\"scatter3d\",\"line\":{\"colorbar\":{\"outlinewidth\":0,\"ticks\":\"\"}},\"marker\":{\"colorbar\":{\"outlinewidth\":0,\"ticks\":\"\"}}}],\"scattermapbox\":[{\"type\":\"scattermapbox\",\"marker\":{\"colorbar\":{\"outlinewidth\":0,\"ticks\":\"\"}}}],\"scatterternary\":[{\"type\":\"scatterternary\",\"marker\":{\"colorbar\":{\"outlinewidth\":0,\"ticks\":\"\"}}}],\"scattercarpet\":[{\"type\":\"scattercarpet\",\"marker\":{\"colorbar\":{\"outlinewidth\":0,\"ticks\":\"\"}}}],\"carpet\":[{\"aaxis\":{\"endlinecolor\":\"#2a3f5f\",\"gridcolor\":\"white\",\"linecolor\":\"white\",\"minorgridcolor\":\"white\",\"startlinecolor\":\"#2a3f5f\"},\"baxis\":{\"endlinecolor\":\"#2a3f5f\",\"gridcolor\":\"white\",\"linecolor\":\"white\",\"minorgridcolor\":\"white\",\"startlinecolor\":\"#2a3f5f\"},\"type\":\"carpet\"}],\"table\":[{\"cells\":{\"fill\":{\"color\":\"#EBF0F8\"},\"line\":{\"color\":\"white\"}},\"header\":{\"fill\":{\"color\":\"#C8D4E3\"},\"line\":{\"color\":\"white\"}},\"type\":\"table\"}],\"barpolar\":[{\"marker\":{\"line\":{\"color\":\"#E5ECF6\",\"width\":0.5},\"pattern\":{\"fillmode\":\"overlay\",\"size\":10,\"solidity\":0.2}},\"type\":\"barpolar\"}],\"pie\":[{\"automargin\":true,\"type\":\"pie\"}]},\"layout\":{\"autotypenumbers\":\"strict\",\"colorway\":[\"#636efa\",\"#EF553B\",\"#00cc96\",\"#ab63fa\",\"#FFA15A\",\"#19d3f3\",\"#FF6692\",\"#B6E880\",\"#FF97FF\",\"#FECB52\"],\"font\":{\"color\":\"#2a3f5f\"},\"hovermode\":\"closest\",\"hoverlabel\":{\"align\":\"left\"},\"paper_bgcolor\":\"white\",\"plot_bgcolor\":\"#E5ECF6\",\"polar\":{\"bgcolor\":\"#E5ECF6\",\"angularaxis\":{\"gridcolor\":\"white\",\"linecolor\":\"white\",\"ticks\":\"\"},\"radialaxis\":{\"gridcolor\":\"white\",\"linecolor\":\"white\",\"ticks\":\"\"}},\"ternary\":{\"bgcolor\":\"#E5ECF6\",\"aaxis\":{\"gridcolor\":\"white\",\"linecolor\":\"white\",\"ticks\":\"\"},\"baxis\":{\"gridcolor\":\"white\",\"linecolor\":\"white\",\"ticks\":\"\"},\"caxis\":{\"gridcolor\":\"white\",\"linecolor\":\"white\",\"ticks\":\"\"}},\"coloraxis\":{\"colorbar\":{\"outlinewidth\":0,\"ticks\":\"\"}},\"colorscale\":{\"sequential\":[[0.0,\"#0d0887\"],[0.1111111111111111,\"#46039f\"],[0.2222222222222222,\"#7201a8\"],[0.3333333333333333,\"#9c179e\"],[0.4444444444444444,\"#bd3786\"],[0.5555555555555556,\"#d8576b\"],[0.6666666666666666,\"#ed7953\"],[0.7777777777777778,\"#fb9f3a\"],[0.8888888888888888,\"#fdca26\"],[1.0,\"#f0f921\"]],\"sequentialminus\":[[0.0,\"#0d0887\"],[0.1111111111111111,\"#46039f\"],[0.2222222222222222,\"#7201a8\"],[0.3333333333333333,\"#9c179e\"],[0.4444444444444444,\"#bd3786\"],[0.5555555555555556,\"#d8576b\"],[0.6666666666666666,\"#ed7953\"],[0.7777777777777778,\"#fb9f3a\"],[0.8888888888888888,\"#fdca26\"],[1.0,\"#f0f921\"]],\"diverging\":[[0,\"#8e0152\"],[0.1,\"#c51b7d\"],[0.2,\"#de77ae\"],[0.3,\"#f1b6da\"],[0.4,\"#fde0ef\"],[0.5,\"#f7f7f7\"],[0.6,\"#e6f5d0\"],[0.7,\"#b8e186\"],[0.8,\"#7fbc41\"],[0.9,\"#4d9221\"],[1,\"#276419\"]]},\"xaxis\":{\"gridcolor\":\"white\",\"linecolor\":\"white\",\"ticks\":\"\",\"title\":{\"standoff\":15},\"zerolinecolor\":\"white\",\"automargin\":true,\"zerolinewidth\":2},\"yaxis\":{\"gridcolor\":\"white\",\"linecolor\":\"white\",\"ticks\":\"\",\"title\":{\"standoff\":15},\"zerolinecolor\":\"white\",\"automargin\":true,\"zerolinewidth\":2},\"scene\":{\"xaxis\":{\"backgroundcolor\":\"#E5ECF6\",\"gridcolor\":\"white\",\"linecolor\":\"white\",\"showbackground\":true,\"ticks\":\"\",\"zerolinecolor\":\"white\",\"gridwidth\":2},\"yaxis\":{\"backgroundcolor\":\"#E5ECF6\",\"gridcolor\":\"white\",\"linecolor\":\"white\",\"showbackground\":true,\"ticks\":\"\",\"zerolinecolor\":\"white\",\"gridwidth\":2},\"zaxis\":{\"backgroundcolor\":\"#E5ECF6\",\"gridcolor\":\"white\",\"linecolor\":\"white\",\"showbackground\":true,\"ticks\":\"\",\"zerolinecolor\":\"white\",\"gridwidth\":2}},\"shapedefaults\":{\"line\":{\"color\":\"#2a3f5f\"}},\"annotationdefaults\":{\"arrowcolor\":\"#2a3f5f\",\"arrowhead\":0,\"arrowwidth\":1},\"geo\":{\"bgcolor\":\"white\",\"landcolor\":\"#E5ECF6\",\"subunitcolor\":\"white\",\"showland\":true,\"showlakes\":true,\"lakecolor\":\"white\"},\"title\":{\"x\":0.05},\"mapbox\":{\"style\":\"light\"}}}},                        {\"responsive\": true}                    ).then(function(){\n",
              "                            \n",
              "var gd = document.getElementById('7fe2d45f-432f-4b77-8b85-ce0fc4a1039c');\n",
              "var x = new MutationObserver(function (mutations, observer) {{\n",
              "        var display = window.getComputedStyle(gd).display;\n",
              "        if (!display || display === 'none') {{\n",
              "            console.log([gd, 'removed!']);\n",
              "            Plotly.purge(gd);\n",
              "            observer.disconnect();\n",
              "        }}\n",
              "}});\n",
              "\n",
              "// Listen for the removal of the full notebook cells\n",
              "var notebookContainer = gd.closest('#notebook-container');\n",
              "if (notebookContainer) {{\n",
              "    x.observe(notebookContainer, {childList: true});\n",
              "}}\n",
              "\n",
              "// Listen for the clearing of the current output cell\n",
              "var outputEl = gd.closest('.output');\n",
              "if (outputEl) {{\n",
              "    x.observe(outputEl, {childList: true});\n",
              "}}\n",
              "\n",
              "                        })                };                            </script>        </div>\n",
              "</body>\n",
              "</html>"
            ]
          },
          "metadata": {},
          "output_type": "display_data"
        }
      ],
      "source": [
        "optuna.visualization.plot_param_importances(study_rf)"
      ]
    },
    {
      "cell_type": "code",
      "execution_count": 60,
      "metadata": {
        "colab": {
          "base_uri": "https://localhost:8080/"
        },
        "id": "WAhX_ts_U-3s",
        "outputId": "345c8d69-c9b8-493a-c596-5c2301311fcc"
      },
      "outputs": [
        {
          "data": {
            "text/plain": [
              "({'max_depth': 16, 'max_features': 0.7685107430267129, 'n_estimators': 88},\n",
              " 0.8475530804037591)"
            ]
          },
          "execution_count": 60,
          "metadata": {},
          "output_type": "execute_result"
        }
      ],
      "source": [
        "study_rf.best_params, study_rf.best_value"
      ]
    },
    {
      "cell_type": "code",
      "execution_count": 65,
      "metadata": {
        "colab": {
          "base_uri": "https://localhost:8080/",
          "height": 542
        },
        "id": "6AqBL6VMUuog",
        "outputId": "d8a8c8f6-215e-4646-e56c-216bc88f03a9"
      },
      "outputs": [
        {
          "data": {
            "text/html": [
              "<html>\n",
              "<head><meta charset=\"utf-8\" /></head>\n",
              "<body>\n",
              "    <div>            <script src=\"https://cdnjs.cloudflare.com/ajax/libs/mathjax/2.7.5/MathJax.js?config=TeX-AMS-MML_SVG\"></script><script type=\"text/javascript\">if (window.MathJax && window.MathJax.Hub && window.MathJax.Hub.Config) {window.MathJax.Hub.Config({SVG: {font: \"STIX-Web\"}});}</script>                <script type=\"text/javascript\">window.PlotlyConfig = {MathJaxConfig: 'local'};</script>\n",
              "        <script charset=\"utf-8\" src=\"https://cdn.plot.ly/plotly-2.24.1.min.js\"></script>                <div id=\"1769a984-5a57-438c-863b-dd639fa641ca\" class=\"plotly-graph-div\" style=\"height:525px; width:100%;\"></div>            <script type=\"text/javascript\">                                    window.PLOTLYENV=window.PLOTLYENV || {};                                    if (document.getElementById(\"1769a984-5a57-438c-863b-dd639fa641ca\")) {                    Plotly.newPlot(                        \"1769a984-5a57-438c-863b-dd639fa641ca\",                        [{\"mode\":\"markers\",\"name\":\"Objective Value\",\"x\":[0,1,2,3,4,5,6,7,8,9,10,11,12,13,14,15,16,17,18,19,20,21,22,23,24,25,26,27,28,29,30,31,32,33,34,35,36,37,38,39,40,41,42,43,44,45,46,47,48,49,50,51,52,53,54,55,56,57,58,59,60,61,62,63,64,65,66,67,68,69,70,71,72,73,74,75,76,77,78,79,80,81,82,83,84,85,86,87,88,89,90,91,92,93,94,95,96,97,98,99,100,101,102,103,104,105,106,107,108,109,110,111,112,113,114,115,116,117,118,119,120,121,122,123,124,125,126,127,128,129,130,131,132,133,134,135,136,137,138,139,140,141,142,143,144,145,146,147,148,149,150,151,152,153,154,155,156,157,158,159,160,161,162,163,164,165,166,167,168,169,170,171,172,173,174,175,176,177,178,179,180,181,182,183,184,185,186,187,188,189,190,191,192,193,194,195,196,197,198,199],\"y\":[0.8274625826662027,0.8062234597981204,0.814500522102332,0.8050400278454578,0.8357326836059867,0.8073790462930734,0.8121127741037244,0.8310268012530455,0.8333588583362339,0.8132753219631048,0.8463696484510965,0.8404664114166376,0.8404733727810652,0.832189349112426,0.8440097459101985,0.832189349112426,0.8239331709014968,0.8333658197006614,0.8345492516533242,0.8440097459101985,0.8333727810650886,0.8392899408284024,0.8333727810650888,0.8345562130177516,0.8369161155586495,0.8333658197006614,0.8310059171597632,0.8333727810650886,0.8380995475113122,0.8310059171597632,0.8333727810650888,0.8404664114166376,0.836923076923077,0.8404733727810652,0.8345492516533242,0.8392829794639749,0.8333658197006614,0.8333727810650888,0.8333727810650888,0.8333658197006614,0.8380995475113122,0.8404664114166376,0.8404733727810652,0.8333727810650888,0.8404594500522101,0.8369161155586495,0.8321823877479986,0.8345562130177514,0.8333588583362339,0.8369161155586495,0.8463835711799511,0.8428332753219632,0.8392829794639749,0.8440167072746257,0.8428402366863905,0.8392829794639749,0.8392760180995475,0.8369161155586495,0.8404664114166376,0.8357326836059868,0.8416498433693004,0.8440167072746257,0.8440236686390532,0.8428402366863906,0.8452001392272885,0.8333727810650888,0.8452001392272888,0.8428402366863906,0.8404803341454926,0.8416637660981552,0.8369161155586495,0.8475600417681866,0.844016707274626,0.8345492516533242,0.8463835711799513,0.8416498433693004,0.8381065088757396,0.8452001392272885,0.8380995475113122,0.8357326836059867,0.8452001392272885,0.8416498433693004,0.8475670031326141,0.8428402366863906,0.836923076923077,0.8392969021928298,0.8416568047337278,0.8345631743821789,0.844016707274626,0.8404664114166376,0.8380995475113122,0.8428402366863906,0.8428332753219632,0.8416498433693004,0.8416498433693004,0.8416568047337278,0.8404664114166376,0.8392899408284024,0.8392760180995475,0.836923076923077,0.842833275321963,0.8428332753219632,0.8416498433693004,0.8416498433693004,0.844016707274626,0.8428402366863906,0.8369161155586495,0.8404733727810652,0.8416568047337278,0.8345631743821789,0.8404733727810652,0.8416498433693004,0.8452001392272885,0.8369161155586495,0.8440167072746257,0.844016707274626,0.8392829794639749,0.8440167072746257,0.8392760180995475,0.8392899408284024,0.8416498433693004,0.8440167072746257,0.8416498433693004,0.8451931778628612,0.8428402366863905,0.8428402366863905,0.8416498433693004,0.8345492516533242,0.8392760180995475,0.8428332753219632,0.8333797424295162,0.8475600417681866,0.8440236686390532,0.8416568047337278,0.842833275321963,0.8416428820048729,0.8428402366863905,0.8333727810650888,0.8428402366863905,0.8333727810650888,0.8416428820048729,0.8428402366863906,0.8392899408284024,0.8416498433693004,0.8428332753219632,0.8357396449704142,0.832189349112426,0.8440167072746257,0.8392969021928298,0.8428332753219632,0.8369161155586495,0.844016707274626,0.8428332753219632,0.8416568047337278,0.8404733727810652,0.836923076923077,0.8428402366863906,0.8416498433693004,0.8440167072746257,0.8369091541942222,0.81567003132614,0.8380925861468848,0.844016707274626,0.8452001392272885,0.8416498433693004,0.8428402366863905,0.8392899408284024,0.8404664114166376,0.8345562130177514,0.8404594500522103,0.844016707274626,0.8416498433693004,0.8463766098155239,0.8440167072746257,0.8416568047337277,0.8404733727810652,0.8440236686390532,0.8392899408284024,0.8381065088757398,0.8428402366863905,0.8321963104768534,0.8357326836059867,0.8463766098155239,0.832189349112426,0.842833275321963,0.8416568047337278,0.8404733727810652,0.8451931778628612,0.8451931778628612,0.8333727810650886,0.8404733727810652,0.8440097459101985,0.8440097459101983,0.8392760180995473,0.8333727810650888,0.8392829794639749,0.8345562130177514,0.8369161155586495,0.8380995475113122,0.8451931778628612],\"type\":\"scatter\"},{\"mode\":\"lines\",\"name\":\"Best Value\",\"x\":[0,1,2,3,4,5,6,7,8,9,10,11,12,13,14,15,16,17,18,19,20,21,22,23,24,25,26,27,28,29,30,31,32,33,34,35,36,37,38,39,40,41,42,43,44,45,46,47,48,49,50,51,52,53,54,55,56,57,58,59,60,61,62,63,64,65,66,67,68,69,70,71,72,73,74,75,76,77,78,79,80,81,82,83,84,85,86,87,88,89,90,91,92,93,94,95,96,97,98,99,100,101,102,103,104,105,106,107,108,109,110,111,112,113,114,115,116,117,118,119,120,121,122,123,124,125,126,127,128,129,130,131,132,133,134,135,136,137,138,139,140,141,142,143,144,145,146,147,148,149,150,151,152,153,154,155,156,157,158,159,160,161,162,163,164,165,166,167,168,169,170,171,172,173,174,175,176,177,178,179,180,181,182,183,184,185,186,187,188,189,190,191,192,193,194,195,196,197,198,199],\"y\":[0.8274625826662027,0.8274625826662027,0.8274625826662027,0.8274625826662027,0.8357326836059867,0.8357326836059867,0.8357326836059867,0.8357326836059867,0.8357326836059867,0.8357326836059867,0.8463696484510965,0.8463696484510965,0.8463696484510965,0.8463696484510965,0.8463696484510965,0.8463696484510965,0.8463696484510965,0.8463696484510965,0.8463696484510965,0.8463696484510965,0.8463696484510965,0.8463696484510965,0.8463696484510965,0.8463696484510965,0.8463696484510965,0.8463696484510965,0.8463696484510965,0.8463696484510965,0.8463696484510965,0.8463696484510965,0.8463696484510965,0.8463696484510965,0.8463696484510965,0.8463696484510965,0.8463696484510965,0.8463696484510965,0.8463696484510965,0.8463696484510965,0.8463696484510965,0.8463696484510965,0.8463696484510965,0.8463696484510965,0.8463696484510965,0.8463696484510965,0.8463696484510965,0.8463696484510965,0.8463696484510965,0.8463696484510965,0.8463696484510965,0.8463696484510965,0.8463835711799511,0.8463835711799511,0.8463835711799511,0.8463835711799511,0.8463835711799511,0.8463835711799511,0.8463835711799511,0.8463835711799511,0.8463835711799511,0.8463835711799511,0.8463835711799511,0.8463835711799511,0.8463835711799511,0.8463835711799511,0.8463835711799511,0.8463835711799511,0.8463835711799511,0.8463835711799511,0.8463835711799511,0.8463835711799511,0.8463835711799511,0.8475600417681866,0.8475600417681866,0.8475600417681866,0.8475600417681866,0.8475600417681866,0.8475600417681866,0.8475600417681866,0.8475600417681866,0.8475600417681866,0.8475600417681866,0.8475600417681866,0.8475670031326141,0.8475670031326141,0.8475670031326141,0.8475670031326141,0.8475670031326141,0.8475670031326141,0.8475670031326141,0.8475670031326141,0.8475670031326141,0.8475670031326141,0.8475670031326141,0.8475670031326141,0.8475670031326141,0.8475670031326141,0.8475670031326141,0.8475670031326141,0.8475670031326141,0.8475670031326141,0.8475670031326141,0.8475670031326141,0.8475670031326141,0.8475670031326141,0.8475670031326141,0.8475670031326141,0.8475670031326141,0.8475670031326141,0.8475670031326141,0.8475670031326141,0.8475670031326141,0.8475670031326141,0.8475670031326141,0.8475670031326141,0.8475670031326141,0.8475670031326141,0.8475670031326141,0.8475670031326141,0.8475670031326141,0.8475670031326141,0.8475670031326141,0.8475670031326141,0.8475670031326141,0.8475670031326141,0.8475670031326141,0.8475670031326141,0.8475670031326141,0.8475670031326141,0.8475670031326141,0.8475670031326141,0.8475670031326141,0.8475670031326141,0.8475670031326141,0.8475670031326141,0.8475670031326141,0.8475670031326141,0.8475670031326141,0.8475670031326141,0.8475670031326141,0.8475670031326141,0.8475670031326141,0.8475670031326141,0.8475670031326141,0.8475670031326141,0.8475670031326141,0.8475670031326141,0.8475670031326141,0.8475670031326141,0.8475670031326141,0.8475670031326141,0.8475670031326141,0.8475670031326141,0.8475670031326141,0.8475670031326141,0.8475670031326141,0.8475670031326141,0.8475670031326141,0.8475670031326141,0.8475670031326141,0.8475670031326141,0.8475670031326141,0.8475670031326141,0.8475670031326141,0.8475670031326141,0.8475670031326141,0.8475670031326141,0.8475670031326141,0.8475670031326141,0.8475670031326141,0.8475670031326141,0.8475670031326141,0.8475670031326141,0.8475670031326141,0.8475670031326141,0.8475670031326141,0.8475670031326141,0.8475670031326141,0.8475670031326141,0.8475670031326141,0.8475670031326141,0.8475670031326141,0.8475670031326141,0.8475670031326141,0.8475670031326141,0.8475670031326141,0.8475670031326141,0.8475670031326141,0.8475670031326141,0.8475670031326141,0.8475670031326141,0.8475670031326141,0.8475670031326141,0.8475670031326141,0.8475670031326141,0.8475670031326141,0.8475670031326141,0.8475670031326141,0.8475670031326141,0.8475670031326141,0.8475670031326141],\"type\":\"scatter\"},{\"marker\":{\"color\":\"#cccccc\"},\"mode\":\"markers\",\"name\":\"Infeasible Trial\",\"showlegend\":false,\"x\":[],\"y\":[],\"type\":\"scatter\"}],                        {\"title\":{\"text\":\"Optimization History Plot\"},\"xaxis\":{\"title\":{\"text\":\"Trial\"}},\"yaxis\":{\"title\":{\"text\":\"Objective Value\"}},\"template\":{\"data\":{\"histogram2dcontour\":[{\"type\":\"histogram2dcontour\",\"colorbar\":{\"outlinewidth\":0,\"ticks\":\"\"},\"colorscale\":[[0.0,\"#0d0887\"],[0.1111111111111111,\"#46039f\"],[0.2222222222222222,\"#7201a8\"],[0.3333333333333333,\"#9c179e\"],[0.4444444444444444,\"#bd3786\"],[0.5555555555555556,\"#d8576b\"],[0.6666666666666666,\"#ed7953\"],[0.7777777777777778,\"#fb9f3a\"],[0.8888888888888888,\"#fdca26\"],[1.0,\"#f0f921\"]]}],\"choropleth\":[{\"type\":\"choropleth\",\"colorbar\":{\"outlinewidth\":0,\"ticks\":\"\"}}],\"histogram2d\":[{\"type\":\"histogram2d\",\"colorbar\":{\"outlinewidth\":0,\"ticks\":\"\"},\"colorscale\":[[0.0,\"#0d0887\"],[0.1111111111111111,\"#46039f\"],[0.2222222222222222,\"#7201a8\"],[0.3333333333333333,\"#9c179e\"],[0.4444444444444444,\"#bd3786\"],[0.5555555555555556,\"#d8576b\"],[0.6666666666666666,\"#ed7953\"],[0.7777777777777778,\"#fb9f3a\"],[0.8888888888888888,\"#fdca26\"],[1.0,\"#f0f921\"]]}],\"heatmap\":[{\"type\":\"heatmap\",\"colorbar\":{\"outlinewidth\":0,\"ticks\":\"\"},\"colorscale\":[[0.0,\"#0d0887\"],[0.1111111111111111,\"#46039f\"],[0.2222222222222222,\"#7201a8\"],[0.3333333333333333,\"#9c179e\"],[0.4444444444444444,\"#bd3786\"],[0.5555555555555556,\"#d8576b\"],[0.6666666666666666,\"#ed7953\"],[0.7777777777777778,\"#fb9f3a\"],[0.8888888888888888,\"#fdca26\"],[1.0,\"#f0f921\"]]}],\"heatmapgl\":[{\"type\":\"heatmapgl\",\"colorbar\":{\"outlinewidth\":0,\"ticks\":\"\"},\"colorscale\":[[0.0,\"#0d0887\"],[0.1111111111111111,\"#46039f\"],[0.2222222222222222,\"#7201a8\"],[0.3333333333333333,\"#9c179e\"],[0.4444444444444444,\"#bd3786\"],[0.5555555555555556,\"#d8576b\"],[0.6666666666666666,\"#ed7953\"],[0.7777777777777778,\"#fb9f3a\"],[0.8888888888888888,\"#fdca26\"],[1.0,\"#f0f921\"]]}],\"contourcarpet\":[{\"type\":\"contourcarpet\",\"colorbar\":{\"outlinewidth\":0,\"ticks\":\"\"}}],\"contour\":[{\"type\":\"contour\",\"colorbar\":{\"outlinewidth\":0,\"ticks\":\"\"},\"colorscale\":[[0.0,\"#0d0887\"],[0.1111111111111111,\"#46039f\"],[0.2222222222222222,\"#7201a8\"],[0.3333333333333333,\"#9c179e\"],[0.4444444444444444,\"#bd3786\"],[0.5555555555555556,\"#d8576b\"],[0.6666666666666666,\"#ed7953\"],[0.7777777777777778,\"#fb9f3a\"],[0.8888888888888888,\"#fdca26\"],[1.0,\"#f0f921\"]]}],\"surface\":[{\"type\":\"surface\",\"colorbar\":{\"outlinewidth\":0,\"ticks\":\"\"},\"colorscale\":[[0.0,\"#0d0887\"],[0.1111111111111111,\"#46039f\"],[0.2222222222222222,\"#7201a8\"],[0.3333333333333333,\"#9c179e\"],[0.4444444444444444,\"#bd3786\"],[0.5555555555555556,\"#d8576b\"],[0.6666666666666666,\"#ed7953\"],[0.7777777777777778,\"#fb9f3a\"],[0.8888888888888888,\"#fdca26\"],[1.0,\"#f0f921\"]]}],\"mesh3d\":[{\"type\":\"mesh3d\",\"colorbar\":{\"outlinewidth\":0,\"ticks\":\"\"}}],\"scatter\":[{\"fillpattern\":{\"fillmode\":\"overlay\",\"size\":10,\"solidity\":0.2},\"type\":\"scatter\"}],\"parcoords\":[{\"type\":\"parcoords\",\"line\":{\"colorbar\":{\"outlinewidth\":0,\"ticks\":\"\"}}}],\"scatterpolargl\":[{\"type\":\"scatterpolargl\",\"marker\":{\"colorbar\":{\"outlinewidth\":0,\"ticks\":\"\"}}}],\"bar\":[{\"error_x\":{\"color\":\"#2a3f5f\"},\"error_y\":{\"color\":\"#2a3f5f\"},\"marker\":{\"line\":{\"color\":\"#E5ECF6\",\"width\":0.5},\"pattern\":{\"fillmode\":\"overlay\",\"size\":10,\"solidity\":0.2}},\"type\":\"bar\"}],\"scattergeo\":[{\"type\":\"scattergeo\",\"marker\":{\"colorbar\":{\"outlinewidth\":0,\"ticks\":\"\"}}}],\"scatterpolar\":[{\"type\":\"scatterpolar\",\"marker\":{\"colorbar\":{\"outlinewidth\":0,\"ticks\":\"\"}}}],\"histogram\":[{\"marker\":{\"pattern\":{\"fillmode\":\"overlay\",\"size\":10,\"solidity\":0.2}},\"type\":\"histogram\"}],\"scattergl\":[{\"type\":\"scattergl\",\"marker\":{\"colorbar\":{\"outlinewidth\":0,\"ticks\":\"\"}}}],\"scatter3d\":[{\"type\":\"scatter3d\",\"line\":{\"colorbar\":{\"outlinewidth\":0,\"ticks\":\"\"}},\"marker\":{\"colorbar\":{\"outlinewidth\":0,\"ticks\":\"\"}}}],\"scattermapbox\":[{\"type\":\"scattermapbox\",\"marker\":{\"colorbar\":{\"outlinewidth\":0,\"ticks\":\"\"}}}],\"scatterternary\":[{\"type\":\"scatterternary\",\"marker\":{\"colorbar\":{\"outlinewidth\":0,\"ticks\":\"\"}}}],\"scattercarpet\":[{\"type\":\"scattercarpet\",\"marker\":{\"colorbar\":{\"outlinewidth\":0,\"ticks\":\"\"}}}],\"carpet\":[{\"aaxis\":{\"endlinecolor\":\"#2a3f5f\",\"gridcolor\":\"white\",\"linecolor\":\"white\",\"minorgridcolor\":\"white\",\"startlinecolor\":\"#2a3f5f\"},\"baxis\":{\"endlinecolor\":\"#2a3f5f\",\"gridcolor\":\"white\",\"linecolor\":\"white\",\"minorgridcolor\":\"white\",\"startlinecolor\":\"#2a3f5f\"},\"type\":\"carpet\"}],\"table\":[{\"cells\":{\"fill\":{\"color\":\"#EBF0F8\"},\"line\":{\"color\":\"white\"}},\"header\":{\"fill\":{\"color\":\"#C8D4E3\"},\"line\":{\"color\":\"white\"}},\"type\":\"table\"}],\"barpolar\":[{\"marker\":{\"line\":{\"color\":\"#E5ECF6\",\"width\":0.5},\"pattern\":{\"fillmode\":\"overlay\",\"size\":10,\"solidity\":0.2}},\"type\":\"barpolar\"}],\"pie\":[{\"automargin\":true,\"type\":\"pie\"}]},\"layout\":{\"autotypenumbers\":\"strict\",\"colorway\":[\"#636efa\",\"#EF553B\",\"#00cc96\",\"#ab63fa\",\"#FFA15A\",\"#19d3f3\",\"#FF6692\",\"#B6E880\",\"#FF97FF\",\"#FECB52\"],\"font\":{\"color\":\"#2a3f5f\"},\"hovermode\":\"closest\",\"hoverlabel\":{\"align\":\"left\"},\"paper_bgcolor\":\"white\",\"plot_bgcolor\":\"#E5ECF6\",\"polar\":{\"bgcolor\":\"#E5ECF6\",\"angularaxis\":{\"gridcolor\":\"white\",\"linecolor\":\"white\",\"ticks\":\"\"},\"radialaxis\":{\"gridcolor\":\"white\",\"linecolor\":\"white\",\"ticks\":\"\"}},\"ternary\":{\"bgcolor\":\"#E5ECF6\",\"aaxis\":{\"gridcolor\":\"white\",\"linecolor\":\"white\",\"ticks\":\"\"},\"baxis\":{\"gridcolor\":\"white\",\"linecolor\":\"white\",\"ticks\":\"\"},\"caxis\":{\"gridcolor\":\"white\",\"linecolor\":\"white\",\"ticks\":\"\"}},\"coloraxis\":{\"colorbar\":{\"outlinewidth\":0,\"ticks\":\"\"}},\"colorscale\":{\"sequential\":[[0.0,\"#0d0887\"],[0.1111111111111111,\"#46039f\"],[0.2222222222222222,\"#7201a8\"],[0.3333333333333333,\"#9c179e\"],[0.4444444444444444,\"#bd3786\"],[0.5555555555555556,\"#d8576b\"],[0.6666666666666666,\"#ed7953\"],[0.7777777777777778,\"#fb9f3a\"],[0.8888888888888888,\"#fdca26\"],[1.0,\"#f0f921\"]],\"sequentialminus\":[[0.0,\"#0d0887\"],[0.1111111111111111,\"#46039f\"],[0.2222222222222222,\"#7201a8\"],[0.3333333333333333,\"#9c179e\"],[0.4444444444444444,\"#bd3786\"],[0.5555555555555556,\"#d8576b\"],[0.6666666666666666,\"#ed7953\"],[0.7777777777777778,\"#fb9f3a\"],[0.8888888888888888,\"#fdca26\"],[1.0,\"#f0f921\"]],\"diverging\":[[0,\"#8e0152\"],[0.1,\"#c51b7d\"],[0.2,\"#de77ae\"],[0.3,\"#f1b6da\"],[0.4,\"#fde0ef\"],[0.5,\"#f7f7f7\"],[0.6,\"#e6f5d0\"],[0.7,\"#b8e186\"],[0.8,\"#7fbc41\"],[0.9,\"#4d9221\"],[1,\"#276419\"]]},\"xaxis\":{\"gridcolor\":\"white\",\"linecolor\":\"white\",\"ticks\":\"\",\"title\":{\"standoff\":15},\"zerolinecolor\":\"white\",\"automargin\":true,\"zerolinewidth\":2},\"yaxis\":{\"gridcolor\":\"white\",\"linecolor\":\"white\",\"ticks\":\"\",\"title\":{\"standoff\":15},\"zerolinecolor\":\"white\",\"automargin\":true,\"zerolinewidth\":2},\"scene\":{\"xaxis\":{\"backgroundcolor\":\"#E5ECF6\",\"gridcolor\":\"white\",\"linecolor\":\"white\",\"showbackground\":true,\"ticks\":\"\",\"zerolinecolor\":\"white\",\"gridwidth\":2},\"yaxis\":{\"backgroundcolor\":\"#E5ECF6\",\"gridcolor\":\"white\",\"linecolor\":\"white\",\"showbackground\":true,\"ticks\":\"\",\"zerolinecolor\":\"white\",\"gridwidth\":2},\"zaxis\":{\"backgroundcolor\":\"#E5ECF6\",\"gridcolor\":\"white\",\"linecolor\":\"white\",\"showbackground\":true,\"ticks\":\"\",\"zerolinecolor\":\"white\",\"gridwidth\":2}},\"shapedefaults\":{\"line\":{\"color\":\"#2a3f5f\"}},\"annotationdefaults\":{\"arrowcolor\":\"#2a3f5f\",\"arrowhead\":0,\"arrowwidth\":1},\"geo\":{\"bgcolor\":\"white\",\"landcolor\":\"#E5ECF6\",\"subunitcolor\":\"white\",\"showland\":true,\"showlakes\":true,\"lakecolor\":\"white\"},\"title\":{\"x\":0.05},\"mapbox\":{\"style\":\"light\"}}}},                        {\"responsive\": true}                    ).then(function(){\n",
              "                            \n",
              "var gd = document.getElementById('1769a984-5a57-438c-863b-dd639fa641ca');\n",
              "var x = new MutationObserver(function (mutations, observer) {{\n",
              "        var display = window.getComputedStyle(gd).display;\n",
              "        if (!display || display === 'none') {{\n",
              "            console.log([gd, 'removed!']);\n",
              "            Plotly.purge(gd);\n",
              "            observer.disconnect();\n",
              "        }}\n",
              "}});\n",
              "\n",
              "// Listen for the removal of the full notebook cells\n",
              "var notebookContainer = gd.closest('#notebook-container');\n",
              "if (notebookContainer) {{\n",
              "    x.observe(notebookContainer, {childList: true});\n",
              "}}\n",
              "\n",
              "// Listen for the clearing of the current output cell\n",
              "var outputEl = gd.closest('.output');\n",
              "if (outputEl) {{\n",
              "    x.observe(outputEl, {childList: true});\n",
              "}}\n",
              "\n",
              "                        })                };                            </script>        </div>\n",
              "</body>\n",
              "</html>"
            ]
          },
          "metadata": {},
          "output_type": "display_data"
        }
      ],
      "source": [
        "optuna.visualization.plot_optimization_history(study_xgb)"
      ]
    },
    {
      "cell_type": "code",
      "execution_count": 66,
      "metadata": {
        "colab": {
          "base_uri": "https://localhost:8080/",
          "height": 542
        },
        "id": "W67lXXbeU4D9",
        "outputId": "4f151350-c96b-4d69-e728-82b171d488d5"
      },
      "outputs": [
        {
          "data": {
            "text/html": [
              "<html>\n",
              "<head><meta charset=\"utf-8\" /></head>\n",
              "<body>\n",
              "    <div>            <script src=\"https://cdnjs.cloudflare.com/ajax/libs/mathjax/2.7.5/MathJax.js?config=TeX-AMS-MML_SVG\"></script><script type=\"text/javascript\">if (window.MathJax && window.MathJax.Hub && window.MathJax.Hub.Config) {window.MathJax.Hub.Config({SVG: {font: \"STIX-Web\"}});}</script>                <script type=\"text/javascript\">window.PlotlyConfig = {MathJaxConfig: 'local'};</script>\n",
              "        <script charset=\"utf-8\" src=\"https://cdn.plot.ly/plotly-2.24.1.min.js\"></script>                <div id=\"1f69bee4-6dc4-4cd5-8ad0-268c4c179826\" class=\"plotly-graph-div\" style=\"height:525px; width:100%;\"></div>            <script type=\"text/javascript\">                                    window.PLOTLYENV=window.PLOTLYENV || {};                                    if (document.getElementById(\"1f69bee4-6dc4-4cd5-8ad0-268c4c179826\")) {                    Plotly.newPlot(                        \"1f69bee4-6dc4-4cd5-8ad0-268c4c179826\",                        [{\"cliponaxis\":false,\"hovertemplate\":[\"colsample_bynode (CategoricalDistribution): 0.0015610070477973588\\u003cextra\\u003e\\u003c\\u002fextra\\u003e\",\"max_depth (IntDistribution): 0.013357970899021965\\u003cextra\\u003e\\u003c\\u002fextra\\u003e\",\"tree_method (CategoricalDistribution): 0.02186783518019011\\u003cextra\\u003e\\u003c\\u002fextra\\u003e\",\"reg_lambda (FloatDistribution): 0.9632131868729906\\u003cextra\\u003e\\u003c\\u002fextra\\u003e\"],\"name\":\"Objective Value\",\"orientation\":\"h\",\"text\":[\"\\u003c0.01\",\"0.01\",\"0.02\",\"0.96\"],\"textposition\":\"outside\",\"x\":[0.0015610070477973588,0.013357970899021965,0.02186783518019011,0.9632131868729906],\"y\":[\"colsample_bynode\",\"max_depth\",\"tree_method\",\"reg_lambda\"],\"type\":\"bar\"}],                        {\"title\":{\"text\":\"Hyperparameter Importances\"},\"xaxis\":{\"title\":{\"text\":\"Hyperparameter Importance\"}},\"yaxis\":{\"title\":{\"text\":\"Hyperparameter\"}},\"template\":{\"data\":{\"histogram2dcontour\":[{\"type\":\"histogram2dcontour\",\"colorbar\":{\"outlinewidth\":0,\"ticks\":\"\"},\"colorscale\":[[0.0,\"#0d0887\"],[0.1111111111111111,\"#46039f\"],[0.2222222222222222,\"#7201a8\"],[0.3333333333333333,\"#9c179e\"],[0.4444444444444444,\"#bd3786\"],[0.5555555555555556,\"#d8576b\"],[0.6666666666666666,\"#ed7953\"],[0.7777777777777778,\"#fb9f3a\"],[0.8888888888888888,\"#fdca26\"],[1.0,\"#f0f921\"]]}],\"choropleth\":[{\"type\":\"choropleth\",\"colorbar\":{\"outlinewidth\":0,\"ticks\":\"\"}}],\"histogram2d\":[{\"type\":\"histogram2d\",\"colorbar\":{\"outlinewidth\":0,\"ticks\":\"\"},\"colorscale\":[[0.0,\"#0d0887\"],[0.1111111111111111,\"#46039f\"],[0.2222222222222222,\"#7201a8\"],[0.3333333333333333,\"#9c179e\"],[0.4444444444444444,\"#bd3786\"],[0.5555555555555556,\"#d8576b\"],[0.6666666666666666,\"#ed7953\"],[0.7777777777777778,\"#fb9f3a\"],[0.8888888888888888,\"#fdca26\"],[1.0,\"#f0f921\"]]}],\"heatmap\":[{\"type\":\"heatmap\",\"colorbar\":{\"outlinewidth\":0,\"ticks\":\"\"},\"colorscale\":[[0.0,\"#0d0887\"],[0.1111111111111111,\"#46039f\"],[0.2222222222222222,\"#7201a8\"],[0.3333333333333333,\"#9c179e\"],[0.4444444444444444,\"#bd3786\"],[0.5555555555555556,\"#d8576b\"],[0.6666666666666666,\"#ed7953\"],[0.7777777777777778,\"#fb9f3a\"],[0.8888888888888888,\"#fdca26\"],[1.0,\"#f0f921\"]]}],\"heatmapgl\":[{\"type\":\"heatmapgl\",\"colorbar\":{\"outlinewidth\":0,\"ticks\":\"\"},\"colorscale\":[[0.0,\"#0d0887\"],[0.1111111111111111,\"#46039f\"],[0.2222222222222222,\"#7201a8\"],[0.3333333333333333,\"#9c179e\"],[0.4444444444444444,\"#bd3786\"],[0.5555555555555556,\"#d8576b\"],[0.6666666666666666,\"#ed7953\"],[0.7777777777777778,\"#fb9f3a\"],[0.8888888888888888,\"#fdca26\"],[1.0,\"#f0f921\"]]}],\"contourcarpet\":[{\"type\":\"contourcarpet\",\"colorbar\":{\"outlinewidth\":0,\"ticks\":\"\"}}],\"contour\":[{\"type\":\"contour\",\"colorbar\":{\"outlinewidth\":0,\"ticks\":\"\"},\"colorscale\":[[0.0,\"#0d0887\"],[0.1111111111111111,\"#46039f\"],[0.2222222222222222,\"#7201a8\"],[0.3333333333333333,\"#9c179e\"],[0.4444444444444444,\"#bd3786\"],[0.5555555555555556,\"#d8576b\"],[0.6666666666666666,\"#ed7953\"],[0.7777777777777778,\"#fb9f3a\"],[0.8888888888888888,\"#fdca26\"],[1.0,\"#f0f921\"]]}],\"surface\":[{\"type\":\"surface\",\"colorbar\":{\"outlinewidth\":0,\"ticks\":\"\"},\"colorscale\":[[0.0,\"#0d0887\"],[0.1111111111111111,\"#46039f\"],[0.2222222222222222,\"#7201a8\"],[0.3333333333333333,\"#9c179e\"],[0.4444444444444444,\"#bd3786\"],[0.5555555555555556,\"#d8576b\"],[0.6666666666666666,\"#ed7953\"],[0.7777777777777778,\"#fb9f3a\"],[0.8888888888888888,\"#fdca26\"],[1.0,\"#f0f921\"]]}],\"mesh3d\":[{\"type\":\"mesh3d\",\"colorbar\":{\"outlinewidth\":0,\"ticks\":\"\"}}],\"scatter\":[{\"fillpattern\":{\"fillmode\":\"overlay\",\"size\":10,\"solidity\":0.2},\"type\":\"scatter\"}],\"parcoords\":[{\"type\":\"parcoords\",\"line\":{\"colorbar\":{\"outlinewidth\":0,\"ticks\":\"\"}}}],\"scatterpolargl\":[{\"type\":\"scatterpolargl\",\"marker\":{\"colorbar\":{\"outlinewidth\":0,\"ticks\":\"\"}}}],\"bar\":[{\"error_x\":{\"color\":\"#2a3f5f\"},\"error_y\":{\"color\":\"#2a3f5f\"},\"marker\":{\"line\":{\"color\":\"#E5ECF6\",\"width\":0.5},\"pattern\":{\"fillmode\":\"overlay\",\"size\":10,\"solidity\":0.2}},\"type\":\"bar\"}],\"scattergeo\":[{\"type\":\"scattergeo\",\"marker\":{\"colorbar\":{\"outlinewidth\":0,\"ticks\":\"\"}}}],\"scatterpolar\":[{\"type\":\"scatterpolar\",\"marker\":{\"colorbar\":{\"outlinewidth\":0,\"ticks\":\"\"}}}],\"histogram\":[{\"marker\":{\"pattern\":{\"fillmode\":\"overlay\",\"size\":10,\"solidity\":0.2}},\"type\":\"histogram\"}],\"scattergl\":[{\"type\":\"scattergl\",\"marker\":{\"colorbar\":{\"outlinewidth\":0,\"ticks\":\"\"}}}],\"scatter3d\":[{\"type\":\"scatter3d\",\"line\":{\"colorbar\":{\"outlinewidth\":0,\"ticks\":\"\"}},\"marker\":{\"colorbar\":{\"outlinewidth\":0,\"ticks\":\"\"}}}],\"scattermapbox\":[{\"type\":\"scattermapbox\",\"marker\":{\"colorbar\":{\"outlinewidth\":0,\"ticks\":\"\"}}}],\"scatterternary\":[{\"type\":\"scatterternary\",\"marker\":{\"colorbar\":{\"outlinewidth\":0,\"ticks\":\"\"}}}],\"scattercarpet\":[{\"type\":\"scattercarpet\",\"marker\":{\"colorbar\":{\"outlinewidth\":0,\"ticks\":\"\"}}}],\"carpet\":[{\"aaxis\":{\"endlinecolor\":\"#2a3f5f\",\"gridcolor\":\"white\",\"linecolor\":\"white\",\"minorgridcolor\":\"white\",\"startlinecolor\":\"#2a3f5f\"},\"baxis\":{\"endlinecolor\":\"#2a3f5f\",\"gridcolor\":\"white\",\"linecolor\":\"white\",\"minorgridcolor\":\"white\",\"startlinecolor\":\"#2a3f5f\"},\"type\":\"carpet\"}],\"table\":[{\"cells\":{\"fill\":{\"color\":\"#EBF0F8\"},\"line\":{\"color\":\"white\"}},\"header\":{\"fill\":{\"color\":\"#C8D4E3\"},\"line\":{\"color\":\"white\"}},\"type\":\"table\"}],\"barpolar\":[{\"marker\":{\"line\":{\"color\":\"#E5ECF6\",\"width\":0.5},\"pattern\":{\"fillmode\":\"overlay\",\"size\":10,\"solidity\":0.2}},\"type\":\"barpolar\"}],\"pie\":[{\"automargin\":true,\"type\":\"pie\"}]},\"layout\":{\"autotypenumbers\":\"strict\",\"colorway\":[\"#636efa\",\"#EF553B\",\"#00cc96\",\"#ab63fa\",\"#FFA15A\",\"#19d3f3\",\"#FF6692\",\"#B6E880\",\"#FF97FF\",\"#FECB52\"],\"font\":{\"color\":\"#2a3f5f\"},\"hovermode\":\"closest\",\"hoverlabel\":{\"align\":\"left\"},\"paper_bgcolor\":\"white\",\"plot_bgcolor\":\"#E5ECF6\",\"polar\":{\"bgcolor\":\"#E5ECF6\",\"angularaxis\":{\"gridcolor\":\"white\",\"linecolor\":\"white\",\"ticks\":\"\"},\"radialaxis\":{\"gridcolor\":\"white\",\"linecolor\":\"white\",\"ticks\":\"\"}},\"ternary\":{\"bgcolor\":\"#E5ECF6\",\"aaxis\":{\"gridcolor\":\"white\",\"linecolor\":\"white\",\"ticks\":\"\"},\"baxis\":{\"gridcolor\":\"white\",\"linecolor\":\"white\",\"ticks\":\"\"},\"caxis\":{\"gridcolor\":\"white\",\"linecolor\":\"white\",\"ticks\":\"\"}},\"coloraxis\":{\"colorbar\":{\"outlinewidth\":0,\"ticks\":\"\"}},\"colorscale\":{\"sequential\":[[0.0,\"#0d0887\"],[0.1111111111111111,\"#46039f\"],[0.2222222222222222,\"#7201a8\"],[0.3333333333333333,\"#9c179e\"],[0.4444444444444444,\"#bd3786\"],[0.5555555555555556,\"#d8576b\"],[0.6666666666666666,\"#ed7953\"],[0.7777777777777778,\"#fb9f3a\"],[0.8888888888888888,\"#fdca26\"],[1.0,\"#f0f921\"]],\"sequentialminus\":[[0.0,\"#0d0887\"],[0.1111111111111111,\"#46039f\"],[0.2222222222222222,\"#7201a8\"],[0.3333333333333333,\"#9c179e\"],[0.4444444444444444,\"#bd3786\"],[0.5555555555555556,\"#d8576b\"],[0.6666666666666666,\"#ed7953\"],[0.7777777777777778,\"#fb9f3a\"],[0.8888888888888888,\"#fdca26\"],[1.0,\"#f0f921\"]],\"diverging\":[[0,\"#8e0152\"],[0.1,\"#c51b7d\"],[0.2,\"#de77ae\"],[0.3,\"#f1b6da\"],[0.4,\"#fde0ef\"],[0.5,\"#f7f7f7\"],[0.6,\"#e6f5d0\"],[0.7,\"#b8e186\"],[0.8,\"#7fbc41\"],[0.9,\"#4d9221\"],[1,\"#276419\"]]},\"xaxis\":{\"gridcolor\":\"white\",\"linecolor\":\"white\",\"ticks\":\"\",\"title\":{\"standoff\":15},\"zerolinecolor\":\"white\",\"automargin\":true,\"zerolinewidth\":2},\"yaxis\":{\"gridcolor\":\"white\",\"linecolor\":\"white\",\"ticks\":\"\",\"title\":{\"standoff\":15},\"zerolinecolor\":\"white\",\"automargin\":true,\"zerolinewidth\":2},\"scene\":{\"xaxis\":{\"backgroundcolor\":\"#E5ECF6\",\"gridcolor\":\"white\",\"linecolor\":\"white\",\"showbackground\":true,\"ticks\":\"\",\"zerolinecolor\":\"white\",\"gridwidth\":2},\"yaxis\":{\"backgroundcolor\":\"#E5ECF6\",\"gridcolor\":\"white\",\"linecolor\":\"white\",\"showbackground\":true,\"ticks\":\"\",\"zerolinecolor\":\"white\",\"gridwidth\":2},\"zaxis\":{\"backgroundcolor\":\"#E5ECF6\",\"gridcolor\":\"white\",\"linecolor\":\"white\",\"showbackground\":true,\"ticks\":\"\",\"zerolinecolor\":\"white\",\"gridwidth\":2}},\"shapedefaults\":{\"line\":{\"color\":\"#2a3f5f\"}},\"annotationdefaults\":{\"arrowcolor\":\"#2a3f5f\",\"arrowhead\":0,\"arrowwidth\":1},\"geo\":{\"bgcolor\":\"white\",\"landcolor\":\"#E5ECF6\",\"subunitcolor\":\"white\",\"showland\":true,\"showlakes\":true,\"lakecolor\":\"white\"},\"title\":{\"x\":0.05},\"mapbox\":{\"style\":\"light\"}}}},                        {\"responsive\": true}                    ).then(function(){\n",
              "                            \n",
              "var gd = document.getElementById('1f69bee4-6dc4-4cd5-8ad0-268c4c179826');\n",
              "var x = new MutationObserver(function (mutations, observer) {{\n",
              "        var display = window.getComputedStyle(gd).display;\n",
              "        if (!display || display === 'none') {{\n",
              "            console.log([gd, 'removed!']);\n",
              "            Plotly.purge(gd);\n",
              "            observer.disconnect();\n",
              "        }}\n",
              "}});\n",
              "\n",
              "// Listen for the removal of the full notebook cells\n",
              "var notebookContainer = gd.closest('#notebook-container');\n",
              "if (notebookContainer) {{\n",
              "    x.observe(notebookContainer, {childList: true});\n",
              "}}\n",
              "\n",
              "// Listen for the clearing of the current output cell\n",
              "var outputEl = gd.closest('.output');\n",
              "if (outputEl) {{\n",
              "    x.observe(outputEl, {childList: true});\n",
              "}}\n",
              "\n",
              "                        })                };                            </script>        </div>\n",
              "</body>\n",
              "</html>"
            ]
          },
          "metadata": {},
          "output_type": "display_data"
        }
      ],
      "source": [
        "optuna.visualization.plot_param_importances(study_xgb)"
      ]
    },
    {
      "cell_type": "code",
      "execution_count": 67,
      "metadata": {
        "colab": {
          "base_uri": "https://localhost:8080/"
        },
        "id": "rg4gsXP2W4BC",
        "outputId": "9e3761be-e583-4d88-bdb5-4aa17de18cb8"
      },
      "outputs": [
        {
          "data": {
            "text/plain": [
              "({'max_depth': 15,\n",
              "  'reg_lambda': 0.947497047191717,\n",
              "  'colsample_bynode': 0.7,\n",
              "  'tree_method': 'hist'},\n",
              " 0.8475670031326141)"
            ]
          },
          "execution_count": 67,
          "metadata": {},
          "output_type": "execute_result"
        }
      ],
      "source": [
        "study_xgb.best_params, study_xgb.best_value"
      ]
    },
    {
      "cell_type": "code",
      "execution_count": 92,
      "metadata": {
        "colab": {
          "base_uri": "https://localhost:8080/"
        },
        "id": "IL_kGvwrVfsE",
        "outputId": "bcab1132-4aa2-4311-b084-df8d39087cea"
      },
      "outputs": [
        {
          "name": "stdout",
          "output_type": "stream",
          "text": [
            "Validation Acc: 0.8667\n"
          ]
        }
      ],
      "source": [
        "best_params = study_rf.best_params\n",
        "best_params['min_samples_split'] = 12\n",
        "best_params['min_samples_leaf'] = 2\n",
        "best_model_rf = RandomForestClassifier(**best_params,\n",
        "                      verbose=0,\n",
        "                      random_state=42)\n",
        "\n",
        "best_model_rf.fit(X_train, y_train)\n",
        "print(\"Validation Acc: %.4f\" % evaluation_metric(y_val, best_model_rf.predict(X_val)))"
      ]
    },
    {
      "cell_type": "code",
      "execution_count": 93,
      "metadata": {
        "colab": {
          "base_uri": "https://localhost:8080/"
        },
        "id": "GPcTuKENguqM",
        "outputId": "75e7aea3-155a-4d83-d78f-85fc1880442b"
      },
      "outputs": [
        {
          "name": "stdout",
          "output_type": "stream",
          "text": [
            "Validation Acc : 0.8667\n"
          ]
        }
      ],
      "source": [
        "best_params = study_xgb.best_params\n",
        "best_params['learning_rate'] = 0.015996507912737445\n",
        "best_params['n_estimators'] = 85\n",
        "best_model_xgb = XGBClassifier(**best_params,\n",
        "                      verbose=-1,\n",
        "                      random_state=42)\n",
        "\n",
        "best_model_xgb.fit(X_train, y_train)\n",
        "print(\"Validation Acc : %.4f\" % evaluation_metric(y_val, best_model_xgb.predict(X_val)))"
      ]
    },
    {
      "cell_type": "markdown",
      "metadata": {
        "id": "MW0Wj-U2HXDs"
      },
      "source": [
        "# test"
      ]
    },
    {
      "cell_type": "code",
      "execution_count": 100,
      "metadata": {
        "colab": {
          "base_uri": "https://localhost:8080/",
          "height": 226
        },
        "id": "CgV-MxVNHu-8",
        "outputId": "7a43ffdc-74c6-4fe3-bd44-b02e8eaef156"
      },
      "outputs": [
        {
          "data": {
            "text/html": [
              "\n",
              "  <div id=\"df-b15744f1-da06-44ea-bbc0-3e21b0f85fbb\" class=\"colab-df-container\">\n",
              "    <div>\n",
              "<style scoped>\n",
              "    .dataframe tbody tr th:only-of-type {\n",
              "        vertical-align: middle;\n",
              "    }\n",
              "\n",
              "    .dataframe tbody tr th {\n",
              "        vertical-align: top;\n",
              "    }\n",
              "\n",
              "    .dataframe thead th {\n",
              "        text-align: right;\n",
              "    }\n",
              "</style>\n",
              "<table border=\"1\" class=\"dataframe\">\n",
              "  <thead>\n",
              "    <tr style=\"text-align: right;\">\n",
              "      <th></th>\n",
              "      <th>Age</th>\n",
              "      <th>Fare</th>\n",
              "      <th>Nuclear</th>\n",
              "      <th>Master</th>\n",
              "      <th>Pclass_1</th>\n",
              "      <th>Pclass_2</th>\n",
              "      <th>Pclass_3</th>\n",
              "      <th>Sex_0</th>\n",
              "      <th>Sex_1</th>\n",
              "      <th>Embarked_C</th>\n",
              "      <th>Embarked_Q</th>\n",
              "      <th>Embarked_S</th>\n",
              "    </tr>\n",
              "  </thead>\n",
              "  <tbody>\n",
              "    <tr>\n",
              "      <th>0</th>\n",
              "      <td>2.0</td>\n",
              "      <td>7.8292</td>\n",
              "      <td>0</td>\n",
              "      <td>0</td>\n",
              "      <td>0</td>\n",
              "      <td>0</td>\n",
              "      <td>1</td>\n",
              "      <td>1</td>\n",
              "      <td>0</td>\n",
              "      <td>0</td>\n",
              "      <td>1</td>\n",
              "      <td>0</td>\n",
              "    </tr>\n",
              "    <tr>\n",
              "      <th>1</th>\n",
              "      <td>3.0</td>\n",
              "      <td>7.0000</td>\n",
              "      <td>1</td>\n",
              "      <td>0</td>\n",
              "      <td>0</td>\n",
              "      <td>0</td>\n",
              "      <td>1</td>\n",
              "      <td>0</td>\n",
              "      <td>1</td>\n",
              "      <td>0</td>\n",
              "      <td>0</td>\n",
              "      <td>1</td>\n",
              "    </tr>\n",
              "    <tr>\n",
              "      <th>2</th>\n",
              "      <td>3.0</td>\n",
              "      <td>9.6875</td>\n",
              "      <td>0</td>\n",
              "      <td>0</td>\n",
              "      <td>0</td>\n",
              "      <td>1</td>\n",
              "      <td>0</td>\n",
              "      <td>1</td>\n",
              "      <td>0</td>\n",
              "      <td>0</td>\n",
              "      <td>1</td>\n",
              "      <td>0</td>\n",
              "    </tr>\n",
              "    <tr>\n",
              "      <th>3</th>\n",
              "      <td>2.0</td>\n",
              "      <td>8.6625</td>\n",
              "      <td>0</td>\n",
              "      <td>0</td>\n",
              "      <td>0</td>\n",
              "      <td>0</td>\n",
              "      <td>1</td>\n",
              "      <td>1</td>\n",
              "      <td>0</td>\n",
              "      <td>0</td>\n",
              "      <td>0</td>\n",
              "      <td>1</td>\n",
              "    </tr>\n",
              "    <tr>\n",
              "      <th>4</th>\n",
              "      <td>1.0</td>\n",
              "      <td>12.2875</td>\n",
              "      <td>1</td>\n",
              "      <td>0</td>\n",
              "      <td>0</td>\n",
              "      <td>0</td>\n",
              "      <td>1</td>\n",
              "      <td>0</td>\n",
              "      <td>1</td>\n",
              "      <td>0</td>\n",
              "      <td>0</td>\n",
              "      <td>1</td>\n",
              "    </tr>\n",
              "  </tbody>\n",
              "</table>\n",
              "</div>\n",
              "    <div class=\"colab-df-buttons\">\n",
              "\n",
              "  <div class=\"colab-df-container\">\n",
              "    <button class=\"colab-df-convert\" onclick=\"convertToInteractive('df-b15744f1-da06-44ea-bbc0-3e21b0f85fbb')\"\n",
              "            title=\"Convert this dataframe to an interactive table.\"\n",
              "            style=\"display:none;\">\n",
              "\n",
              "  <svg xmlns=\"http://www.w3.org/2000/svg\" height=\"24px\" viewBox=\"0 -960 960 960\">\n",
              "    <path d=\"M120-120v-720h720v720H120Zm60-500h600v-160H180v160Zm220 220h160v-160H400v160Zm0 220h160v-160H400v160ZM180-400h160v-160H180v160Zm440 0h160v-160H620v160ZM180-180h160v-160H180v160Zm440 0h160v-160H620v160Z\"/>\n",
              "  </svg>\n",
              "    </button>\n",
              "\n",
              "  <style>\n",
              "    .colab-df-container {\n",
              "      display:flex;\n",
              "      gap: 12px;\n",
              "    }\n",
              "\n",
              "    .colab-df-convert {\n",
              "      background-color: #E8F0FE;\n",
              "      border: none;\n",
              "      border-radius: 50%;\n",
              "      cursor: pointer;\n",
              "      display: none;\n",
              "      fill: #1967D2;\n",
              "      height: 32px;\n",
              "      padding: 0 0 0 0;\n",
              "      width: 32px;\n",
              "    }\n",
              "\n",
              "    .colab-df-convert:hover {\n",
              "      background-color: #E2EBFA;\n",
              "      box-shadow: 0px 1px 2px rgba(60, 64, 67, 0.3), 0px 1px 3px 1px rgba(60, 64, 67, 0.15);\n",
              "      fill: #174EA6;\n",
              "    }\n",
              "\n",
              "    .colab-df-buttons div {\n",
              "      margin-bottom: 4px;\n",
              "    }\n",
              "\n",
              "    [theme=dark] .colab-df-convert {\n",
              "      background-color: #3B4455;\n",
              "      fill: #D2E3FC;\n",
              "    }\n",
              "\n",
              "    [theme=dark] .colab-df-convert:hover {\n",
              "      background-color: #434B5C;\n",
              "      box-shadow: 0px 1px 3px 1px rgba(0, 0, 0, 0.15);\n",
              "      filter: drop-shadow(0px 1px 2px rgba(0, 0, 0, 0.3));\n",
              "      fill: #FFFFFF;\n",
              "    }\n",
              "  </style>\n",
              "\n",
              "    <script>\n",
              "      const buttonEl =\n",
              "        document.querySelector('#df-b15744f1-da06-44ea-bbc0-3e21b0f85fbb button.colab-df-convert');\n",
              "      buttonEl.style.display =\n",
              "        google.colab.kernel.accessAllowed ? 'block' : 'none';\n",
              "\n",
              "      async function convertToInteractive(key) {\n",
              "        const element = document.querySelector('#df-b15744f1-da06-44ea-bbc0-3e21b0f85fbb');\n",
              "        const dataTable =\n",
              "          await google.colab.kernel.invokeFunction('convertToInteractive',\n",
              "                                                    [key], {});\n",
              "        if (!dataTable) return;\n",
              "\n",
              "        const docLinkHtml = 'Like what you see? Visit the ' +\n",
              "          '<a target=\"_blank\" href=https://colab.research.google.com/notebooks/data_table.ipynb>data table notebook</a>'\n",
              "          + ' to learn more about interactive tables.';\n",
              "        element.innerHTML = '';\n",
              "        dataTable['output_type'] = 'display_data';\n",
              "        await google.colab.output.renderOutput(dataTable, element);\n",
              "        const docLink = document.createElement('div');\n",
              "        docLink.innerHTML = docLinkHtml;\n",
              "        element.appendChild(docLink);\n",
              "      }\n",
              "    </script>\n",
              "  </div>\n",
              "\n",
              "\n",
              "<div id=\"df-335f9e65-4bb2-402f-a646-8a3aca2c29b0\">\n",
              "  <button class=\"colab-df-quickchart\" onclick=\"quickchart('df-335f9e65-4bb2-402f-a646-8a3aca2c29b0')\"\n",
              "            title=\"Suggest charts\"\n",
              "            style=\"display:none;\">\n",
              "\n",
              "<svg xmlns=\"http://www.w3.org/2000/svg\" height=\"24px\"viewBox=\"0 0 24 24\"\n",
              "     width=\"24px\">\n",
              "    <g>\n",
              "        <path d=\"M19 3H5c-1.1 0-2 .9-2 2v14c0 1.1.9 2 2 2h14c1.1 0 2-.9 2-2V5c0-1.1-.9-2-2-2zM9 17H7v-7h2v7zm4 0h-2V7h2v10zm4 0h-2v-4h2v4z\"/>\n",
              "    </g>\n",
              "</svg>\n",
              "  </button>\n",
              "\n",
              "<style>\n",
              "  .colab-df-quickchart {\n",
              "      --bg-color: #E8F0FE;\n",
              "      --fill-color: #1967D2;\n",
              "      --hover-bg-color: #E2EBFA;\n",
              "      --hover-fill-color: #174EA6;\n",
              "      --disabled-fill-color: #AAA;\n",
              "      --disabled-bg-color: #DDD;\n",
              "  }\n",
              "\n",
              "  [theme=dark] .colab-df-quickchart {\n",
              "      --bg-color: #3B4455;\n",
              "      --fill-color: #D2E3FC;\n",
              "      --hover-bg-color: #434B5C;\n",
              "      --hover-fill-color: #FFFFFF;\n",
              "      --disabled-bg-color: #3B4455;\n",
              "      --disabled-fill-color: #666;\n",
              "  }\n",
              "\n",
              "  .colab-df-quickchart {\n",
              "    background-color: var(--bg-color);\n",
              "    border: none;\n",
              "    border-radius: 50%;\n",
              "    cursor: pointer;\n",
              "    display: none;\n",
              "    fill: var(--fill-color);\n",
              "    height: 32px;\n",
              "    padding: 0;\n",
              "    width: 32px;\n",
              "  }\n",
              "\n",
              "  .colab-df-quickchart:hover {\n",
              "    background-color: var(--hover-bg-color);\n",
              "    box-shadow: 0 1px 2px rgba(60, 64, 67, 0.3), 0 1px 3px 1px rgba(60, 64, 67, 0.15);\n",
              "    fill: var(--button-hover-fill-color);\n",
              "  }\n",
              "\n",
              "  .colab-df-quickchart-complete:disabled,\n",
              "  .colab-df-quickchart-complete:disabled:hover {\n",
              "    background-color: var(--disabled-bg-color);\n",
              "    fill: var(--disabled-fill-color);\n",
              "    box-shadow: none;\n",
              "  }\n",
              "\n",
              "  .colab-df-spinner {\n",
              "    border: 2px solid var(--fill-color);\n",
              "    border-color: transparent;\n",
              "    border-bottom-color: var(--fill-color);\n",
              "    animation:\n",
              "      spin 1s steps(1) infinite;\n",
              "  }\n",
              "\n",
              "  @keyframes spin {\n",
              "    0% {\n",
              "      border-color: transparent;\n",
              "      border-bottom-color: var(--fill-color);\n",
              "      border-left-color: var(--fill-color);\n",
              "    }\n",
              "    20% {\n",
              "      border-color: transparent;\n",
              "      border-left-color: var(--fill-color);\n",
              "      border-top-color: var(--fill-color);\n",
              "    }\n",
              "    30% {\n",
              "      border-color: transparent;\n",
              "      border-left-color: var(--fill-color);\n",
              "      border-top-color: var(--fill-color);\n",
              "      border-right-color: var(--fill-color);\n",
              "    }\n",
              "    40% {\n",
              "      border-color: transparent;\n",
              "      border-right-color: var(--fill-color);\n",
              "      border-top-color: var(--fill-color);\n",
              "    }\n",
              "    60% {\n",
              "      border-color: transparent;\n",
              "      border-right-color: var(--fill-color);\n",
              "    }\n",
              "    80% {\n",
              "      border-color: transparent;\n",
              "      border-right-color: var(--fill-color);\n",
              "      border-bottom-color: var(--fill-color);\n",
              "    }\n",
              "    90% {\n",
              "      border-color: transparent;\n",
              "      border-bottom-color: var(--fill-color);\n",
              "    }\n",
              "  }\n",
              "</style>\n",
              "\n",
              "  <script>\n",
              "    async function quickchart(key) {\n",
              "      const quickchartButtonEl =\n",
              "        document.querySelector('#' + key + ' button');\n",
              "      quickchartButtonEl.disabled = true;  // To prevent multiple clicks.\n",
              "      quickchartButtonEl.classList.add('colab-df-spinner');\n",
              "      try {\n",
              "        const charts = await google.colab.kernel.invokeFunction(\n",
              "            'suggestCharts', [key], {});\n",
              "      } catch (error) {\n",
              "        console.error('Error during call to suggestCharts:', error);\n",
              "      }\n",
              "      quickchartButtonEl.classList.remove('colab-df-spinner');\n",
              "      quickchartButtonEl.classList.add('colab-df-quickchart-complete');\n",
              "    }\n",
              "    (() => {\n",
              "      let quickchartButtonEl =\n",
              "        document.querySelector('#df-335f9e65-4bb2-402f-a646-8a3aca2c29b0 button');\n",
              "      quickchartButtonEl.style.display =\n",
              "        google.colab.kernel.accessAllowed ? 'block' : 'none';\n",
              "    })();\n",
              "  </script>\n",
              "</div>\n",
              "    </div>\n",
              "  </div>\n"
            ],
            "text/plain": [
              "   Age     Fare  Nuclear  Master  Pclass_1  Pclass_2  Pclass_3  Sex_0  Sex_1  \\\n",
              "0  2.0   7.8292        0       0         0         0         1      1      0   \n",
              "1  3.0   7.0000        1       0         0         0         1      0      1   \n",
              "2  3.0   9.6875        0       0         0         1         0      1      0   \n",
              "3  2.0   8.6625        0       0         0         0         1      1      0   \n",
              "4  1.0  12.2875        1       0         0         0         1      0      1   \n",
              "\n",
              "   Embarked_C  Embarked_Q  Embarked_S  \n",
              "0           0           1           0  \n",
              "1           0           0           1  \n",
              "2           0           1           0  \n",
              "3           0           0           1  \n",
              "4           0           0           1  "
            ]
          },
          "execution_count": 100,
          "metadata": {},
          "output_type": "execute_result"
        }
      ],
      "source": [
        "test['FamilySize'] = test['SibSp'] + test['Parch'] + 1\n",
        "test['Nuclear'] = test['FamilySize'].apply(lambda x: 1 if x >=2 and x <= 4 else 0)\n",
        "\n",
        "test['Age'] = test.apply(\n",
        "    lambda row: age_mean.loc[(row['Pclass'], row['Sex'])] if pd.isna(row['Age']) else row['Age'],\n",
        "    axis=1\n",
        ")\n",
        "\n",
        "test['Fare'] = test['Fare'].fillna(test[(test['Pclass_3'] == 1) & (test['Sex_0'] == 1)]['Fare'].mean())\n",
        "\n",
        "test['Name'] = test.Name.str.split(', ').str[1].str.split('. ').str[0]\n",
        "test['Master'] = test.Name.apply(lambda x: 1 if x == 'Master' else 0)\n",
        "\n",
        "test.loc[(test['Age'] < 21.75), 'Age'] = 0\n",
        "test.loc[(test['Age'] >= 21.75) & (test['Age'] < 26.508), 'Age'] = 1\n",
        "test.loc[(test['Age'] >= 26.508) & (test['Age'] < 36.0), 'Age'] = 2\n",
        "test.loc[(test['Age'] >= 36.0), 'Age'] = 3\n",
        "\n",
        "test.loc[test['Sex'] == 'male', 'Sex'] = 0\n",
        "test.loc[test['Sex'] == 'female', 'Sex'] = 1\n",
        "\n",
        "df_pclass = pd.get_dummies(test['Pclass'])\n",
        "df_pclass = df_pclass.rename(columns={1 : 'Pclass_1', 2 : 'Pclass_2', 3 : 'Pclass_3'})\n",
        "\n",
        "test = test.drop(columns = ['PassengerId', 'Name', 'Cabin', 'Ticket', 'SibSp', 'Parch', 'FamilySize', 'Pclass'])\n",
        "test = pd.concat([test, df_pclass], axis=1)\n",
        "test = pd.get_dummies(test)\n",
        "test.head()"
      ]
    },
    {
      "cell_type": "code",
      "execution_count": 115,
      "metadata": {
        "id": "2h3ixqz7JkfU"
      },
      "outputs": [],
      "source": [
        "submission['Survived'] = best_model_rf.predict(test)\n",
        "submission.to_csv(os.path.join(base_path, 'submission_rf.csv'), index=False)"
      ]
    },
    {
      "cell_type": "code",
      "execution_count": 116,
      "metadata": {
        "id": "es3nBjEOJot8"
      },
      "outputs": [],
      "source": [
        "submission['Survived'] = best_model_xgb.predict(test)\n",
        "submission.to_csv(os.path.join(base_path, 'submission_xgb.csv'), index=False)"
      ]
    },
    {
      "cell_type": "code",
      "execution_count": 118,
      "metadata": {
        "colab": {
          "base_uri": "https://localhost:8080/",
          "height": 694
        },
        "id": "WuEzcEjzQdXA",
        "outputId": "a388a607-575c-4dd5-88ac-c1c3f99c67c9"
      },
      "outputs": [
        {
          "data": {
            "text/plain": [
              "<Axes: >"
            ]
          },
          "execution_count": 118,
          "metadata": {},
          "output_type": "execute_result"
        },
        {
          "data": {
            "image/png": "[encoded data removed]",
            "text/plain": [
              "<Figure size 1000x800 with 1 Axes>"
            ]
          },
          "metadata": {},
          "output_type": "display_data"
        }
      ],
      "source": [
        "# 1 Random forest\n",
        "plt.figure(figsize=(10, 8))\n",
        "sns.barplot(x=X.columns, y=best_model_rf.feature_importances_)"
      ]
    },
    {
      "cell_type": "code",
      "execution_count": 119,
      "metadata": {
        "colab": {
          "base_uri": "https://localhost:8080/",
          "height": 694
        },
        "id": "zjOvACfgffgZ",
        "outputId": "5628e4e4-996d-4074-ea85-34115472c1b4"
      },
      "outputs": [
        {
          "data": {
            "text/plain": [
              "<Axes: >"
            ]
          },
          "execution_count": 119,
          "metadata": {},
          "output_type": "execute_result"
        },
        {
          "data": {
            "image/png": "[encoded data removed]",
            "text/plain": [
              "<Figure size 1000x800 with 1 Axes>"
            ]
          },
          "metadata": {},
          "output_type": "display_data"
        }
      ],
      "source": [
        "# 1. XGB\n",
        "plt.figure(figsize=(10, 8))\n",
        "sns.barplot(x=X.columns, y=best_model_xgb.feature_importances_)"
      ]
    }
  ],
  "metadata": {
    "colab": {
      "provenance": []
    },
    "kernelspec": {
      "display_name": "Python 3",
      "name": "python3"
    },
    "language_info": {
      "codemirror_mode": {
        "name": "ipython",
        "version": 3
      },
      "file_extension": ".py",
      "mimetype": "text/x-python",
      "name": "python",
      "nbconvert_exporter": "python",
      "pygments_lexer": "ipython3",
      "version": "3.8.10"
    }
  },
  "nbformat": 4,
  "nbformat_minor": 0
}
